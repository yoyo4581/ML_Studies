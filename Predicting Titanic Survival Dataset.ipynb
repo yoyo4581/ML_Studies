{
 "cells": [
  {
   "cell_type": "code",
   "execution_count": 1,
   "id": "253f8cd0-a117-442b-92d6-1ff074fe0f91",
   "metadata": {},
   "outputs": [],
   "source": [
    "#General Approach, Explore and preprocess the data.\n",
    "#Do 10-fold cross validation with limited parameter values.\n",
    "#On the entire training dataset.\n",
    "#Visualize decision boundaries\n",
    "#Get accuracies, remember that these accuracies will be overfit\n",
    "#Do train-test split of 70-30, and use the training dataset with k-fold\n",
    "#cross-validation to explore the hyperparameter space of the best classifier\n",
    "#Do a final evaluation on the model, report accuracy and full evaluation report\n"
   ]
  },
  {
   "cell_type": "code",
   "execution_count": 2,
   "id": "4f64034a-7440-4866-99d5-5e6fbdabc0b6",
   "metadata": {},
   "outputs": [],
   "source": [
    "import pandas as pd\n",
    "\n",
    "df_test = pd.read_csv('./EP_Dataset5/test.csv')"
   ]
  },
  {
   "cell_type": "code",
   "execution_count": 3,
   "id": "215f5640-05f6-49eb-bf90-392de337f74e",
   "metadata": {},
   "outputs": [
    {
     "name": "stdout",
     "output_type": "stream",
     "text": [
      "Index(['PassengerId', 'Pclass', 'Name', 'Sex', 'Age', 'SibSp', 'Parch',\n",
      "       'Ticket', 'Fare', 'Cabin', 'Embarked'],\n",
      "      dtype='object')\n"
     ]
    }
   ],
   "source": [
    "print(df_test.columns)"
   ]
  },
  {
   "cell_type": "code",
   "execution_count": 4,
   "id": "946f7b00-3820-4150-9880-8ff5db3b1723",
   "metadata": {},
   "outputs": [
    {
     "name": "stdout",
     "output_type": "stream",
     "text": [
      "PassengerId      int64\n",
      "Survived         int64\n",
      "Pclass           int64\n",
      "Name            object\n",
      "Sex             object\n",
      "Age            float64\n",
      "SibSp            int64\n",
      "Parch            int64\n",
      "Ticket          object\n",
      "Fare           float64\n",
      "Cabin           object\n",
      "Embarked        object\n",
      "dtype: object\n"
     ]
    },
    {
     "data": {
      "text/plain": [
       "(891, 12)"
      ]
     },
     "execution_count": 4,
     "metadata": {},
     "output_type": "execute_result"
    }
   ],
   "source": [
    "#labels are in the 'Survived' column. We won't touch the test dataset.\n",
    "\n",
    "df_train = pd.read_csv('./EP_Dataset5/train.csv')\n",
    "print(df_train.dtypes)\n",
    "df_train = df_train.convert_dtypes()\n",
    "df_train.shape"
   ]
  },
  {
   "cell_type": "code",
   "execution_count": 5,
   "id": "0950d58d-58e4-4b7c-8628-91508110a45a",
   "metadata": {},
   "outputs": [
    {
     "data": {
      "text/plain": [
       "<bound method Series.unique of 0             A/5 21171\n",
       "1              PC 17599\n",
       "2      STON/O2. 3101282\n",
       "3                113803\n",
       "4                373450\n",
       "             ...       \n",
       "886              211536\n",
       "887              112053\n",
       "888          W./C. 6607\n",
       "889              111369\n",
       "890              370376\n",
       "Name: Ticket, Length: 891, dtype: string>"
      ]
     },
     "execution_count": 5,
     "metadata": {},
     "output_type": "execute_result"
    }
   ],
   "source": [
    "# PassengerIds are unique to the passengers, this data has high dimensionality and lacks any meaningful information\n",
    "# Names are also unique, too much of a hassle to encode this data.\n",
    "df_train['Ticket'].unique"
   ]
  },
  {
   "cell_type": "code",
   "execution_count": 6,
   "id": "e7cae192-3c46-49f4-ba3b-81792bbecf88",
   "metadata": {},
   "outputs": [
    {
     "name": "stdout",
     "output_type": "stream",
     "text": [
      "[('347082', 7), ('1601', 7), ('CA. 2343', 7), ('3101295', 6), ('CA 2144', 6), ('347088', 6), ('382652', 5), ('S.O.C. 14879', 5), ('349909', 4), ('347077', 4), ('19950', 4), ('W./C. 6608', 4), ('4133', 4), ('LINE', 4), ('113781', 4), ('17421', 4), ('PC 17757', 4), ('113760', 4), ('2666', 4), ('347742', 3), ('SC/Paris 2123', 3), ('PC 17572', 3), ('C.A. 34651', 3), ('371110', 3), ('230080', 3), ('363291', 3), ('35273', 3), ('C.A. 31921', 3), ('110152', 3), ('PC 17755', 3), ('110413', 3), ('PC 17582', 3), ('PC 17760', 3), ('13502', 3), ('239853', 3), ('F.C.C. 13529', 3), ('29106', 3), ('345773', 3), ('248727', 3), ('24160', 3), ('113803', 2), ('237736', 2), ('PP 9549', 2), ('239865', 2), ('PC 17569', 2), ('PC 17604', 2), ('113789', 2), ('345764', 2), ('2651', 2), ('11668', 2)]\n"
     ]
    }
   ],
   "source": [
    "from collections import Counter\n",
    "\n",
    "counts = Counter(df_train['Ticket'])\n",
    "counts = sorted(counts.items(), key=lambda pair: pair[1], reverse=True)\n",
    "\n",
    "print(counts[:50])"
   ]
  },
  {
   "cell_type": "code",
   "execution_count": 7,
   "id": "bfdcc9a3-9830-4c64-b7f3-804846ef39a4",
   "metadata": {},
   "outputs": [
    {
     "name": "stdout",
     "output_type": "stream",
     "text": [
      "[('347082', 7), ('1601', 7), ('CA. 2343', 7), ('3101295', 6), ('CA 2144', 6), ('347088', 6), ('382652', 5), ('S.O.C. 14879', 5), ('349909', 4), ('347077', 4)]\n"
     ]
    }
   ],
   "source": [
    "#First 50 hits show that most of the common ticket types are found in the top 10\n",
    "#Next we will \n",
    "\n",
    "print(counts[:10])"
   ]
  },
  {
   "cell_type": "code",
   "execution_count": 8,
   "id": "460b82a5-6b24-434a-82e5-319418474469",
   "metadata": {},
   "outputs": [
    {
     "name": "stdout",
     "output_type": "stream",
     "text": [
      "K categories for classification= 11 categories, ['347082', '1601', 'CA. 2343', '3101295', 'CA 2144', '347088', '382652', 'S.O.C. 14879', '349909', '347077', 'other']\n"
     ]
    }
   ],
   "source": [
    "# Build the news category list\n",
    "yCategories = [_[0] for _ in counts[:10]]\n",
    "yCategories += ['other']\n",
    "\n",
    "# Sanity check\n",
    "print(f'K categories for classification= {len(yCategories):d} categories, {yCategories}')"
   ]
  },
  {
   "cell_type": "code",
   "execution_count": 9,
   "id": "9ee43095-9f26-492b-932a-826ef6e60ad5",
   "metadata": {},
   "outputs": [
    {
     "name": "stdout",
     "output_type": "stream",
     "text": [
      "N target categories=891\n",
      "['other', 'other', 'other', 'other', 'other', 'other', 'other', '349909', 'other', 'other', 'other', 'other', 'other', '347082', 'other', 'other', '382652', 'other', 'other', 'other', 'other', 'other', 'other', 'other', '349909', '347077', 'other', 'other', 'other', 'other', 'other', 'other', 'other', 'other', 'other', 'other', 'other', 'other', 'other', 'other', 'other', 'other', 'other', 'other', 'other', 'other', 'other', 'other', 'other', 'other']\n"
     ]
    }
   ],
   "source": [
    "yCat = []\n",
    "for cat in df_train['Ticket']:\n",
    "    bFound = False\n",
    "    for _ in yCategories:\n",
    "        if _ in cat:\n",
    "            yCat += [_]\n",
    "            bFound = True\n",
    "            break  # So we add only one category for a news text\n",
    "    if not bFound:\n",
    "        yCat += ['other']\n",
    "        \n",
    "# Sanity check\n",
    "print(f'N target categories={len(yCat):d}')\n",
    "print(yCat[:50])"
   ]
  },
  {
   "cell_type": "code",
   "execution_count": 10,
   "id": "f07d32c0-bc97-45ce-80e6-73bfd64c981a",
   "metadata": {},
   "outputs": [],
   "source": [
    "import numpy as np\n",
    "\n",
    "# Convert to numerical np.array which sklearn requires\n",
    "ydocs = np.array([yCategories.index(_) for _ in yCat])"
   ]
  },
  {
   "cell_type": "code",
   "execution_count": 11,
   "id": "1e6c92fc-790d-4c33-887c-1bb54cb0d6af",
   "metadata": {},
   "outputs": [
    {
     "name": "stdout",
     "output_type": "stream",
     "text": [
      "[10 10 10 10 10 10 10  8 10 10 10 10 10  0 10 10  6 10 10 10 10 10 10 10\n",
      "  8  9 10 10 10 10 10 10 10 10 10 10 10 10 10 10 10 10 10 10 10 10 10 10\n",
      " 10 10]\n"
     ]
    }
   ],
   "source": [
    "print(ydocs[0:50])"
   ]
  },
  {
   "cell_type": "code",
   "execution_count": 12,
   "id": "8839b313-3f4f-4c86-a447-c7dc90cb4762",
   "metadata": {},
   "outputs": [
    {
     "data": {
      "text/plain": [
       "PassengerId      Int64\n",
       "Survived         Int64\n",
       "Pclass           Int64\n",
       "Name            string\n",
       "Sex             string\n",
       "Age            Float64\n",
       "SibSp            Int64\n",
       "Parch            Int64\n",
       "Ticket           int64\n",
       "Fare           Float64\n",
       "Cabin           string\n",
       "Embarked        string\n",
       "dtype: object"
      ]
     },
     "execution_count": 12,
     "metadata": {},
     "output_type": "execute_result"
    }
   ],
   "source": [
    "df_train['Ticket']=ydocs\n",
    "df_train.dtypes"
   ]
  },
  {
   "cell_type": "code",
   "execution_count": 13,
   "id": "481e8f49-1774-4bdd-97d9-128bd1ffe8f7",
   "metadata": {},
   "outputs": [
    {
     "name": "stdout",
     "output_type": "stream",
     "text": [
      "[(<NA>, 687), ('G6', 4), ('C23 C25 C27', 4), ('B96 B98', 4), ('F33', 3), ('E101', 3), ('F2', 3), ('D', 3), ('C22 C26', 3), ('C123', 2), ('D33', 2), ('C52', 2), ('B28', 2), ('C83', 2), ('F G73', 2), ('D26', 2), ('B58 B60', 2), ('C2', 2), ('E33', 2), ('F4', 2), ('D36', 2), ('C93', 2), ('C78', 2), ('D35', 2), ('B77', 2), ('E67', 2), ('C125', 2), ('B49', 2), ('C65', 2), ('B57 B59 B63 B66', 2), ('B18', 2), ('C124', 2), ('B35', 2), ('E44', 2), ('C92', 2), ('D20', 2), ('E25', 2), ('B22', 2), ('C68', 2), ('C126', 2), ('B51 B53 B55', 2), ('B5', 2), ('B20', 2), ('E24', 2), ('E8', 2), ('E121', 2), ('D17', 2), ('C85', 1), ('E46', 1), ('C103', 1), ('D56', 1), ('A6', 1), ('B78', 1), ('B30', 1), ('E31', 1), ('A5', 1), ('D10 D12', 1), ('C110', 1), ('F E69', 1), ('D47', 1), ('B86', 1), ('B19', 1), ('A7', 1), ('C49', 1), ('A32', 1), ('B4', 1), ('B80', 1), ('A31', 1), ('D15', 1), ('C87', 1), ('B94', 1), ('C99', 1), ('C118', 1), ('D7', 1), ('A19', 1), ('C106', 1), ('E36', 1), ('C54', 1), ('C7', 1), ('E34', 1), ('C32', 1), ('C91', 1), ('E40', 1), ('T', 1), ('C128', 1), ('D37', 1), ('E50', 1), ('C82', 1), ('E10', 1), ('A34', 1), ('C104', 1), ('C111', 1), ('E38', 1), ('D21', 1), ('E12', 1), ('E63', 1), ('A14', 1), ('B37', 1), ('C30', 1), ('B79', 1)]\n"
     ]
    }
   ],
   "source": [
    "from collections import Counter\n",
    "\n",
    "counts = Counter(df_train['Cabin'])\n",
    "counts = sorted(counts.items(), key=lambda pair: pair[1], reverse=True)\n",
    "print(counts[:100])"
   ]
  },
  {
   "cell_type": "code",
   "execution_count": 14,
   "id": "8722bee9-9f07-434a-bae7-44e6ac30019f",
   "metadata": {},
   "outputs": [
    {
     "data": {
      "text/plain": [
       "Survived      Int64\n",
       "Pclass        Int64\n",
       "Name         string\n",
       "Sex          string\n",
       "Age         Float64\n",
       "SibSp         Int64\n",
       "Parch         Int64\n",
       "Ticket        int64\n",
       "Fare        Float64\n",
       "Embarked     string\n",
       "dtype: object"
      ]
     },
     "execution_count": 14,
     "metadata": {},
     "output_type": "execute_result"
    }
   ],
   "source": [
    "#The data is very sparse, first, most rooms have no data on them, those that are are single, and the data shows bad distribution.\n",
    "#We should delete this column as it's similar to the Passenger Id.\n",
    "# exclude name and food_id column\n",
    "df_train = df_train.loc[:, ~df_train.columns.isin(['PassengerId', 'Cabin'])]\n",
    "df_train.dtypes"
   ]
  },
  {
   "cell_type": "code",
   "execution_count": 15,
   "id": "74fe8c42-68af-4a6f-94f2-1d584c5643cd",
   "metadata": {},
   "outputs": [
    {
     "data": {
      "text/plain": [
       "array(['S', 'C', 'S', 'S', 'S', 'Q', 'S', 'S', 'S', 'C', 'S', 'S', 'S',\n",
       "       'S', 'S', 'S', 'Q', 'S', 'S', 'C', 'S', 'S', 'Q', 'S', 'S', 'S',\n",
       "       'C', 'S', 'Q', 'S', 'C', 'C', 'Q', 'S', 'C', 'S', 'C', 'S', 'S',\n",
       "       'C', 'S', 'S', 'C', 'C', 'Q', 'S', 'Q', 'Q', 'C', 'S', 'S', 'S',\n",
       "       'C', 'S', 'C', 'S', 'S', 'C', 'S', 'S', 'C', <NA>, 'S', 'S', 'C',\n",
       "       'C', 'S', 'S', 'S', 'S', 'S', 'S', 'S', 'C', 'S', 'S', 'S', 'S',\n",
       "       'S', 'S', 'S', 'S', 'Q', 'S', 'S', 'S', 'S', 'S', 'S', 'S', 'S',\n",
       "       'S', 'S', 'S', 'S', 'S', 'C', 'C', 'S', 'S', 'S', 'S', 'S', 'S',\n",
       "       'S', 'S', 'S', 'S', 'S', 'Q', 'S', 'C', 'S', 'S', 'C', 'S', 'Q',\n",
       "       'S', 'C', 'S', 'S', 'S', 'C', 'S', 'S', 'C', 'Q', 'S', 'C', 'S',\n",
       "       'C', 'S', 'S', 'S', 'S', 'C', 'S', 'S', 'S', 'C', 'C', 'S', 'S',\n",
       "       'Q', 'S', 'S', 'S', 'S', 'S', 'S', 'S', 'S', 'S', 'S', 'S', 'C',\n",
       "       'Q', 'S', 'S', 'S', 'S', 'S', 'S', 'S', 'S', 'S', 'S', 'S', 'S',\n",
       "       'S', 'S', 'Q', 'S', 'S', 'C', 'S', 'S', 'C', 'S', 'S', 'S', 'C',\n",
       "       'S', 'S', 'S', 'S', 'Q', 'S', 'Q', 'S', 'S', 'S', 'S', 'S', 'C',\n",
       "       'C', 'Q', 'S', 'Q', 'S', 'S', 'S', 'S', 'C', 'S', 'S', 'S', 'C',\n",
       "       'Q', 'C', 'S', 'S', 'S', 'S', 'Q', 'C', 'S', 'S', 'C', 'S', 'S',\n",
       "       'S', 'S', 'S', 'S', 'S', 'S', 'S', 'S', 'S', 'S', 'S', 'S', 'S',\n",
       "       'S', 'S', 'S', 'S', 'S', 'S', 'C', 'Q', 'S', 'S', 'C', 'Q', 'S',\n",
       "       'S', 'S', 'S', 'S', 'S', 'S', 'S', 'S', 'C', 'C', 'S', 'C', 'S',\n",
       "       'Q', 'S', 'S', 'S', 'Q', 'S', 'S', 'S', 'S', 'S', 'S', 'S', 'S',\n",
       "       'C', 'Q', 'S', 'S', 'S', 'Q', 'S', 'Q', 'S', 'S', 'S', 'S', 'C',\n",
       "       'S', 'S', 'S', 'Q', 'S', 'C', 'C', 'S', 'S', 'C', 'C', 'S', 'S',\n",
       "       'C', 'Q', 'Q', 'S', 'Q', 'S', 'S', 'C', 'C', 'C', 'C', 'C', 'C',\n",
       "       'S', 'S', 'S', 'S', 'S', 'S', 'S', 'C', 'S', 'S', 'Q', 'S', 'S',\n",
       "       'C', 'S', 'S', 'S', 'C', 'Q', 'S', 'S', 'S', 'S', 'S', 'S', 'C',\n",
       "       'S', 'S', 'S', 'S', 'S', 'S', 'S', 'S', 'S', 'S', 'S', 'S', 'S',\n",
       "       'S', 'C', 'S', 'C', 'S', 'S', 'S', 'Q', 'Q', 'S', 'C', 'C', 'S',\n",
       "       'Q', 'S', 'C', 'C', 'Q', 'C', 'C', 'S', 'S', 'C', 'S', 'C', 'S',\n",
       "       'C', 'C', 'S', 'C', 'C', 'S', 'S', 'S', 'S', 'S', 'S', 'Q', 'C',\n",
       "       'S', 'S', 'S', 'C', 'S', 'S', 'S', 'S', 'S', 'S', 'S', 'S', 'S',\n",
       "       'S', 'S', 'S', 'S', 'S', 'S', 'S', 'S', 'Q', 'Q', 'S', 'S', 'S',\n",
       "       'S', 'S', 'S', 'S', 'C', 'Q', 'S', 'S', 'S', 'S', 'S', 'S', 'Q',\n",
       "       'S', 'S', 'S', 'S', 'S', 'S', 'S', 'S', 'S', 'S', 'S', 'S', 'S',\n",
       "       'S', 'S', 'S', 'S', 'S', 'S', 'C', 'S', 'S', 'S', 'C', 'C', 'S',\n",
       "       'C', 'S', 'S', 'S', 'Q', 'S', 'S', 'S', 'S', 'S', 'S', 'S', 'S',\n",
       "       'Q', 'C', 'S', 'S', 'S', 'C', 'S', 'S', 'S', 'S', 'S', 'S', 'S',\n",
       "       'S', 'S', 'S', 'C', 'S', 'S', 'C', 'S', 'S', 'S', 'S', 'S', 'C',\n",
       "       'S', 'C', 'C', 'S', 'S', 'S', 'S', 'Q', 'Q', 'S', 'S', 'C', 'S',\n",
       "       'S', 'S', 'S', 'Q', 'S', 'S', 'C', 'S', 'S', 'S', 'Q', 'S', 'S',\n",
       "       'S', 'S', 'C', 'C', 'C', 'Q', 'S', 'S', 'S', 'S', 'S', 'C', 'C',\n",
       "       'C', 'S', 'S', 'S', 'C', 'S', 'C', 'S', 'S', 'S', 'S', 'C', 'S',\n",
       "       'S', 'C', 'S', 'S', 'C', 'S', 'Q', 'C', 'S', 'S', 'C', 'C', 'S',\n",
       "       'S', 'Q', 'S', 'S', 'S', 'S', 'S', 'S', 'S', 'C', 'S', 'S', 'S',\n",
       "       'S', 'Q', 'S', 'S', 'S', 'S', 'C', 'S', 'S', 'C', 'S', 'C', 'C',\n",
       "       'S', 'S', 'C', 'S', 'S', 'S', 'C', 'S', 'Q', 'S', 'S', 'S', 'S',\n",
       "       'C', 'C', 'S', 'S', 'S', 'S', 'C', 'S', 'S', 'S', 'C', 'S', 'S',\n",
       "       'S', 'Q', 'Q', 'S', 'S', 'S', 'S', 'S', 'S', 'C', 'S', 'C', 'S',\n",
       "       'S', 'S', 'Q', 'S', 'S', 'Q', 'S', 'S', 'C', 'S', 'S', 'S', 'S',\n",
       "       'S', 'S', 'S', 'S', 'C', 'S', 'S', 'C', 'C', 'S', 'C', 'S', 'S',\n",
       "       'S', 'S', 'S', 'Q', 'Q', 'S', 'S', 'Q', 'S', 'C', 'S', 'C', 'S',\n",
       "       'S', 'S', 'S', 'S', 'S', 'S', 'S', 'S', 'S', 'S', 'S', 'S', 'S',\n",
       "       'S', 'S', 'S', 'C', 'Q', 'C', 'S', 'S', 'S', 'C', 'S', 'S', 'S',\n",
       "       'S', 'S', 'C', 'S', 'C', 'S', 'S', 'S', 'Q', 'C', 'S', 'C', 'S',\n",
       "       'C', 'Q', 'S', 'S', 'S', 'S', 'S', 'C', 'C', 'S', 'S', 'S', 'S',\n",
       "       'S', 'C', 'S', 'Q', 'S', 'S', 'S', 'S', 'S', 'S', 'S', 'S', 'Q',\n",
       "       'S', 'S', 'S', 'C', 'S', 'S', 'S', 'S', 'S', 'C', 'S', 'S', 'S',\n",
       "       'S', 'C', 'S', 'S', 'S', 'S', 'S', 'S', 'Q', 'S', 'S', 'S', 'S',\n",
       "       'S', 'S', 'S', 'S', 'S', 'S', 'S', 'S', 'C', 'S', 'S', 'S', 'C',\n",
       "       'Q', 'Q', 'S', 'S', 'S', 'S', 'C', 'S', 'S', 'Q', 'S', 'Q', 'S',\n",
       "       'C', 'S', 'S', 'S', 'S', 'S', 'S', 'Q', 'S', 'C', 'Q', 'S', 'S',\n",
       "       'C', 'S', 'S', 'S', 'S', 'C', 'S', 'S', 'S', 'S', 'C', 'S', 'S',\n",
       "       'S', 'S', 'S', 'S', 'S', 'S', 'S', 'S', 'S', 'S', 'S', 'C', 'S',\n",
       "       'S', 'S', 'S', 'S', 'S', 'S', 'Q', 'S', 'C', 'Q', <NA>, 'C', 'S',\n",
       "       'C', 'S', 'S', 'C', 'S', 'S', 'S', 'C', 'S', 'S', 'C', 'C', 'S',\n",
       "       'S', 'S', 'C', 'S', 'C', 'S', 'S', 'C', 'S', 'S', 'S', 'S', 'S',\n",
       "       'C', 'C', 'S', 'S', 'S', 'S', 'S', 'S', 'C', 'S', 'S', 'S', 'S',\n",
       "       'S', 'S', 'S', 'C', 'C', 'S', 'S', 'S', 'C', 'S', 'S', 'S', 'S',\n",
       "       'S', 'Q', 'S', 'S', 'S', 'C', 'Q'], dtype=object)"
      ]
     },
     "execution_count": 15,
     "metadata": {},
     "output_type": "execute_result"
    }
   ],
   "source": [
    "from sklearn.preprocessing import LabelEncoder\n",
    "\n",
    "\n",
    "np.array(df_train['Embarked']) "
   ]
  },
  {
   "cell_type": "code",
   "execution_count": 16,
   "id": "5960e263-2c92-4b7d-ab41-5be51bfa0115",
   "metadata": {},
   "outputs": [],
   "source": [
    "df_train.dropna(subset=['Embarked'], inplace = True)"
   ]
  },
  {
   "cell_type": "code",
   "execution_count": 17,
   "id": "55529183-e35d-4fe4-9aff-a90535e9b03c",
   "metadata": {},
   "outputs": [
    {
     "data": {
      "text/plain": [
       "array(['S', 'C', 'S', 'S', 'S', 'Q', 'S', 'S', 'S', 'C', 'S', 'S', 'S',\n",
       "       'S', 'S', 'S', 'Q', 'S', 'S', 'C', 'S', 'S', 'Q', 'S', 'S', 'S',\n",
       "       'C', 'S', 'Q', 'S', 'C', 'C', 'Q', 'S', 'C', 'S', 'C', 'S', 'S',\n",
       "       'C', 'S', 'S', 'C', 'C', 'Q', 'S', 'Q', 'Q', 'C', 'S', 'S', 'S',\n",
       "       'C', 'S', 'C', 'S', 'S', 'C', 'S', 'S', 'C', 'S', 'S', 'C', 'C',\n",
       "       'S', 'S', 'S', 'S', 'S', 'S', 'S', 'C', 'S', 'S', 'S', 'S', 'S',\n",
       "       'S', 'S', 'S', 'Q', 'S', 'S', 'S', 'S', 'S', 'S', 'S', 'S', 'S',\n",
       "       'S', 'S', 'S', 'S', 'C', 'C', 'S', 'S', 'S', 'S', 'S', 'S', 'S',\n",
       "       'S', 'S', 'S', 'S', 'Q', 'S', 'C', 'S', 'S', 'C', 'S', 'Q', 'S',\n",
       "       'C', 'S', 'S', 'S', 'C', 'S', 'S', 'C', 'Q', 'S', 'C', 'S', 'C',\n",
       "       'S', 'S', 'S', 'S', 'C', 'S', 'S', 'S', 'C', 'C', 'S', 'S', 'Q',\n",
       "       'S', 'S', 'S', 'S', 'S', 'S', 'S', 'S', 'S', 'S', 'S', 'C', 'Q',\n",
       "       'S', 'S', 'S', 'S', 'S', 'S', 'S', 'S', 'S', 'S', 'S', 'S', 'S',\n",
       "       'S', 'Q', 'S', 'S', 'C', 'S', 'S', 'C', 'S', 'S', 'S', 'C', 'S',\n",
       "       'S', 'S', 'S', 'Q', 'S', 'Q', 'S', 'S', 'S', 'S', 'S', 'C', 'C',\n",
       "       'Q', 'S', 'Q', 'S', 'S', 'S', 'S', 'C', 'S', 'S', 'S', 'C', 'Q',\n",
       "       'C', 'S', 'S', 'S', 'S', 'Q', 'C', 'S', 'S', 'C', 'S', 'S', 'S',\n",
       "       'S', 'S', 'S', 'S', 'S', 'S', 'S', 'S', 'S', 'S', 'S', 'S', 'S',\n",
       "       'S', 'S', 'S', 'S', 'S', 'C', 'Q', 'S', 'S', 'C', 'Q', 'S', 'S',\n",
       "       'S', 'S', 'S', 'S', 'S', 'S', 'S', 'C', 'C', 'S', 'C', 'S', 'Q',\n",
       "       'S', 'S', 'S', 'Q', 'S', 'S', 'S', 'S', 'S', 'S', 'S', 'S', 'C',\n",
       "       'Q', 'S', 'S', 'S', 'Q', 'S', 'Q', 'S', 'S', 'S', 'S', 'C', 'S',\n",
       "       'S', 'S', 'Q', 'S', 'C', 'C', 'S', 'S', 'C', 'C', 'S', 'S', 'C',\n",
       "       'Q', 'Q', 'S', 'Q', 'S', 'S', 'C', 'C', 'C', 'C', 'C', 'C', 'S',\n",
       "       'S', 'S', 'S', 'S', 'S', 'S', 'C', 'S', 'S', 'Q', 'S', 'S', 'C',\n",
       "       'S', 'S', 'S', 'C', 'Q', 'S', 'S', 'S', 'S', 'S', 'S', 'C', 'S',\n",
       "       'S', 'S', 'S', 'S', 'S', 'S', 'S', 'S', 'S', 'S', 'S', 'S', 'S',\n",
       "       'C', 'S', 'C', 'S', 'S', 'S', 'Q', 'Q', 'S', 'C', 'C', 'S', 'Q',\n",
       "       'S', 'C', 'C', 'Q', 'C', 'C', 'S', 'S', 'C', 'S', 'C', 'S', 'C',\n",
       "       'C', 'S', 'C', 'C', 'S', 'S', 'S', 'S', 'S', 'S', 'Q', 'C', 'S',\n",
       "       'S', 'S', 'C', 'S', 'S', 'S', 'S', 'S', 'S', 'S', 'S', 'S', 'S',\n",
       "       'S', 'S', 'S', 'S', 'S', 'S', 'S', 'Q', 'Q', 'S', 'S', 'S', 'S',\n",
       "       'S', 'S', 'S', 'C', 'Q', 'S', 'S', 'S', 'S', 'S', 'S', 'Q', 'S',\n",
       "       'S', 'S', 'S', 'S', 'S', 'S', 'S', 'S', 'S', 'S', 'S', 'S', 'S',\n",
       "       'S', 'S', 'S', 'S', 'S', 'C', 'S', 'S', 'S', 'C', 'C', 'S', 'C',\n",
       "       'S', 'S', 'S', 'Q', 'S', 'S', 'S', 'S', 'S', 'S', 'S', 'S', 'Q',\n",
       "       'C', 'S', 'S', 'S', 'C', 'S', 'S', 'S', 'S', 'S', 'S', 'S', 'S',\n",
       "       'S', 'S', 'C', 'S', 'S', 'C', 'S', 'S', 'S', 'S', 'S', 'C', 'S',\n",
       "       'C', 'C', 'S', 'S', 'S', 'S', 'Q', 'Q', 'S', 'S', 'C', 'S', 'S',\n",
       "       'S', 'S', 'Q', 'S', 'S', 'C', 'S', 'S', 'S', 'Q', 'S', 'S', 'S',\n",
       "       'S', 'C', 'C', 'C', 'Q', 'S', 'S', 'S', 'S', 'S', 'C', 'C', 'C',\n",
       "       'S', 'S', 'S', 'C', 'S', 'C', 'S', 'S', 'S', 'S', 'C', 'S', 'S',\n",
       "       'C', 'S', 'S', 'C', 'S', 'Q', 'C', 'S', 'S', 'C', 'C', 'S', 'S',\n",
       "       'Q', 'S', 'S', 'S', 'S', 'S', 'S', 'S', 'C', 'S', 'S', 'S', 'S',\n",
       "       'Q', 'S', 'S', 'S', 'S', 'C', 'S', 'S', 'C', 'S', 'C', 'C', 'S',\n",
       "       'S', 'C', 'S', 'S', 'S', 'C', 'S', 'Q', 'S', 'S', 'S', 'S', 'C',\n",
       "       'C', 'S', 'S', 'S', 'S', 'C', 'S', 'S', 'S', 'C', 'S', 'S', 'S',\n",
       "       'Q', 'Q', 'S', 'S', 'S', 'S', 'S', 'S', 'C', 'S', 'C', 'S', 'S',\n",
       "       'S', 'Q', 'S', 'S', 'Q', 'S', 'S', 'C', 'S', 'S', 'S', 'S', 'S',\n",
       "       'S', 'S', 'S', 'C', 'S', 'S', 'C', 'C', 'S', 'C', 'S', 'S', 'S',\n",
       "       'S', 'S', 'Q', 'Q', 'S', 'S', 'Q', 'S', 'C', 'S', 'C', 'S', 'S',\n",
       "       'S', 'S', 'S', 'S', 'S', 'S', 'S', 'S', 'S', 'S', 'S', 'S', 'S',\n",
       "       'S', 'S', 'C', 'Q', 'C', 'S', 'S', 'S', 'C', 'S', 'S', 'S', 'S',\n",
       "       'S', 'C', 'S', 'C', 'S', 'S', 'S', 'Q', 'C', 'S', 'C', 'S', 'C',\n",
       "       'Q', 'S', 'S', 'S', 'S', 'S', 'C', 'C', 'S', 'S', 'S', 'S', 'S',\n",
       "       'C', 'S', 'Q', 'S', 'S', 'S', 'S', 'S', 'S', 'S', 'S', 'Q', 'S',\n",
       "       'S', 'S', 'C', 'S', 'S', 'S', 'S', 'S', 'C', 'S', 'S', 'S', 'S',\n",
       "       'C', 'S', 'S', 'S', 'S', 'S', 'S', 'Q', 'S', 'S', 'S', 'S', 'S',\n",
       "       'S', 'S', 'S', 'S', 'S', 'S', 'S', 'C', 'S', 'S', 'S', 'C', 'Q',\n",
       "       'Q', 'S', 'S', 'S', 'S', 'C', 'S', 'S', 'Q', 'S', 'Q', 'S', 'C',\n",
       "       'S', 'S', 'S', 'S', 'S', 'S', 'Q', 'S', 'C', 'Q', 'S', 'S', 'C',\n",
       "       'S', 'S', 'S', 'S', 'C', 'S', 'S', 'S', 'S', 'C', 'S', 'S', 'S',\n",
       "       'S', 'S', 'S', 'S', 'S', 'S', 'S', 'S', 'S', 'S', 'C', 'S', 'S',\n",
       "       'S', 'S', 'S', 'S', 'S', 'Q', 'S', 'C', 'Q', 'C', 'S', 'C', 'S',\n",
       "       'S', 'C', 'S', 'S', 'S', 'C', 'S', 'S', 'C', 'C', 'S', 'S', 'S',\n",
       "       'C', 'S', 'C', 'S', 'S', 'C', 'S', 'S', 'S', 'S', 'S', 'C', 'C',\n",
       "       'S', 'S', 'S', 'S', 'S', 'S', 'C', 'S', 'S', 'S', 'S', 'S', 'S',\n",
       "       'S', 'C', 'C', 'S', 'S', 'S', 'C', 'S', 'S', 'S', 'S', 'S', 'Q',\n",
       "       'S', 'S', 'S', 'C', 'Q'], dtype=object)"
      ]
     },
     "execution_count": 17,
     "metadata": {},
     "output_type": "execute_result"
    }
   ],
   "source": [
    "np.array(df_train['Embarked'])"
   ]
  },
  {
   "cell_type": "code",
   "execution_count": 18,
   "id": "4cc05a40-e69c-4625-b016-c61657278b6d",
   "metadata": {},
   "outputs": [],
   "source": [
    "from sklearn.preprocessing import LabelEncoder\n",
    "le = LabelEncoder()\n",
    "le.fit(np.array(df_train['Embarked']))\n",
    "le.classes_\n",
    "df_train['Embarked'] = le.transform(df_train['Embarked'])"
   ]
  },
  {
   "cell_type": "code",
   "execution_count": 19,
   "id": "cfa13fac-a31c-4da6-8cdc-84bd815555c0",
   "metadata": {},
   "outputs": [
    {
     "data": {
      "text/plain": [
       "Survived      Int64\n",
       "Pclass        Int64\n",
       "Name         string\n",
       "Sex          string\n",
       "Age         Float64\n",
       "SibSp         Int64\n",
       "Parch         Int64\n",
       "Ticket        int64\n",
       "Fare        Float64\n",
       "Embarked      int64\n",
       "dtype: object"
      ]
     },
     "execution_count": 19,
     "metadata": {},
     "output_type": "execute_result"
    }
   ],
   "source": [
    "#S->2 C->0 Q->1\n",
    "\n",
    "df_train.dtypes"
   ]
  },
  {
   "cell_type": "code",
   "execution_count": 20,
   "id": "73277e6a-5b49-497f-862c-921e13b75013",
   "metadata": {},
   "outputs": [
    {
     "data": {
      "text/plain": [
       "Survived      Int64\n",
       "Pclass        Int64\n",
       "Sex          string\n",
       "Age         Float64\n",
       "SibSp         Int64\n",
       "Parch         Int64\n",
       "Ticket        int64\n",
       "Fare        Float64\n",
       "Embarked      int64\n",
       "dtype: object"
      ]
     },
     "execution_count": 20,
     "metadata": {},
     "output_type": "execute_result"
    }
   ],
   "source": [
    "#The name data could also be removed, since it's difficult to incorporate that information into our classifier\n",
    "df_train = df_train.loc[:, df_train.columns != 'Name']\n",
    "df_train.dtypes"
   ]
  },
  {
   "cell_type": "code",
   "execution_count": 21,
   "id": "bbcb1e63-47c7-4578-9c68-4dc4b5ac6449",
   "metadata": {},
   "outputs": [],
   "source": [
    "#Finally, sex needs binary encoding\n",
    "\n",
    "se = LabelEncoder()\n",
    "se.fit(np.array(df_train['Sex']))\n",
    "se.classes_\n",
    "df_train['Sex'] = se.transform(df_train['Sex'])"
   ]
  },
  {
   "cell_type": "code",
   "execution_count": 22,
   "id": "248ad542-8d4f-4fec-be12-2639a6639172",
   "metadata": {},
   "outputs": [
    {
     "data": {
      "text/plain": [
       "0      1\n",
       "1      0\n",
       "2      0\n",
       "3      0\n",
       "4      1\n",
       "      ..\n",
       "886    1\n",
       "887    0\n",
       "888    0\n",
       "889    1\n",
       "890    1\n",
       "Name: Sex, Length: 889, dtype: int64"
      ]
     },
     "execution_count": 22,
     "metadata": {},
     "output_type": "execute_result"
    }
   ],
   "source": [
    "#male is 1, female is 0\n",
    "df_train['Sex']"
   ]
  },
  {
   "cell_type": "code",
   "execution_count": 23,
   "id": "68f0b928-fb95-4115-82d1-3397c4e85636",
   "metadata": {},
   "outputs": [
    {
     "data": {
      "text/plain": [
       "Survived      Int64\n",
       "Pclass        Int64\n",
       "Sex           Int64\n",
       "Age         Float64\n",
       "SibSp         Int64\n",
       "Parch         Int64\n",
       "Ticket        Int64\n",
       "Fare        Float64\n",
       "Embarked      Int64\n",
       "dtype: object"
      ]
     },
     "execution_count": 23,
     "metadata": {},
     "output_type": "execute_result"
    }
   ],
   "source": [
    "df_train = df_train.convert_dtypes()\n",
    "df_train.dtypes"
   ]
  },
  {
   "cell_type": "code",
   "execution_count": 24,
   "id": "eb0ccbb7-debf-473c-9eb1-3bd9128564d4",
   "metadata": {},
   "outputs": [
    {
     "name": "stdout",
     "output_type": "stream",
     "text": [
      "<class 'pandas.core.frame.DataFrame'>\n",
      "Int64Index: 889 entries, 0 to 890\n",
      "Data columns (total 9 columns):\n",
      " #   Column    Non-Null Count  Dtype  \n",
      "---  ------    --------------  -----  \n",
      " 0   Survived  889 non-null    Int64  \n",
      " 1   Pclass    889 non-null    Int64  \n",
      " 2   Sex       889 non-null    Int64  \n",
      " 3   Age       712 non-null    Float64\n",
      " 4   SibSp     889 non-null    Int64  \n",
      " 5   Parch     889 non-null    Int64  \n",
      " 6   Ticket    889 non-null    Int64  \n",
      " 7   Fare      889 non-null    Float64\n",
      " 8   Embarked  889 non-null    Int64  \n",
      "dtypes: Float64(2), Int64(7)\n",
      "memory usage: 77.3 KB\n"
     ]
    }
   ],
   "source": [
    "#Now that our data is of the correct format, and encoded, we will do a final check for missing values.\n",
    "df_train.info()"
   ]
  },
  {
   "cell_type": "code",
   "execution_count": 25,
   "id": "f824da4e-3aca-496e-8052-3d392bb4a491",
   "metadata": {},
   "outputs": [
    {
     "name": "stdout",
     "output_type": "stream",
     "text": [
      "<class 'pandas.core.frame.DataFrame'>\n",
      "Int64Index: 889 entries, 0 to 890\n",
      "Data columns (total 9 columns):\n",
      " #   Column    Non-Null Count  Dtype  \n",
      "---  ------    --------------  -----  \n",
      " 0   Survived  889 non-null    Int64  \n",
      " 1   Pclass    889 non-null    Int64  \n",
      " 2   Sex       889 non-null    Int64  \n",
      " 3   Age       889 non-null    Float64\n",
      " 4   SibSp     889 non-null    Int64  \n",
      " 5   Parch     889 non-null    Int64  \n",
      " 6   Ticket    889 non-null    Int64  \n",
      " 7   Fare      889 non-null    Float64\n",
      " 8   Embarked  889 non-null    Int64  \n",
      "dtypes: Float64(2), Int64(7)\n",
      "memory usage: 77.3 KB\n"
     ]
    }
   ],
   "source": [
    "#A significant portion of the age data is null. One could use the median for missing value imputation,\n",
    "#it's more robus than the mean.\n",
    "df_train['Age'].fillna(df_train['Age'].median(), inplace=True)\n",
    "df_train.info()"
   ]
  },
  {
   "cell_type": "code",
   "execution_count": 26,
   "id": "45ce5ccc-511d-42bf-b47d-ae1ee29274f8",
   "metadata": {},
   "outputs": [
    {
     "name": "stdout",
     "output_type": "stream",
     "text": [
      "<class 'pandas.core.frame.DataFrame'>\n",
      "RangeIndex: 418 entries, 0 to 417\n",
      "Data columns (total 11 columns):\n",
      " #   Column       Non-Null Count  Dtype  \n",
      "---  ------       --------------  -----  \n",
      " 0   PassengerId  418 non-null    int64  \n",
      " 1   Pclass       418 non-null    int64  \n",
      " 2   Name         418 non-null    object \n",
      " 3   Sex          418 non-null    object \n",
      " 4   Age          332 non-null    float64\n",
      " 5   SibSp        418 non-null    int64  \n",
      " 6   Parch        418 non-null    int64  \n",
      " 7   Ticket       418 non-null    object \n",
      " 8   Fare         417 non-null    float64\n",
      " 9   Cabin        91 non-null     object \n",
      " 10  Embarked     418 non-null    object \n",
      "dtypes: float64(2), int64(4), object(5)\n",
      "memory usage: 36.1+ KB\n"
     ]
    }
   ],
   "source": [
    "df_test.info()"
   ]
  },
  {
   "cell_type": "code",
   "execution_count": 27,
   "id": "b6f1bd0c-8c56-4185-9a61-1fe3a8433709",
   "metadata": {},
   "outputs": [
    {
     "name": "stdout",
     "output_type": "stream",
     "text": [
      "0      Q\n",
      "1      S\n",
      "2      Q\n",
      "3      S\n",
      "4      S\n",
      "      ..\n",
      "413    S\n",
      "414    C\n",
      "415    S\n",
      "416    S\n",
      "417    C\n",
      "Name: Embarked, Length: 418, dtype: object\n",
      "0      1\n",
      "1      2\n",
      "2      1\n",
      "3      2\n",
      "4      2\n",
      "      ..\n",
      "413    2\n",
      "414    0\n",
      "415    2\n",
      "416    2\n",
      "417    0\n",
      "Name: Embarked, Length: 418, dtype: int64\n"
     ]
    }
   ],
   "source": [
    "#testing that Embark encoding will produce the same outcome: S->2, C->0, Q->1\n",
    "print(df_test['Embarked'])\n",
    "le = LabelEncoder()\n",
    "le.fit(np.array(df_test['Embarked']))\n",
    "le.classes_\n",
    "df_test['Embarked'] = le.transform(df_test['Embarked'])\n",
    "print(df_test['Embarked'])"
   ]
  },
  {
   "cell_type": "code",
   "execution_count": 28,
   "id": "023d7f52-af45-4003-a5f5-8af811cbfbf3",
   "metadata": {},
   "outputs": [
    {
     "name": "stdout",
     "output_type": "stream",
     "text": [
      "0        male\n",
      "1      female\n",
      "2        male\n",
      "3        male\n",
      "4      female\n",
      "        ...  \n",
      "413      male\n",
      "414    female\n",
      "415      male\n",
      "416      male\n",
      "417      male\n",
      "Name: Sex, Length: 418, dtype: object\n",
      "0      1\n",
      "1      0\n",
      "2      1\n",
      "3      1\n",
      "4      0\n",
      "      ..\n",
      "413    1\n",
      "414    0\n",
      "415    1\n",
      "416    1\n",
      "417    1\n",
      "Name: Sex, Length: 418, dtype: int64\n"
     ]
    }
   ],
   "source": [
    "#male should be 1, female should be 0\n",
    "print(df_test['Sex'])\n",
    "se = LabelEncoder()\n",
    "se.fit(np.array(df_test['Sex']))\n",
    "se.classes_\n",
    "df_test['Sex'] = se.transform(df_test['Sex'])\n",
    "print(df_test['Sex'])"
   ]
  },
  {
   "cell_type": "code",
   "execution_count": 29,
   "id": "f3dabe5d-039d-4cba-9c16-3c593ffcefcb",
   "metadata": {},
   "outputs": [
    {
     "name": "stdout",
     "output_type": "stream",
     "text": [
      "<class 'pandas.core.frame.DataFrame'>\n",
      "RangeIndex: 418 entries, 0 to 417\n",
      "Data columns (total 8 columns):\n",
      " #   Column    Non-Null Count  Dtype  \n",
      "---  ------    --------------  -----  \n",
      " 0   Pclass    418 non-null    Int64  \n",
      " 1   Sex       418 non-null    Int64  \n",
      " 2   Age       418 non-null    Float64\n",
      " 3   SibSp     418 non-null    Int64  \n",
      " 4   Parch     418 non-null    Int64  \n",
      " 5   Ticket    418 non-null    Int64  \n",
      " 6   Fare      417 non-null    Float64\n",
      " 7   Embarked  418 non-null    Int64  \n",
      "dtypes: Float64(2), Int64(6)\n",
      "memory usage: 29.5 KB\n"
     ]
    }
   ],
   "source": [
    "#Now we will do the same for the test dataset  but in one cell\n",
    "from collections import Counter\n",
    "\n",
    "df_test = df_test.convert_dtypes()\n",
    "counts = Counter(df_test['Ticket'])\n",
    "counts = sorted(counts.items(), key=lambda pair: pair[1], reverse=True)\n",
    "\n",
    "# Build the news category list\n",
    "yCategories = [_[0] for _ in counts[:10]]\n",
    "yCategories += ['other']\n",
    "\n",
    "yCat = []\n",
    "for cat in df_test['Ticket']:\n",
    "    bFound = False\n",
    "    for _ in yCategories:\n",
    "        if _ in cat:\n",
    "            yCat += [_]\n",
    "            bFound = True\n",
    "            break  # So we add only one category for a news text\n",
    "    if not bFound:\n",
    "        yCat += ['other']\n",
    "        \n",
    "ydocs = np.array([yCategories.index(_) for _ in yCat])\n",
    "df_test['Ticket']=ydocs\n",
    "df_test.dtypes\n",
    "pass_ID = df_test[['PassengerId']]\n",
    "df_test = df_test.loc[:, ~df_test.columns.isin(['PassengerId', 'Cabin'])]\n",
    "df_test = df_test.loc[:, df_test.columns != 'Name']\n",
    "df_test = df_test.convert_dtypes()\n",
    "df_test['Age'].fillna(df_test['Age'].median(), inplace=True)\n",
    "df_test.info()"
   ]
  },
  {
   "cell_type": "code",
   "execution_count": 30,
   "id": "594c3233-00ee-43f6-acfa-e0de95b72dd2",
   "metadata": {},
   "outputs": [
    {
     "name": "stdout",
     "output_type": "stream",
     "text": [
      "<class 'pandas.core.frame.DataFrame'>\n",
      "RangeIndex: 418 entries, 0 to 417\n",
      "Data columns (total 8 columns):\n",
      " #   Column    Non-Null Count  Dtype  \n",
      "---  ------    --------------  -----  \n",
      " 0   Pclass    418 non-null    Int64  \n",
      " 1   Sex       418 non-null    Int64  \n",
      " 2   Age       418 non-null    Float64\n",
      " 3   SibSp     418 non-null    Int64  \n",
      " 4   Parch     418 non-null    Int64  \n",
      " 5   Ticket    418 non-null    Int64  \n",
      " 6   Fare      418 non-null    Float64\n",
      " 7   Embarked  418 non-null    Int64  \n",
      "dtypes: Float64(2), Int64(6)\n",
      "memory usage: 29.5 KB\n"
     ]
    }
   ],
   "source": [
    "#Fill the last missing fare with the median fare amount\n",
    "df_test['Fare'].fillna(df_test['Fare'].median(), inplace=True)\n",
    "df_test.info()"
   ]
  },
  {
   "cell_type": "markdown",
   "id": "7ed10996-7e85-4577-ba07-a167ac91837b",
   "metadata": {},
   "source": [
    "-------------------------------------------------------------------------------------------------------"
   ]
  },
  {
   "cell_type": "markdown",
   "id": "5848a664-d97b-4435-afe1-9011c25dfacb",
   "metadata": {},
   "source": [
    "Now we will see the distribution of our labels in our training dataset"
   ]
  },
  {
   "cell_type": "code",
   "execution_count": 31,
   "id": "a1df9b76-a956-4c5f-bbad-80136670e394",
   "metadata": {},
   "outputs": [
    {
     "data": {
      "text/plain": [
       "<Axes: >"
      ]
     },
     "execution_count": 31,
     "metadata": {},
     "output_type": "execute_result"
    },
    {
     "data": {
      "image/png": "[encoded data removed]",
      "text/plain": [
       "<Figure size 432x288 with 1 Axes>"
      ]
     },
     "metadata": {
      "needs_background": "light"
     },
     "output_type": "display_data"
    }
   ],
   "source": [
    "df_train['Survived'].hist()"
   ]
  },
  {
   "cell_type": "markdown",
   "id": "fb48838f-5308-47a0-9c58-4773a4c5b397",
   "metadata": {},
   "source": [
    "The class label is very marginally imbalanced. So we do not have to employ stratification. Let's quickly plot a scatter matrix."
   ]
  },
  {
   "cell_type": "code",
   "execution_count": 32,
   "id": "2a637be6-090d-47ad-bac0-58bf5bfa8ece",
   "metadata": {},
   "outputs": [
    {
     "data": {
      "text/plain": [
       "<Figure size 1440x720 with 0 Axes>"
      ]
     },
     "metadata": {},
     "output_type": "display_data"
    },
    {
     "data": {
      "image/png": "[encoded data removed]",
      "text/plain": [
       "<Figure size 1440x720 with 81 Axes>"
      ]
     },
     "metadata": {
      "needs_background": "light"
     },
     "output_type": "display_data"
    }
   ],
   "source": [
    "#Scatter matrix for checking outlier\n",
    "from pandas.plotting import scatter_matrix\n",
    "import matplotlib.pyplot as plt\n",
    "\n",
    "plt.figure(figsize=(20,10))\n",
    "attributes = ['Pclass', 'Sex', 'Age','SibSp','Parch', 'Ticket', 'Fare', 'Embarked', 'Survived']\n",
    "scatter_matrix(df_train[attributes], figsize=(20,10))\n",
    "plt.show()"
   ]
  },
  {
   "cell_type": "markdown",
   "id": "7e0aac5e-560d-4304-a459-6bf0a5c73918",
   "metadata": {},
   "source": [
    "It seems like all but the age data follows a gaussian distribution, and the Fare data seems to have a significant portions of outliers. Now before moving on, I will standardize my numerical data (not the encoded variables): Age and Fare"
   ]
  },
  {
   "cell_type": "code",
   "execution_count": 34,
   "id": "44ed011b-e391-436b-9e7b-edadd3fc497e",
   "metadata": {},
   "outputs": [
    {
     "name": "stdout",
     "output_type": "stream",
     "text": [
      "             Age       Fare\n",
      "count      889.0      889.0\n",
      "mean   29.315152  32.096681\n",
      "std    12.984932  49.697504\n",
      "min         0.42        0.0\n",
      "25%         22.0     7.8958\n",
      "50%         28.0    14.4542\n",
      "75%         35.0       31.0\n",
      "max         80.0   512.3292\n",
      "              Age        Fare\n",
      "count  889.000000  889.000000\n",
      "mean     0.101166    0.763605\n",
      "std      0.998841    2.151016\n",
      "min     -2.121538   -0.625609\n",
      "25%     -0.461538   -0.283862\n",
      "50%      0.000000    0.000000\n",
      "75%      0.538462    0.716138\n",
      "max      4.000000   21.549112\n"
     ]
    }
   ],
   "source": [
    "numerical = ['Age', 'Fare']\n",
    "\n",
    "from sklearn.preprocessing import RobustScaler\n",
    "\n",
    "df_Train = df_train\n",
    "df_Test = df_test\n",
    "\n",
    "\n",
    "rc = RobustScaler()\n",
    "print(df_Train[numerical].describe())\n",
    "df_Train[numerical]= rc.fit_transform(df_Train[numerical])\n",
    "df_Test[numerical] = rc.fit_transform(df_Test[numerical])\n",
    "print(df_Train[numerical].describe())"
   ]
  },
  {
   "cell_type": "code",
   "execution_count": 35,
   "id": "9ebd799c-3933-4575-b19f-095d8d441ecd",
   "metadata": {},
   "outputs": [
    {
     "data": {
      "text/html": [
       "<div>\n",
       "<style scoped>\n",
       "    .dataframe tbody tr th:only-of-type {\n",
       "        vertical-align: middle;\n",
       "    }\n",
       "\n",
       "    .dataframe tbody tr th {\n",
       "        vertical-align: top;\n",
       "    }\n",
       "\n",
       "    .dataframe thead th {\n",
       "        text-align: right;\n",
       "    }\n",
       "</style>\n",
       "<table border=\"1\" class=\"dataframe\">\n",
       "  <thead>\n",
       "    <tr style=\"text-align: right;\">\n",
       "      <th></th>\n",
       "      <th>Survived</th>\n",
       "      <th>Pclass</th>\n",
       "      <th>Sex</th>\n",
       "      <th>Age</th>\n",
       "      <th>SibSp</th>\n",
       "      <th>Parch</th>\n",
       "      <th>Ticket</th>\n",
       "      <th>Fare</th>\n",
       "      <th>Embarked</th>\n",
       "    </tr>\n",
       "  </thead>\n",
       "  <tbody>\n",
       "    <tr>\n",
       "      <th>0</th>\n",
       "      <td>0</td>\n",
       "      <td>3</td>\n",
       "      <td>1</td>\n",
       "      <td>-0.461538</td>\n",
       "      <td>1</td>\n",
       "      <td>0</td>\n",
       "      <td>10</td>\n",
       "      <td>-0.311813</td>\n",
       "      <td>2</td>\n",
       "    </tr>\n",
       "    <tr>\n",
       "      <th>1</th>\n",
       "      <td>1</td>\n",
       "      <td>1</td>\n",
       "      <td>0</td>\n",
       "      <td>0.769231</td>\n",
       "      <td>1</td>\n",
       "      <td>0</td>\n",
       "      <td>10</td>\n",
       "      <td>2.459687</td>\n",
       "      <td>0</td>\n",
       "    </tr>\n",
       "    <tr>\n",
       "      <th>2</th>\n",
       "      <td>1</td>\n",
       "      <td>3</td>\n",
       "      <td>0</td>\n",
       "      <td>-0.153846</td>\n",
       "      <td>0</td>\n",
       "      <td>0</td>\n",
       "      <td>10</td>\n",
       "      <td>-0.282598</td>\n",
       "      <td>2</td>\n",
       "    </tr>\n",
       "    <tr>\n",
       "      <th>3</th>\n",
       "      <td>1</td>\n",
       "      <td>1</td>\n",
       "      <td>0</td>\n",
       "      <td>0.538462</td>\n",
       "      <td>1</td>\n",
       "      <td>0</td>\n",
       "      <td>10</td>\n",
       "      <td>1.672674</td>\n",
       "      <td>2</td>\n",
       "    </tr>\n",
       "    <tr>\n",
       "      <th>4</th>\n",
       "      <td>0</td>\n",
       "      <td>3</td>\n",
       "      <td>1</td>\n",
       "      <td>0.538462</td>\n",
       "      <td>0</td>\n",
       "      <td>0</td>\n",
       "      <td>10</td>\n",
       "      <td>-0.277188</td>\n",
       "      <td>2</td>\n",
       "    </tr>\n",
       "    <tr>\n",
       "      <th>...</th>\n",
       "      <td>...</td>\n",
       "      <td>...</td>\n",
       "      <td>...</td>\n",
       "      <td>...</td>\n",
       "      <td>...</td>\n",
       "      <td>...</td>\n",
       "      <td>...</td>\n",
       "      <td>...</td>\n",
       "      <td>...</td>\n",
       "    </tr>\n",
       "    <tr>\n",
       "      <th>886</th>\n",
       "      <td>0</td>\n",
       "      <td>2</td>\n",
       "      <td>1</td>\n",
       "      <td>-0.076923</td>\n",
       "      <td>0</td>\n",
       "      <td>0</td>\n",
       "      <td>10</td>\n",
       "      <td>-0.062941</td>\n",
       "      <td>2</td>\n",
       "    </tr>\n",
       "    <tr>\n",
       "      <th>887</th>\n",
       "      <td>1</td>\n",
       "      <td>1</td>\n",
       "      <td>0</td>\n",
       "      <td>-0.692308</td>\n",
       "      <td>0</td>\n",
       "      <td>0</td>\n",
       "      <td>10</td>\n",
       "      <td>0.672856</td>\n",
       "      <td>2</td>\n",
       "    </tr>\n",
       "    <tr>\n",
       "      <th>888</th>\n",
       "      <td>0</td>\n",
       "      <td>3</td>\n",
       "      <td>0</td>\n",
       "      <td>0.000000</td>\n",
       "      <td>1</td>\n",
       "      <td>2</td>\n",
       "      <td>10</td>\n",
       "      <td>0.389358</td>\n",
       "      <td>2</td>\n",
       "    </tr>\n",
       "    <tr>\n",
       "      <th>889</th>\n",
       "      <td>1</td>\n",
       "      <td>1</td>\n",
       "      <td>1</td>\n",
       "      <td>-0.153846</td>\n",
       "      <td>0</td>\n",
       "      <td>0</td>\n",
       "      <td>10</td>\n",
       "      <td>0.672856</td>\n",
       "      <td>0</td>\n",
       "    </tr>\n",
       "    <tr>\n",
       "      <th>890</th>\n",
       "      <td>0</td>\n",
       "      <td>3</td>\n",
       "      <td>1</td>\n",
       "      <td>0.307692</td>\n",
       "      <td>0</td>\n",
       "      <td>0</td>\n",
       "      <td>10</td>\n",
       "      <td>-0.290172</td>\n",
       "      <td>1</td>\n",
       "    </tr>\n",
       "  </tbody>\n",
       "</table>\n",
       "<p>889 rows × 9 columns</p>\n",
       "</div>"
      ],
      "text/plain": [
       "     Survived  Pclass  Sex       Age  SibSp  Parch  Ticket      Fare  Embarked\n",
       "0           0       3    1 -0.461538      1      0      10 -0.311813         2\n",
       "1           1       1    0  0.769231      1      0      10  2.459687         0\n",
       "2           1       3    0 -0.153846      0      0      10 -0.282598         2\n",
       "3           1       1    0  0.538462      1      0      10  1.672674         2\n",
       "4           0       3    1  0.538462      0      0      10 -0.277188         2\n",
       "..        ...     ...  ...       ...    ...    ...     ...       ...       ...\n",
       "886         0       2    1 -0.076923      0      0      10 -0.062941         2\n",
       "887         1       1    0 -0.692308      0      0      10  0.672856         2\n",
       "888         0       3    0  0.000000      1      2      10  0.389358         2\n",
       "889         1       1    1 -0.153846      0      0      10  0.672856         0\n",
       "890         0       3    1  0.307692      0      0      10 -0.290172         1\n",
       "\n",
       "[889 rows x 9 columns]"
      ]
     },
     "execution_count": 35,
     "metadata": {},
     "output_type": "execute_result"
    }
   ],
   "source": [
    "#sanity check\n",
    "df_Train"
   ]
  },
  {
   "cell_type": "code",
   "execution_count": 36,
   "id": "2a2e60c5-813c-47e5-8aab-d486680db816",
   "metadata": {},
   "outputs": [
    {
     "data": {
      "text/html": [
       "<div>\n",
       "<style scoped>\n",
       "    .dataframe tbody tr th:only-of-type {\n",
       "        vertical-align: middle;\n",
       "    }\n",
       "\n",
       "    .dataframe tbody tr th {\n",
       "        vertical-align: top;\n",
       "    }\n",
       "\n",
       "    .dataframe thead th {\n",
       "        text-align: right;\n",
       "    }\n",
       "</style>\n",
       "<table border=\"1\" class=\"dataframe\">\n",
       "  <thead>\n",
       "    <tr style=\"text-align: right;\">\n",
       "      <th></th>\n",
       "      <th>Pclass</th>\n",
       "      <th>Sex</th>\n",
       "      <th>Age</th>\n",
       "      <th>SibSp</th>\n",
       "      <th>Parch</th>\n",
       "      <th>Ticket</th>\n",
       "      <th>Fare</th>\n",
       "      <th>Embarked</th>\n",
       "    </tr>\n",
       "  </thead>\n",
       "  <tbody>\n",
       "    <tr>\n",
       "      <th>0</th>\n",
       "      <td>3</td>\n",
       "      <td>1</td>\n",
       "      <td>0.588235</td>\n",
       "      <td>0</td>\n",
       "      <td>0</td>\n",
       "      <td>10</td>\n",
       "      <td>-0.281005</td>\n",
       "      <td>1</td>\n",
       "    </tr>\n",
       "    <tr>\n",
       "      <th>1</th>\n",
       "      <td>3</td>\n",
       "      <td>0</td>\n",
       "      <td>1.568627</td>\n",
       "      <td>1</td>\n",
       "      <td>0</td>\n",
       "      <td>10</td>\n",
       "      <td>-0.316176</td>\n",
       "      <td>2</td>\n",
       "    </tr>\n",
       "    <tr>\n",
       "      <th>2</th>\n",
       "      <td>2</td>\n",
       "      <td>1</td>\n",
       "      <td>2.745098</td>\n",
       "      <td>0</td>\n",
       "      <td>0</td>\n",
       "      <td>10</td>\n",
       "      <td>-0.202184</td>\n",
       "      <td>1</td>\n",
       "    </tr>\n",
       "    <tr>\n",
       "      <th>3</th>\n",
       "      <td>3</td>\n",
       "      <td>1</td>\n",
       "      <td>0.000000</td>\n",
       "      <td>0</td>\n",
       "      <td>0</td>\n",
       "      <td>10</td>\n",
       "      <td>-0.245660</td>\n",
       "      <td>2</td>\n",
       "    </tr>\n",
       "    <tr>\n",
       "      <th>4</th>\n",
       "      <td>3</td>\n",
       "      <td>0</td>\n",
       "      <td>-0.392157</td>\n",
       "      <td>1</td>\n",
       "      <td>1</td>\n",
       "      <td>10</td>\n",
       "      <td>-0.091902</td>\n",
       "      <td>2</td>\n",
       "    </tr>\n",
       "    <tr>\n",
       "      <th>...</th>\n",
       "      <td>...</td>\n",
       "      <td>...</td>\n",
       "      <td>...</td>\n",
       "      <td>...</td>\n",
       "      <td>...</td>\n",
       "      <td>...</td>\n",
       "      <td>...</td>\n",
       "      <td>...</td>\n",
       "    </tr>\n",
       "    <tr>\n",
       "      <th>413</th>\n",
       "      <td>3</td>\n",
       "      <td>1</td>\n",
       "      <td>0.000000</td>\n",
       "      <td>0</td>\n",
       "      <td>0</td>\n",
       "      <td>10</td>\n",
       "      <td>-0.271640</td>\n",
       "      <td>2</td>\n",
       "    </tr>\n",
       "    <tr>\n",
       "      <th>414</th>\n",
       "      <td>1</td>\n",
       "      <td>0</td>\n",
       "      <td>0.941176</td>\n",
       "      <td>0</td>\n",
       "      <td>0</td>\n",
       "      <td>10</td>\n",
       "      <td>4.006002</td>\n",
       "      <td>0</td>\n",
       "    </tr>\n",
       "    <tr>\n",
       "      <th>415</th>\n",
       "      <td>3</td>\n",
       "      <td>1</td>\n",
       "      <td>0.901961</td>\n",
       "      <td>0</td>\n",
       "      <td>0</td>\n",
       "      <td>10</td>\n",
       "      <td>-0.305572</td>\n",
       "      <td>2</td>\n",
       "    </tr>\n",
       "    <tr>\n",
       "      <th>416</th>\n",
       "      <td>3</td>\n",
       "      <td>1</td>\n",
       "      <td>0.000000</td>\n",
       "      <td>0</td>\n",
       "      <td>0</td>\n",
       "      <td>10</td>\n",
       "      <td>-0.271640</td>\n",
       "      <td>2</td>\n",
       "    </tr>\n",
       "    <tr>\n",
       "      <th>417</th>\n",
       "      <td>3</td>\n",
       "      <td>1</td>\n",
       "      <td>0.000000</td>\n",
       "      <td>1</td>\n",
       "      <td>1</td>\n",
       "      <td>10</td>\n",
       "      <td>0.335259</td>\n",
       "      <td>0</td>\n",
       "    </tr>\n",
       "  </tbody>\n",
       "</table>\n",
       "<p>418 rows × 8 columns</p>\n",
       "</div>"
      ],
      "text/plain": [
       "     Pclass  Sex       Age  SibSp  Parch  Ticket      Fare  Embarked\n",
       "0         3    1  0.588235      0      0      10 -0.281005         1\n",
       "1         3    0  1.568627      1      0      10 -0.316176         2\n",
       "2         2    1  2.745098      0      0      10 -0.202184         1\n",
       "3         3    1  0.000000      0      0      10 -0.245660         2\n",
       "4         3    0 -0.392157      1      1      10 -0.091902         2\n",
       "..      ...  ...       ...    ...    ...     ...       ...       ...\n",
       "413       3    1  0.000000      0      0      10 -0.271640         2\n",
       "414       1    0  0.941176      0      0      10  4.006002         0\n",
       "415       3    1  0.901961      0      0      10 -0.305572         2\n",
       "416       3    1  0.000000      0      0      10 -0.271640         2\n",
       "417       3    1  0.000000      1      1      10  0.335259         0\n",
       "\n",
       "[418 rows x 8 columns]"
      ]
     },
     "execution_count": 36,
     "metadata": {},
     "output_type": "execute_result"
    }
   ],
   "source": [
    "df_Test"
   ]
  },
  {
   "cell_type": "code",
   "execution_count": 37,
   "id": "a3652e75-dfc2-4677-ab36-30097eeea532",
   "metadata": {},
   "outputs": [
    {
     "data": {
      "text/html": [
       "<div>\n",
       "<style scoped>\n",
       "    .dataframe tbody tr th:only-of-type {\n",
       "        vertical-align: middle;\n",
       "    }\n",
       "\n",
       "    .dataframe tbody tr th {\n",
       "        vertical-align: top;\n",
       "    }\n",
       "\n",
       "    .dataframe thead th {\n",
       "        text-align: right;\n",
       "    }\n",
       "</style>\n",
       "<table border=\"1\" class=\"dataframe\">\n",
       "  <thead>\n",
       "    <tr style=\"text-align: right;\">\n",
       "      <th></th>\n",
       "      <th>Age</th>\n",
       "      <th>Fare</th>\n",
       "    </tr>\n",
       "  </thead>\n",
       "  <tbody>\n",
       "    <tr>\n",
       "      <th>count</th>\n",
       "      <td>418.000000</td>\n",
       "      <td>418.000000</td>\n",
       "    </tr>\n",
       "    <tr>\n",
       "      <th>mean</th>\n",
       "      <td>0.203865</td>\n",
       "      <td>0.895922</td>\n",
       "    </tr>\n",
       "    <tr>\n",
       "      <th>std</th>\n",
       "      <td>0.996374</td>\n",
       "      <td>2.368931</td>\n",
       "    </tr>\n",
       "    <tr>\n",
       "      <th>min</th>\n",
       "      <td>-2.104314</td>\n",
       "      <td>-0.613088</td>\n",
       "    </tr>\n",
       "    <tr>\n",
       "      <th>25%</th>\n",
       "      <td>-0.313725</td>\n",
       "      <td>-0.278180</td>\n",
       "    </tr>\n",
       "    <tr>\n",
       "      <th>50%</th>\n",
       "      <td>0.000000</td>\n",
       "      <td>0.000000</td>\n",
       "    </tr>\n",
       "    <tr>\n",
       "      <th>75%</th>\n",
       "      <td>0.686275</td>\n",
       "      <td>0.721820</td>\n",
       "    </tr>\n",
       "    <tr>\n",
       "      <th>max</th>\n",
       "      <td>3.843137</td>\n",
       "      <td>21.117807</td>\n",
       "    </tr>\n",
       "  </tbody>\n",
       "</table>\n",
       "</div>"
      ],
      "text/plain": [
       "              Age        Fare\n",
       "count  418.000000  418.000000\n",
       "mean     0.203865    0.895922\n",
       "std      0.996374    2.368931\n",
       "min     -2.104314   -0.613088\n",
       "25%     -0.313725   -0.278180\n",
       "50%      0.000000    0.000000\n",
       "75%      0.686275    0.721820\n",
       "max      3.843137   21.117807"
      ]
     },
     "execution_count": 37,
     "metadata": {},
     "output_type": "execute_result"
    }
   ],
   "source": [
    "df_Test[numerical].describe()"
   ]
  },
  {
   "cell_type": "code",
   "execution_count": 38,
   "id": "4f2f22f5-c632-4c23-a38c-4c8d581eb8eb",
   "metadata": {},
   "outputs": [
    {
     "data": {
      "text/plain": [
       "<Axes: title={'center': 'Suicide Correlation'}>"
      ]
     },
     "execution_count": 38,
     "metadata": {},
     "output_type": "execute_result"
    },
    {
     "data": {
      "image/png": "[encoded data removed]",
      "text/plain": [
       "<Figure size 576x576 with 2 Axes>"
      ]
     },
     "metadata": {
      "needs_background": "light"
     },
     "output_type": "display_data"
    }
   ],
   "source": [
    "#Now we will determine which features have good correlation with our expected outcome\n",
    "import seaborn as sns\n",
    "#  Correlations - OVERALL\n",
    "dataCorr = df_Train.corr()\n",
    "\n",
    "#  print correlation\n",
    "dataCorr['Survived'].sort_values(ascending=False)\n",
    "\n",
    "#  plot heatmap\n",
    "plt.figure(figsize=(8,8))\n",
    "plt.title('Suicide Correlation', fontsize=14)\n",
    "sns.heatmap(dataCorr, annot=True, fmt='.2f', square=True)"
   ]
  },
  {
   "cell_type": "markdown",
   "id": "aff10543-5e20-46cf-a469-5a4b62c5c42a",
   "metadata": {},
   "source": [
    "Pclass, Sex, and Fare are all good features to train on. "
   ]
  },
  {
   "cell_type": "code",
   "execution_count": 39,
   "id": "3f7d7996-6638-48b5-a131-b2452b0e952f",
   "metadata": {},
   "outputs": [],
   "source": [
    "df_Train= df_Train[['Pclass', 'Sex', 'Fare','Survived']]\n",
    "df_Test= df_Test[['Pclass', 'Sex','Fare']]"
   ]
  },
  {
   "cell_type": "code",
   "execution_count": 40,
   "id": "e7037c4d-8254-4e5b-9f96-26627a42f663",
   "metadata": {},
   "outputs": [
    {
     "name": "stdout",
     "output_type": "stream",
     "text": [
      "[0 1 1 1 0 0 0 0 1 1]\n",
      "<class 'numpy.ndarray'>\n",
      "<class 'numpy.ndarray'>\n",
      "[[3 1 -0.3118134365180357]\n",
      " [1 0 2.4596869833190502]\n",
      " [3 0 -0.28259796920040514]\n",
      " [1 0 1.6726742323906478]\n",
      " [3 1 -0.27718769747491795]\n",
      " [3 1 -0.25951558591078683]\n",
      " [1 1 1.6191125423083248]\n",
      " [3 1 0.28656261632084207]\n",
      " [3 0 -0.14373577098536197]\n",
      " [2 0 0.6759203954259398]\n",
      " [3 0 0.09720310592879214]\n",
      " [1 0 0.5235325178971789]\n",
      " [3 1 -0.27718769747491795]\n",
      " [3 1 0.7280407891205928]\n",
      " [3 0 -0.2856623471057211]\n",
      " [2 0 0.06690558426606417]\n",
      " [3 1 0.634984115442214]\n",
      " [2 1 -0.06294093714562721]\n",
      " [3 0 0.15346993187385843]\n",
      " [3 0 -0.3128954908631332]\n",
      " [2 1 0.49972732230503547]\n",
      " [2 1 -0.06294093714562721]\n",
      " [3 0 -0.2780879666900391]\n",
      " [1 1 0.9109079734420582]\n",
      " [3 0 0.28656261632084207]\n",
      " [3 0 0.7329100336735312]\n",
      " [3 1 -0.3128954908631332]\n",
      " [1 1 10.757602513828655]\n",
      " [3 0 -0.28458029276062363]\n",
      " [3 1 -0.28386180867547894]\n",
      " [1 1 0.5742072869867817]\n",
      " [1 0 5.7161295348897605]\n",
      " [3 0 -0.2901723496160871]\n",
      " [2 1 -0.17114637165537003]\n",
      " [1 1 2.93092165060898]\n",
      " [1 1 1.625063841206361]\n",
      " [3 1 -0.31271370573315677]\n",
      " [3 1 -0.27718769747491795]\n",
      " [3 0 0.15346993187385843]\n",
      " [3 0 -0.13904398334501955]\n",
      " [3 0 -0.2155105998043646]\n",
      " [2 0 0.28331645328554983]\n",
      " [3 1 -0.28386180867547894]\n",
      " [2 0 1.1740289644307096]\n",
      " [3 0 -0.28458029276062363]\n",
      " [3 1 -0.27718769747491795]\n",
      " [3 1 0.04526449736411561]\n",
      " [3 0 -0.2901723496160871]\n",
      " [3 1 0.3127137057331568]\n",
      " [3 0 0.14481349711307903]]\n"
     ]
    }
   ],
   "source": [
    "# Prepare the input X matrix and target y vector\n",
    "X = df_Train.loc[:, df_Train.columns != 'Survived'].values\n",
    "y = df_Train.loc[:, df_Train.columns == 'Survived'].values.ravel()\n",
    "# Sanity check\n",
    "print(y[0:10])\n",
    "print(type(y))\n",
    "print(type(X))\n",
    "print(X[0:50])"
   ]
  },
  {
   "cell_type": "markdown",
   "id": "ea08146a-ff09-42fe-813c-08a9f023d3a6",
   "metadata": {},
   "source": [
    "Naive Bayes"
   ]
  },
  {
   "cell_type": "code",
   "execution_count": 41,
   "id": "f7ab1fb9-92bc-49ee-8ca9-2689c67cf301",
   "metadata": {},
   "outputs": [],
   "source": [
    "from sklearn.model_selection import StratifiedKFold\n",
    "from sklearn.metrics import accuracy_score, classification_report\n",
    "\n",
    "def kfold_eval_docs(_clf, _X, _y):\n",
    "    accs = []\n",
    "    _niter = 10\n",
    "    for i in range(_niter):\n",
    "        kf = StratifiedKFold(n_splits=10, shuffle=True, random_state=i)\n",
    "        for train_index, test_index in kf.split(_X, _y):\n",
    "            _clf.fit(_X[train_index], _y[train_index])\n",
    "            ypred = _clf.predict(_X[test_index])\n",
    "            accs += [accuracy_score(_y[test_index], ypred)]\n",
    "\n",
    "    return np.array(accs)"
   ]
  },
  {
   "cell_type": "code",
   "execution_count": 42,
   "id": "4deabe57-f81f-4ab9-abc9-bd0250b04c55",
   "metadata": {},
   "outputs": [],
   "source": [
    "from sklearn.svm import SVC\n",
    "from sklearn.svm import LinearSVC\n",
    "from sklearn.naive_bayes import MultinomialNB\n",
    "from sklearn.ensemble import RandomForestClassifier\n",
    "from sklearn.linear_model import LogisticRegression\n",
    "from sklearn.neural_network import MLPClassifier\n",
    "from sklearn.tree import DecisionTreeClassifier\n",
    "\n",
    "\n",
    "svm_rbf = SVC(kernel='rbf', gamma='scale', class_weight='balanced')\n",
    "svm_lin = LinearSVC(class_weight='balanced')\n",
    "nb = MultinomialNB()\n",
    "rf = RandomForestClassifier(n_jobs=4, n_estimators=300, max_depth=10, random_state=0, class_weight='balanced')\n",
    "lr = LogisticRegression(solver='lbfgs', multi_class='auto', max_iter =300, class_weight='balanced')\n",
    "nn = MLPClassifier(hidden_layer_sizes= (100,), learning_rate_init= 0.05, random_state=1)\n",
    "dt = DecisionTreeClassifier(criterion='entropy', max_depth=None, max_features=50, random_state=1)"
   ]
  },
  {
   "cell_type": "code",
   "execution_count": 43,
   "id": "21d28574-4228-4482-8d39-ccde6b3867e4",
   "metadata": {},
   "outputs": [
    {
     "name": "stdout",
     "output_type": "stream",
     "text": [
      "[[3 1 0.014151057562208049]\n",
      " [1 0 0.13913573538264068]\n",
      " [3 0 0.015468569817999833]\n",
      " [1 0 0.10364429745562034]\n",
      " [3 1 0.01571255356907239]\n",
      " [3 1 0.01650950209357577]\n",
      " [1 1 0.10122885832000206]\n",
      " [3 1 0.04113566043083236]\n",
      " [3 0 0.021730754366528396]\n",
      " [2 0 0.05869429265402011]\n",
      " [3 0 0.03259622914329302]\n",
      " [1 0 0.051822148727810165]\n",
      " [3 1 0.01571255356907239]\n",
      " [3 1 0.061044734518352656]\n",
      " [3 0 0.015330377421392339]\n",
      " [2 0 0.03122992013728673]\n",
      " [3 1 0.05684821399990475]\n",
      " [2 1 0.025374310111545468]\n",
      " [3 0 0.03513366015444757]\n",
      " [3 0 0.014102260811993537]\n",
      " [2 1 0.05074862022309093]\n",
      " [2 1 0.025374310111545468]\n",
      " [3 0 0.01567195467289391]\n",
      " [1 1 0.06929138530460492]\n",
      " [3 0 0.04113566043083236]\n",
      " [3 0 0.06126431989431795]\n",
      " [3 1 0.014102260811993537]\n",
      " [1 1 0.5133418122566505]\n",
      " [3 0 0.01537917417160685]\n",
      " [3 1 0.015411575213749284]\n",
      " [1 1 0.05410739813385612]\n",
      " [1 0 0.28598955515321006]\n",
      " [3 0 0.01512699256649826]\n",
      " [2 1 0.020494635090094415]\n",
      " [1 1 0.16038672010106]\n",
      " [1 1 0.10149724044618187]\n",
      " [3 1 0.014110458666029576]\n",
      " [3 1 0.01571255356907239]\n",
      " [3 0 0.03513366015444757]\n",
      " [3 0 0.021942337075458514]\n",
      " [3 0 0.018493968331299484]\n",
      " [2 0 0.04098927018018883]\n",
      " [3 1 0.015411575213749284]\n",
      " [2 0 0.08115719346076702]\n",
      " [3 0 0.01537917417160685]\n",
      " [3 1 0.01571255356907239]\n",
      " [3 1 0.030253985132996517]\n",
      " [3 0 0.01512699256649826]\n",
      " [3 1 0.04231498029001665]\n",
      " [3 0 0.034743286152731485]]\n",
      "int64\n"
     ]
    },
    {
     "name": "stderr",
     "output_type": "stream",
     "text": [
      "/tmp/ipykernel_72718/266906522.py:8: SettingWithCopyWarning: \n",
      "A value is trying to be set on a copy of a slice from a DataFrame.\n",
      "Try using .loc[row_indexer,col_indexer] = value instead\n",
      "\n",
      "See the caveats in the documentation: https://pandas.pydata.org/pandas-docs/stable/user_guide/indexing.html#returning-a-view-versus-a-copy\n",
      "  df_train[['Fare']] = min_max_scaler.fit_transform(df_train[['Fare']])\n"
     ]
    }
   ],
   "source": [
    "#Since multinomial NB needs to work on only positive values, we can fix this by normalizing, instead of standardizing,\n",
    "#the Fare values.\n",
    "df_train = df_train[['Pclass', 'Sex', 'Fare','Survived']]\n",
    "\n",
    "from sklearn import preprocessing\n",
    "\n",
    "min_max_scaler = preprocessing.MinMaxScaler()\n",
    "df_train[['Fare']] = min_max_scaler.fit_transform(df_train[['Fare']])\n",
    "\n",
    "X_norm = df_train.loc[:, df_train.columns != 'Survived'].values\n",
    "y = y.astype(int)\n",
    "print(X_norm[0:50])\n",
    "print(y.dtype)"
   ]
  },
  {
   "cell_type": "code",
   "execution_count": 44,
   "id": "a23c74ba-660c-48d8-ae34-dcda6884f43d",
   "metadata": {},
   "outputs": [
    {
     "name": "stdout",
     "output_type": "stream",
     "text": [
      "Naive Bayes CV accuracy=0.632 0.014\n",
      "CPU times: user 138 ms, sys: 314 µs, total: 139 ms\n",
      "Wall time: 139 ms\n"
     ]
    }
   ],
   "source": [
    "%%time\n",
    "\n",
    "df_train_nb = df_train.loc[:, df_train.columns != 'Survived'] \n",
    "acc = kfold_eval_docs(nb, X_norm, y)\n",
    "print(f'Naive Bayes CV accuracy={np.mean(acc):.3f} {np.std(acc):.3f}')"
   ]
  },
  {
   "cell_type": "markdown",
   "id": "13dd10fc-6445-48e3-9859-5bc4df0066a7",
   "metadata": {},
   "source": [
    "SVC kernel rbf, gamma scale, class_weight balanced"
   ]
  },
  {
   "cell_type": "code",
   "execution_count": 45,
   "id": "e57be40c-c430-4710-9453-f5f6cd64578b",
   "metadata": {},
   "outputs": [
    {
     "name": "stdout",
     "output_type": "stream",
     "text": [
      "Random Forest CV accuracy=0.820 0.038\n",
      "CPU times: user 47.9 s, sys: 6.57 s, total: 54.5 s\n",
      "Wall time: 41.4 s\n"
     ]
    }
   ],
   "source": [
    "%%time\n",
    "\n",
    "acc = kfold_eval_docs(rf, X, y)\n",
    "print(f'Random Forest CV accuracy={np.mean(acc):.3f} {np.std(acc):.3f}')"
   ]
  },
  {
   "cell_type": "code",
   "execution_count": 46,
   "id": "e1c69fff-5da3-42eb-96ed-7f84b3de2786",
   "metadata": {},
   "outputs": [
    {
     "name": "stdout",
     "output_type": "stream",
     "text": [
      "Support Vector Machine CV accuracy=0.781 0.041\n",
      "CPU times: user 2.67 s, sys: 11.9 ms, total: 2.69 s\n",
      "Wall time: 2.69 s\n"
     ]
    }
   ],
   "source": [
    "%%time\n",
    "import warnings\n",
    "from sklearn.exceptions import ConvergenceWarning\n",
    "from sklearn.linear_model import LogisticRegression\n",
    "\n",
    "with warnings.catch_warnings():\n",
    "    warnings.filterwarnings(\"ignore\", category=ConvergenceWarning)\n",
    "    acc = kfold_eval_docs(svm_lin, X, y)\n",
    "    \n",
    "print(f'Support Vector Machine CV accuracy={np.mean(acc):.3f} {np.std(acc):.3f}')\n"
   ]
  },
  {
   "cell_type": "code",
   "execution_count": 47,
   "id": "f9485594-59c3-449f-8bd0-8870b006c60a",
   "metadata": {},
   "outputs": [
    {
     "name": "stdout",
     "output_type": "stream",
     "text": [
      "Linear Support Vector Machine CV accuracy=0.774 0.042\n",
      "CPU times: user 1.76 s, sys: 7.21 ms, total: 1.76 s\n",
      "Wall time: 1.77 s\n"
     ]
    }
   ],
   "source": [
    "%%time\n",
    "\n",
    "acc = kfold_eval_docs(svm_rbf, X, y)\n",
    "print(f'Linear Support Vector Machine CV accuracy={np.mean(acc):.3f} {np.std(acc):.3f}')"
   ]
  },
  {
   "cell_type": "code",
   "execution_count": 48,
   "id": "a96f72df-2212-4b88-91b2-8ba30a973f4c",
   "metadata": {},
   "outputs": [
    {
     "name": "stdout",
     "output_type": "stream",
     "text": [
      "Logistic Regression CV accuracy=0.752 0.043\n",
      "CPU times: user 348 ms, sys: 5.36 ms, total: 353 ms\n",
      "Wall time: 353 ms\n"
     ]
    }
   ],
   "source": [
    "%%time\n",
    "with warnings.catch_warnings():\n",
    "    warnings.filterwarnings(\"ignore\", category=ConvergenceWarning)\n",
    "    acc = kfold_eval_docs(lr, X, y)\n",
    "\n",
    "print(f'Logistic Regression CV accuracy={np.mean(acc):.3f} {np.std(acc):.3f}')"
   ]
  },
  {
   "cell_type": "code",
   "execution_count": 49,
   "id": "b1ae6e88-d727-43de-bcd6-9ae50122f1bf",
   "metadata": {},
   "outputs": [
    {
     "name": "stdout",
     "output_type": "stream",
     "text": [
      "Neural Network CV accuracy=0.797 0.039\n",
      "CPU times: user 20.8 s, sys: 13.3 s, total: 34 s\n",
      "Wall time: 8.59 s\n"
     ]
    }
   ],
   "source": [
    "%%time\n",
    "\n",
    "acc = kfold_eval_docs(nn, X, y)\n",
    "print(f'Neural Network CV accuracy={np.mean(acc):.3f} {np.std(acc):.3f}')"
   ]
  },
  {
   "cell_type": "code",
   "execution_count": 50,
   "id": "8c3c38bf-a40b-46c5-8e72-5cd62bbb205e",
   "metadata": {},
   "outputs": [
    {
     "name": "stdout",
     "output_type": "stream",
     "text": [
      "Decision Tree CV accuracy=0.821 0.034\n",
      "CPU times: user 167 ms, sys: 4.58 ms, total: 171 ms\n",
      "Wall time: 171 ms\n"
     ]
    }
   ],
   "source": [
    "%%time\n",
    "\n",
    "acc = kfold_eval_docs(dt, X, y)\n",
    "print(f'Decision Tree CV accuracy={np.mean(acc):.3f} {np.std(acc):.3f}')"
   ]
  },
  {
   "cell_type": "markdown",
   "id": "e6d3ca06-66d1-4d77-bd9e-e7fda29a1dfd",
   "metadata": {},
   "source": [
    "So far the Decision Tree Classifier is winning, I will take the Decision Tree Classifier, the Neural Network Classifier and the Random Forest Classifier and do Grid-Search for hyperparameter tuning next. Once the hyperparameters have been selected, I will then test a new model with the best parameters and measure its validity to the test data."
   ]
  },
  {
   "cell_type": "code",
   "execution_count": 51,
   "id": "a78b5c98-9a54-4a4e-a674-eee89685c0b7",
   "metadata": {},
   "outputs": [
    {
     "name": "stdout",
     "output_type": "stream",
     "text": [
      "[[3 1 0.0]\n",
      " [3 0 -0.2901723496160871]\n",
      " [3 1 1.0921520762458774]\n",
      " [3 1 -0.32046987127881515]\n",
      " [3 1 -0.28259796920040514]\n",
      " [1 1 2.695397373637694]\n",
      " [3 1 -0.6256091965962899]\n",
      " [3 1 -0.27718769747491795]\n",
      " [1 1 3.269786445754452]\n",
      " [3 1 -0.28386180867547894]\n",
      " [3 1 -0.27718769747491795]\n",
      " [3 1 -0.28386180867547894]\n",
      " [2 1 1.1740289644307096]\n",
      " [3 1 -0.28259796920040514]\n",
      " [3 1 -0.2856623471057211]\n",
      " [3 0 0.20793189117130212]\n",
      " [1 1 4.277179041040157]\n",
      " [3 1 0.0019823235602184817]\n",
      " [2 0 1.0623955817556983]\n",
      " [3 1 -0.28386180867547894]\n",
      " [3 1 1.8196518381939217]\n",
      " [1 1 8.973476683892972]\n",
      " [2 0 -0.17114637165537003]\n",
      " [3 1 -0.27718769747491795]\n",
      " [3 0 -0.29882878437686655]\n",
      " [3 0 0.7280407891205928]\n",
      " [3 0 0.862215527912674]\n",
      " [2 1 0.49972732230503547]\n",
      " [2 0 -0.06294093714562721]\n",
      " [3 1 -0.25951558591078683]\n",
      " [1 1 0.7161381913245212]\n",
      " [2 1 -0.06294093714562721]\n",
      " [3 0 -0.2901723496160871]\n",
      " [3 1 0.07123380164645395]\n",
      " [1 0 2.695397373637694]\n",
      " [3 1 -0.32028808614883875]\n",
      " [2 1 -0.17114637165537003]\n",
      " [1 1 21.549112282615283]\n",
      " [3 1 0.07123380164645395]\n",
      " [3 0 0.7280407891205928]\n",
      " [2 0 0.5105478657560097]\n",
      " [3 1 0.2649215294188935]\n",
      " [2 1 0.5430094961089326]\n",
      " [1 1 0.5742072869867817]\n",
      " [3 1 -0.27718769747491795]\n",
      " [3 1 -0.28386180867547894]\n",
      " [1 0 10.73055115520122]\n",
      " [2 1 0.49972732230503547]\n",
      " [1 0 3.3164965677236173]\n",
      " [1 1 2.7871902078409985]]\n",
      "[0 1 0 0 0 1 1 0 0 0 0 0 0 0 0 1 0 0 1 0 1 0 0 0 0 0 0 0 1 0 0 0 1 0 1 0 0\n",
      " 1 0 0 1 0 0 0 0 0 1 0 1 0]\n"
     ]
    }
   ],
   "source": [
    "from sklearn.model_selection import train_test_split\n",
    "\n",
    "X_train, X_test, y_train, y_test = train_test_split(X, y, test_size=0.3, random_state=14)\n",
    "print(X_train[0:50])\n",
    "print(y_train[0:50])"
   ]
  },
  {
   "cell_type": "code",
   "execution_count": 52,
   "id": "3f87b489-35bf-4795-b209-4e6acc0053af",
   "metadata": {},
   "outputs": [
    {
     "name": "stdout",
     "output_type": "stream",
     "text": [
      "{'criterion': 'entropy', 'max_depth': 20, 'max_features': 5, 'random_state': 1}\n",
      "0.7894777265745008\n"
     ]
    }
   ],
   "source": [
    "#Decision Tree\n",
    "from sklearn.model_selection import GridSearchCV\n",
    "from sklearn.metrics import classification_report, confusion_matrix\n",
    "\n",
    "parameters = {'criterion':('gini', 'entropy', 'log_loss'), 'max_depth':[*range(20,400,20), None], 'max_features':[*range(5,95,15)], 'random_state':[1]}\n",
    "\n",
    "dt = DecisionTreeClassifier()\n",
    "grid = GridSearchCV(dt, parameters, refit = True, n_jobs=-1, cv=10, scoring='accuracy')\n",
    "grid.fit(X_train, y_train)\n",
    "print(grid.best_params_)\n",
    "grid_predictions = grid.predict(X_test)\n",
    "print(grid.best_score_)\n"
   ]
  },
  {
   "cell_type": "code",
   "execution_count": 55,
   "id": "fa791917-cb24-4300-85a2-3c10465696bd",
   "metadata": {},
   "outputs": [
    {
     "name": "stdout",
     "output_type": "stream",
     "text": [
      "Test Acc    TPR    FPR     F1\n",
      "   0.813  0.696  0.115 0.740\n"
     ]
    }
   ],
   "source": [
    "#Final evaluation\n",
    "from sklearn.metrics import accuracy_score\n",
    "\n",
    "final_dt = DecisionTreeClassifier(criterion='entropy', max_depth= 20, max_features=5, random_state=1)\n",
    "final_dt.fit(X_train, y_train)\n",
    "y_pred_dt = final_dt.predict(X_test)\n",
    "\n",
    "TPR, FPR, F1 = [], [], []\n",
    "tn, fp, fn, tp = confusion_matrix(y_test, y_pred_dt).ravel()\n",
    "TPR += [tp/(tp+fn)]  # Pd\n",
    "FPR += [fp/(fp+tn)]  # Pf\n",
    "\n",
    "prec = tp/(tp+fp)\n",
    "recall = tp/(tp+fn)\n",
    "F1 += [2*prec*recall/(prec+recall)]\n",
    "\n",
    "print(f'{\"Test Acc\":>8s} {\"TPR\":>6s} {\"FPR\":>6s} {\"F1\":>6s}')\n",
    "print(f'{accuracy_score(y_test, y_pred_dt):8.3f} {TPR[-1]:6.3f} {FPR[-1]:6.3f}{F1[-1]:6.3f}')"
   ]
  },
  {
   "cell_type": "code",
   "execution_count": 54,
   "id": "41ddb144-0a68-4f4c-ac52-d5ef2073e555",
   "metadata": {},
   "outputs": [
    {
     "name": "stdout",
     "output_type": "stream",
     "text": [
      "{'class_weight': 'balanced', 'criterion': 'entropy', 'max_depth': 5, 'n_estimators': 460, 'random_state': 0}\n",
      "0.8038146441372247\n",
      "CPU times: user 1.47 s, sys: 89.2 ms, total: 1.56 s\n",
      "Wall time: 1min 56s\n"
     ]
    }
   ],
   "source": [
    "%%time\n",
    "#Let's do the same for Random Forest\n",
    "#Random Forest\n",
    "\n",
    "parameters = {'n_estimators':[*range(10,510,50)], 'max_depth':[*range(5,50,10)], 'class_weight':['balanced']\n",
    "             , 'criterion':('gini', 'entropy', 'log_loss'), 'random_state':[0]}\n",
    "\n",
    "\n",
    "rf = RandomForestClassifier()\n",
    "grid_rf = GridSearchCV(rf, parameters, refit = True, n_jobs=-1, cv=10, scoring='accuracy')\n",
    "grid_rf.fit(X_train, y_train)\n",
    "print(grid_rf.best_params_)\n",
    "grid_rf_predictions = grid_rf.predict(X_test)\n",
    "print(grid_rf.best_score_)"
   ]
  },
  {
   "cell_type": "code",
   "execution_count": 56,
   "id": "472f18ac-0f3b-42aa-8285-0a5ef1d96b6f",
   "metadata": {},
   "outputs": [
    {
     "name": "stdout",
     "output_type": "stream",
     "text": [
      "Test Acc    TPR    FPR     F1\n",
      "   0.794  0.686  0.139 0.718\n"
     ]
    }
   ],
   "source": [
    "#Final evaluation Random Forest\n",
    "from sklearn.metrics import accuracy_score\n",
    "\n",
    "final_rf = RandomForestClassifier(class_weight='balanced', criterion='entropy', max_depth=5, n_estimators=460, random_state=0)\n",
    "final_rf.fit(X_train, y_train)\n",
    "y_pred_rf = final_rf.predict(X_test)\n",
    "\n",
    "TPR, FPR, F1 = [], [], []\n",
    "tn, fp, fn, tp = confusion_matrix(y_test, y_pred_rf).ravel()\n",
    "TPR += [tp/(tp+fn)]  # Pd\n",
    "FPR += [fp/(fp+tn)]  # Pf\n",
    "\n",
    "prec = tp/(tp+fp)\n",
    "recall = tp/(tp+fn)\n",
    "F1 += [2*prec*recall/(prec+recall)]\n",
    "\n",
    "print(f'{\"Test Acc\":>8s} {\"TPR\":>6s} {\"FPR\":>6s} {\"F1\":>6s}')\n",
    "print(f'{accuracy_score(y_test, y_pred_rf):8.3f} {TPR[-1]:6.3f} {FPR[-1]:6.3f}{F1[-1]:6.3f}')"
   ]
  },
  {
   "cell_type": "code",
   "execution_count": 57,
   "id": "2f6ec775-6579-4643-abb9-89663908ec15",
   "metadata": {},
   "outputs": [
    {
     "name": "stdout",
     "output_type": "stream",
     "text": [
      "{'alpha': 0.0006, 'hidden_layer_sizes': (40,), 'learning_rate_init': 0.25, 'random_state': 5}\n",
      "0.8134408602150536\n",
      "CPU times: user 994 ms, sys: 33.5 ms, total: 1.03 s\n",
      "Wall time: 33.6 s\n"
     ]
    }
   ],
   "source": [
    "%%time\n",
    "#Let's do the same for Neural Network\n",
    "#Neural Network\n",
    "\n",
    "parameters = {'hidden_layer_sizes':[(5,),(10,),(20,),(40,),(80,),(5,2),(10,2),(20,2),(40,2),(80,2),(5,5),(10,5),(20,5),(40,5),(80,5)],\n",
    "              'learning_rate_init':[x / 100.0 for x in range(5, 56, 5)], 'alpha': [x / 10000.0 for x in range(1, 11, 5)], 'random_state':[5]}\n",
    "with warnings.catch_warnings():\n",
    "    warnings.filterwarnings(\"ignore\", category=ConvergenceWarning)\n",
    "    nn = MLPClassifier()\n",
    "    grid_nn = GridSearchCV(nn, parameters, refit = True, n_jobs=-1, cv=10, scoring='accuracy')\n",
    "    grid_nn.fit(X_train, y_train)\n",
    "    print(grid_nn.best_params_)\n",
    "    grid_nn_predictions = grid_nn.predict(X_test)\n",
    "    print(grid_nn.best_score_)"
   ]
  },
  {
   "cell_type": "code",
   "execution_count": 58,
   "id": "b20de1a8-6860-4b38-aa2d-83656bfe2060",
   "metadata": {},
   "outputs": [
    {
     "name": "stdout",
     "output_type": "stream",
     "text": [
      "Test Acc    TPR    FPR     F1\n",
      "   0.772  0.706  0.188 0.702\n"
     ]
    }
   ],
   "source": [
    "#Final evaluation Random Forest\n",
    "from sklearn.metrics import accuracy_score\n",
    "\n",
    "final_nn = MLPClassifier(alpha=0.0006, random_state=5, hidden_layer_sizes=(40,), learning_rate_init=0.25)\n",
    "final_nn.fit(X_train, y_train)\n",
    "y_pred_nn = final_nn.predict(X_test)\n",
    "\n",
    "TPR, FPR, F1 = [], [], []\n",
    "tn, fp, fn, tp = confusion_matrix(y_test, y_pred_nn).ravel()\n",
    "TPR += [tp/(tp+fn)]  # Pd\n",
    "FPR += [fp/(fp+tn)]  # Pf\n",
    "\n",
    "prec = tp/(tp+fp)\n",
    "recall = tp/(tp+fn)\n",
    "F1 += [2*prec*recall/(prec+recall)]\n",
    "\n",
    "print(f'{\"Test Acc\":>8s} {\"TPR\":>6s} {\"FPR\":>6s} {\"F1\":>6s}')\n",
    "print(f'{accuracy_score(y_test, y_pred_nn):8.3f} {TPR[-1]:6.3f} {FPR[-1]:6.3f}{F1[-1]:6.3f}')"
   ]
  },
  {
   "cell_type": "markdown",
   "id": "99d88a03-f7d6-467b-a8d8-abae04844c92",
   "metadata": {},
   "source": [
    "***Evaluation***\n",
    "\n",
    "It seems that we have had the greatest success with the decision tree classifier.\n",
    "\n",
    "Decision Tree Classifier: 'criterion': 'entropy', 'max_depth': 20, 'max_features': 5, 'random_state': 1\n",
    "\n",
    "Test Acc    TPR    FPR     F1\n",
    "   \n",
    "   0.813  0.696  0.115 0.740\n",
    " \n",
    "We received an accuracy of 81.34%, employing a minimal grid-search and I think these results are quite acceptable.\n",
    "\n",
    "I believe we took a heavy-handed approach with feature reduction, this may have skewed our results, basically gimping the power of our classifiers to extract information.\n",
    "\n",
    "In the future, it would not be a bad idea to increase our feature exploration analysis a bit more.\n",
    "We could also, retry our general reclassification that we did first, and add features to the training dataset, to see if these classifiers behave better or worse with the new features.\n",
    "\n",
    "Finally, some of our encoding could be improved, we mainly employed the Label Encoder, our PClass feature space although it had a small number of classes, these classes could've been one-hot encoded for increased accuracy depending on the classifier."
   ]
  },
  {
   "cell_type": "code",
   "execution_count": 64,
   "id": "144a598d-eb2e-45ac-a0bf-2e057f1ce7a0",
   "metadata": {},
   "outputs": [],
   "source": [
    "df_test = df_Test.values"
   ]
  },
  {
   "cell_type": "markdown",
   "id": "d1f5367a-0adc-45a6-970a-19b1256a0a94",
   "metadata": {},
   "source": [
    "Now we train with all of the data, and predict the test.csv (preprocessed) values."
   ]
  },
  {
   "cell_type": "code",
   "execution_count": 67,
   "id": "cb4cb902-3d55-4857-8735-488737b2c85a",
   "metadata": {},
   "outputs": [],
   "source": [
    "test_dt = DecisionTreeClassifier(criterion='entropy', max_depth= 20, max_features=5, random_state=1)\n",
    "test_dt.fit(X, y)\n",
    "y_predTest_dt = test_dt.predict(df_test)"
   ]
  },
  {
   "cell_type": "code",
   "execution_count": 68,
   "id": "43f909db-37fc-4de3-8067-9ac7992fa9b8",
   "metadata": {},
   "outputs": [],
   "source": [
    "def save_preds(_fn, _y_pred, _df):\n",
    "    import csv\n",
    "    with open(_fn, 'w') as fout:\n",
    "        writer = csv.writer(fout, delimiter=',', lineterminator='\\n')\n",
    "        writer.writerow(['PassengerId', 'Survived'])\n",
    "        for yid, ypred in zip(_df['PassengerId'], _y_pred):\n",
    "            writer.writerow([yid, ypred])\n",
    "\n",
    "df_test_org = pass_ID\n",
    "save_preds('predictions_yahya.csv', y_predTest_dt, df_test_org)"
   ]
  },
  {
   "cell_type": "markdown",
   "id": "3dbb8409-8355-4c44-83d7-545440cbf2de",
   "metadata": {},
   "source": [
    "I attained a 0.7488 score from Kaggle, using this submission."
   ]
  },
  {
   "cell_type": "code",
   "execution_count": null,
   "id": "105d050c-33ff-484d-846e-db39fa6f1e7e",
   "metadata": {},
   "outputs": [],
   "source": []
  }
 ],
 "metadata": {
  "kernelspec": {
   "display_name": "Python 3 (ipykernel)",
   "language": "python",
   "name": "python3"
  },
  "language_info": {
   "codemirror_mode": {
    "name": "ipython",
    "version": 3
   },
   "file_extension": ".py",
   "mimetype": "text/x-python",
   "name": "python",
   "nbconvert_exporter": "python",
   "pygments_lexer": "ipython3",
   "version": "3.11.4"
  }
 },
 "nbformat": 4,
 "nbformat_minor": 5
}
