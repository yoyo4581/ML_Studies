{
 "cells": [
  {
   "cell_type": "markdown",
   "id": "0cdd1f56-0d0f-4f5c-a510-67a82f6d9e90",
   "metadata": {},
   "source": [
    "# ***Predicting Fake News using the Fake News dataset using Tf-Idf vectorizer and evaluating performance using ROC curves.***"
   ]
  },
  {
   "cell_type": "code",
   "execution_count": 1,
   "id": "06217ffc-e0c7-49c9-958e-98892fcace09",
   "metadata": {},
   "outputs": [
    {
     "name": "stdout",
     "output_type": "stream",
     "text": [
      "N rows=21417, M columns=4\n",
      "Index(['title', 'text', 'subject', 'date'], dtype='object')\n",
      "N rows=23481, M columns=4\n",
      "Index(['title', 'text', 'subject', 'date'], dtype='object')\n"
     ]
    }
   ],
   "source": [
    "%matplotlib inline\n",
    "import matplotlib.pyplot as plt\n",
    "plt.rcParams[\"figure.dpi\"] = 72\n",
    "import numpy as np\n",
    "import pandas as pd\n",
    "\n",
    "\n",
    "# Locate and load the data file\n",
    "df_true = pd.read_csv('./EP_dataset_TF/True.csv')\n",
    "df_fake = pd.read_csv('./EP_dataset_TF/Fake.csv')\n",
    "\n",
    "\n",
    "# Sanity check\n",
    "print(f'N rows={len(df_true)}, M columns={len(df_true.columns)}')\n",
    "print(df_true.columns)\n",
    "\n",
    "print(f'N rows={len(df_fake)}, M columns={len(df_fake.columns)}')\n",
    "print(df_fake.columns)"
   ]
  },
  {
   "cell_type": "code",
   "execution_count": 2,
   "id": "59bc5e61-b1df-44d8-801f-3617ad88d0fc",
   "metadata": {},
   "outputs": [],
   "source": [
    "from sklearn.feature_extraction.text import TfidfVectorizer\n",
    "\n",
    "\n",
    "df_true['class']=0\n",
    "df_fake['class']=1\n",
    "df = pd.concat([df_fake, df_true])\n",
    "df.head\n",
    "\n",
    "X_vec = TfidfVectorizer(stop_words='english', max_features=50\n",
    ").fit_transform(df['title'])"
   ]
  },
  {
   "cell_type": "code",
   "execution_count": 3,
   "id": "6f67a3cb-10f0-4b9f-9cd6-695a6fd47a5a",
   "metadata": {},
   "outputs": [
    {
     "data": {
      "text/plain": [
       "(44898, 50)"
      ]
     },
     "execution_count": 3,
     "metadata": {},
     "output_type": "execute_result"
    }
   ],
   "source": [
    "X_vec.shape"
   ]
  },
  {
   "cell_type": "code",
   "execution_count": 4,
   "id": "50f5ad11-b311-4e8a-a070-45170f7c5c4c",
   "metadata": {},
   "outputs": [
    {
     "data": {
      "text/plain": [
       "dtype('float64')"
      ]
     },
     "execution_count": 4,
     "metadata": {},
     "output_type": "execute_result"
    }
   ],
   "source": [
    "X_vec.dtype"
   ]
  },
  {
   "cell_type": "code",
   "execution_count": 5,
   "id": "2b3d5c47-f550-43e6-8715-8676d103c45b",
   "metadata": {},
   "outputs": [],
   "source": [
    "# Populate the dataset, cancer column is target variable\n",
    "y = df.loc[:, df.columns == 'class'].values.ravel()"
   ]
  },
  {
   "cell_type": "code",
   "execution_count": 6,
   "id": "7513221a-dc72-442d-af98-3b122cf2d768",
   "metadata": {},
   "outputs": [],
   "source": [
    "from sklearn.metrics import confusion_matrix\n",
    "from sklearn.model_selection import train_test_split\n",
    "from sklearn.linear_model import LogisticRegression\n",
    "from sklearn.preprocessing import StandardScaler\n",
    "from sklearn.pipeline import make_pipeline\n",
    "\n",
    "# Display OP\n",
    "def annot(opi, _x, _y):\n",
    "    plt.annotate(f\"OP{opi}\", xy=(_x, _y), xytext=(.90*_x+.1, .80*_y), arrowprops=dict(facecolor='lightgray', shrink=1))\n"
   ]
  },
  {
   "cell_type": "markdown",
   "id": "ee7c3b42-ce26-4e52-9858-80a19ad35ac8",
   "metadata": {},
   "source": [
    "Now that we have specified all of our annotation methods and prepared our training and labels data, we will begin with our ML learning setup.\n",
    "\n",
    "Each section contains 3 types of classifiers, and each classifier follows hyperparametric tuning, generating the ROC curve, and then the classifier is evaluated.\n",
    "The schema follows:\n",
    "\n",
    "My current work flow is:\n",
    "\n",
    "1. 70% training, 30% test split. \n",
    "\n",
    "2. Loop through all combinations of hyperparameters specified in lists,\n",
    "\n",
    "3. Create a classifier with said hyperparameter settings\n",
    "\n",
    "4. Run cross_validation on the training dataset using the sklearn.cross_validate function specifying 10 fold cross validation, and a scoring scheme that allows me to evaluate the tn, fp, fn, and tp of each individual fold.\n",
    "\n",
    "5. Accuracy, TPR, and FPR, and F1 lists are made using these values in folds, they are then averaged.\n",
    "\n",
    "6. ROC plot is made with data averaged after cross validation with annotations.\n",
    "\n",
    "Then following the book (pg.197 k-fold cross-validation):\n",
    "\n",
    "\"Once we have found satisfactory hyperparameter values, we can retrain the model on the complete training dataset and obtain a final performance estimate using the independent test dataset\"\n",
    "\n",
    "7. Tuned model is evaluated after the ROC curve.\n",
    "\n",
    "By the way, I have tried hundreds of parameters, I just decided to narrow down the search, in case this notebook gets rerun, so I end up plotting all OPs."
   ]
  },
  {
   "cell_type": "markdown",
   "id": "e1413278-3c78-4584-a724-e513267ed021",
   "metadata": {},
   "source": [
    "--------------------------------------------------------------------------------------------------------------------------------------------------------------------------"
   ]
  },
  {
   "cell_type": "markdown",
   "id": "55be201b-0d9c-4d49-9e33-5db469e6bcb3",
   "metadata": {},
   "source": [
    "**Random Forest Classifier**"
   ]
  },
  {
   "cell_type": "code",
   "execution_count": 7,
   "id": "3d7871e5-18a0-4dce-b68d-d6ab4958890e",
   "metadata": {},
   "outputs": [
    {
     "name": "stdout",
     "output_type": "stream",
     "text": [
      "Test Acc       Depth  Estimators    TPR    FPR     F1\n",
      "   0.743        2.00        5.00  0.641  0.146  0.722\n",
      "   0.776        2.00       20.00  0.697  0.138  0.764\n",
      "   0.775        2.00       40.00  0.715  0.160  0.768\n",
      "   0.785        2.00      100.00  0.704  0.127  0.774\n",
      "   0.755        3.00        5.00  0.712  0.198  0.752\n",
      "   0.787        3.00       20.00  0.626  0.037  0.755\n",
      "   0.781        3.00       40.00  0.697  0.128  0.768\n",
      "   0.790        3.00      100.00  0.633  0.038  0.760\n",
      "   0.774        5.00        5.00  0.635  0.073  0.746\n",
      "   0.787        5.00       20.00  0.625  0.036  0.754\n",
      "   0.791        5.00       40.00  0.631  0.034  0.759\n",
      "   0.793        5.00      100.00  0.638  0.038  0.763\n",
      "   0.794       10.00        5.00  0.642  0.040  0.765\n",
      "   0.800       10.00       20.00  0.651  0.038  0.773\n",
      "   0.800       10.00       40.00  0.651  0.036  0.773\n",
      "   0.803       10.00      100.00  0.660  0.040  0.778\n",
      "   0.792       12.00        5.00  0.629  0.030  0.760\n",
      "   0.803       12.00       20.00  0.657  0.038  0.777\n",
      "   0.805       12.00       40.00  0.662  0.039  0.780\n",
      "   0.807       12.00      100.00  0.668  0.041  0.783\n"
     ]
    }
   ],
   "source": [
    "from sklearn.ensemble import RandomForestClassifier\n",
    "from sklearn.metrics import confusion_matrix\n",
    "from sklearn.model_selection import train_test_split, cross_validate\n",
    "\n",
    "\n",
    "depth = [2,3,5,10,12]\n",
    "estimators = [5, 20, 40, 100]\n",
    "\n",
    "def confusion_matrix_scorer(clf, X, y):\n",
    "    y_pred = clf.predict(X)\n",
    "    cm = confusion_matrix(y, y_pred)\n",
    "    return {'tn':cm[0,0], 'fp': cm[0, 1],\n",
    "            'fn':cm[1,0], 'tp': cm[1, 1]}\n",
    "\n",
    "X_train, X_test, y_train, y_test = train_test_split(X_vec, y, test_size=0.3, random_state=14)\n",
    "\n",
    "print(f'{\"Test Acc\":>8s} {\"Depth\":>11s} {\"Estimators\":>11s} {\"TPR\":>6s} {\"FPR\":>6s} {\"F1\":>6s}')\n",
    "FPR, TPR, F1, ACC = [], [], [], []\n",
    "params = []\n",
    "for d in depth:\n",
    "    for e in estimators:\n",
    "        rf = RandomForestClassifier(n_estimators=e, max_depth=d, random_state=0, n_jobs=4)\n",
    "        cv_results = cross_validate(rf, X_train, y_train, cv=10, scoring=confusion_matrix_scorer)\n",
    "        acc, tpr, fpr, f1 = [], [], [], []\n",
    "        for i in range(len(cv_results['test_tp'])):\n",
    "            tp = cv_results['test_tp'][i]\n",
    "            fp = cv_results['test_fp'][i]\n",
    "            tn = cv_results['test_tn'][i]\n",
    "            fn = cv_results['test_fn'][i]\n",
    "\n",
    "            acc += [(tp+tn)/(tp+tn+fp+fn)]\n",
    "            tpr += [tp/(tp+fn)]  # Pd\n",
    "            fpr += [fp/(fp+tn)]  # Pf\n",
    "            \n",
    "            prec = tp/(tp+fp)\n",
    "            recall = tp/(tp+fn)\n",
    "            f1 += [2*prec*recall/(prec+recall)]\n",
    "        \n",
    "        ACC += [np.mean(acc)]\n",
    "        TPR += [np.mean(tpr)]\n",
    "        FPR += [np.mean(fpr)]\n",
    "        F1 += [np.mean(f1)]\n",
    "        params += [(d,e)]        \n",
    "\n",
    "        print(f'{ACC[-1]:8.3f} {d:11.2f} {e:11.2f} {TPR[-1]:6.3f} {FPR[-1]:6.3f} {F1[-1]:6.3f}')\n",
    "    "
   ]
  },
  {
   "cell_type": "code",
   "execution_count": 8,
   "id": "93dad036-b40b-4645-8f3b-528ebf57a22a",
   "metadata": {},
   "outputs": [
    {
     "name": "stdout",
     "output_type": "stream",
     "text": [
      "0.6677621741518849 0.04119178325560737 0.7831009132111164 (12, 100)\n"
     ]
    },
    {
     "data": {
      "image/png": "[encoded data removed]",
      "text/plain": [
       "<Figure size 432x288 with 1 Axes>"
      ]
     },
     "metadata": {
      "needs_background": "light"
     },
     "output_type": "display_data"
    }
   ],
   "source": [
    "best_F1_Ind = F1.index(max(F1))\n",
    "\n",
    "print(TPR[best_F1_Ind], FPR[best_F1_Ind],F1[best_F1_Ind], params[best_F1_Ind])\n",
    "\n",
    "# Sorts the points to display nicely on ROC\n",
    "FPR_sort, TPR_sort = zip(*sorted(zip(FPR, TPR)))\n",
    "fpr = [0.]+list(FPR_sort)+[1.]; tpr = [0.]+list(TPR_sort)+[1.]\n",
    "\n",
    "index_of = TPR_sort.index(TPR[best_F1_Ind])\n",
    "\n",
    "colors = ['red']*len(FPR_sort)\n",
    "colors[index_of] = 'blue'\n",
    "\n",
    "# Plot\n",
    "fig, ax = plt.subplots(dpi=72)\n",
    "plt.plot(fpr, tpr, ':', label='ROC')\n",
    "plt.scatter(FPR_sort, TPR_sort, 50, color='red', marker='o', label='operating points')\n",
    "plt.plot([0, 1], [0, 1], linestyle='--', color=(0.6, 0.6, 0.6), label='coin flip')\n",
    "annot(1, FPR_sort[index_of], TPR_sort[index_of])\n",
    "\n",
    "\n",
    "# Labels\n",
    "plt.xlabel('False Positive Rate')\n",
    "plt.ylabel('True Positive Rate')\n",
    "plt.legend(loc='lower right')\n",
    "plt.grid()\n",
    "plt.show()"
   ]
  },
  {
   "cell_type": "code",
   "execution_count": 9,
   "id": "4a33dfd7-1af2-4f41-93da-feaeba27a03a",
   "metadata": {},
   "outputs": [
    {
     "data": {
      "text/plain": [
       "(31428, 50)"
      ]
     },
     "execution_count": 9,
     "metadata": {},
     "output_type": "execute_result"
    }
   ],
   "source": [
    "X_train.shape"
   ]
  },
  {
   "cell_type": "code",
   "execution_count": 10,
   "id": "81aca5d2-e888-4bc2-9a64-6f2f91e2db11",
   "metadata": {},
   "outputs": [
    {
     "name": "stdout",
     "output_type": "stream",
     "text": [
      "Test Acc    TPR    FPR     F1\n",
      "   0.804  0.666  0.043 0.781\n"
     ]
    }
   ],
   "source": [
    "from sklearn.metrics import accuracy_score\n",
    "\n",
    "final = RandomForestClassifier(n_estimators=100, max_depth=12, random_state=0, n_jobs=4)\n",
    "final.fit(X_train, y_train)\n",
    "y_pred = final.predict(X_test)\n",
    "\n",
    "TRP, FPR, F1 = [], [], []\n",
    "tn, fp, fn, tp = confusion_matrix(y_test, y_pred).ravel()\n",
    "TPR += [tp/(tp+fn)]  # Pd\n",
    "FPR += [fp/(fp+tn)]  # Pf\n",
    "\n",
    "prec = tp/(tp+fp)\n",
    "recall = tp/(tp+fn)\n",
    "F1 += [2*prec*recall/(prec+recall)]\n",
    "\n",
    "print(f'{\"Test Acc\":>8s} {\"TPR\":>6s} {\"FPR\":>6s} {\"F1\":>6s}')\n",
    "print(f'{accuracy_score(y_test, y_pred):8.3f} {TPR[-1]:6.3f} {FPR[-1]:6.3f}{F1[-1]:6.3f}')"
   ]
  },
  {
   "cell_type": "markdown",
   "id": "fb2c89d9-229c-401f-a9fb-9161765b1463",
   "metadata": {},
   "source": [
    "--------------------------------------------------------------------------------------------------------------------------------------------------------------------------"
   ]
  },
  {
   "cell_type": "markdown",
   "id": "82926dc3-45f6-4157-bde3-7f94aa79379c",
   "metadata": {},
   "source": [
    "**Decision Tree Classifier**"
   ]
  },
  {
   "cell_type": "code",
   "execution_count": 11,
   "id": "593bbb04-7487-4885-8f93-b8e06ae933d4",
   "metadata": {},
   "outputs": [
    {
     "name": "stdout",
     "output_type": "stream",
     "text": [
      "Test Acc   Criterion       Depth    Features    TPR    FPR     F1\n",
      "   0.711 gini               3.00        5.00  0.450  0.003  0.620\n",
      "   0.744 gini              10.00        5.00  0.519  0.011  0.679\n",
      "   0.812 gini           10000.00        5.00  0.704  0.070  0.796\n",
      "   0.683 gini               3.00       15.00  0.397  0.005  0.567\n",
      "   0.771 gini              10.00       15.00  0.573  0.013  0.723\n",
      "   0.812 gini           10000.00       15.00  0.703  0.070  0.796\n",
      "   0.711 gini               3.00       30.00  0.450  0.003  0.620\n",
      "   0.774 gini              10.00       30.00  0.593  0.029  0.732\n",
      "   0.813 gini           10000.00       30.00  0.705  0.069  0.797\n",
      "   0.711 entropy            3.00        5.00  0.450  0.003  0.620\n",
      "   0.743 entropy           10.00        5.00  0.519  0.010  0.679\n",
      "   0.813 entropy        10000.00        5.00  0.704  0.068  0.797\n",
      "   0.679 entropy            3.00       15.00  0.389  0.004  0.558\n",
      "   0.763 entropy           10.00       15.00  0.564  0.019  0.713\n",
      "   0.813 entropy        10000.00       15.00  0.705  0.069  0.797\n",
      "   0.711 entropy            3.00       30.00  0.450  0.003  0.620\n",
      "   0.780 entropy           10.00       30.00  0.606  0.030  0.742\n",
      "   0.814 entropy        10000.00       30.00  0.705  0.068  0.798\n",
      "   0.711 log_loss           3.00        5.00  0.450  0.003  0.620\n",
      "   0.743 log_loss          10.00        5.00  0.519  0.010  0.679\n",
      "   0.813 log_loss       10000.00        5.00  0.704  0.068  0.797\n",
      "   0.679 log_loss           3.00       15.00  0.389  0.004  0.558\n",
      "   0.763 log_loss          10.00       15.00  0.564  0.019  0.713\n",
      "   0.813 log_loss       10000.00       15.00  0.705  0.069  0.797\n",
      "   0.711 log_loss           3.00       30.00  0.450  0.003  0.620\n",
      "   0.780 log_loss          10.00       30.00  0.606  0.030  0.742\n",
      "   0.814 log_loss       10000.00       30.00  0.705  0.068  0.798\n"
     ]
    }
   ],
   "source": [
    "from sklearn.metrics import confusion_matrix\n",
    "from sklearn.model_selection import train_test_split, cross_validate\n",
    "from sklearn.tree import DecisionTreeClassifier\n",
    "\n",
    "info_crit = [\"gini\", \"entropy\", \"log_loss\"]\n",
    "features = [5, 15, 30]\n",
    "depth = [3, 10, None]\n",
    "\n",
    "def confusion_matrix_scorer(clf, X, y):\n",
    "    y_pred = clf.predict(X)\n",
    "    cm = confusion_matrix(y, y_pred)\n",
    "    return {'tn':cm[0,0], 'fp': cm[0, 1],\n",
    "            'fn':cm[1,0], 'tp': cm[1, 1]}\n",
    "\n",
    "X_train, X_test, y_train, y_test = train_test_split(X_vec, y, test_size=0.3, random_state=14)\n",
    "\n",
    "print(f'{\"Test Acc\":>8s} {\"Criterion\":>11s} {\"Depth\":>11s} {\"Features\":>11s} {\"TPR\":>6s} {\"FPR\":>6s} {\"F1\":>6s}')\n",
    "FPR, TPR, F1 = [], [], []\n",
    "params = []\n",
    "for i in info_crit:\n",
    "    for f in features:\n",
    "        for d in depth:\n",
    "            rf = DecisionTreeClassifier(criterion=i, max_depth=d, max_features=f, random_state=1)\n",
    "            cv_results = cross_validate(rf, X_train, y_train, cv=10, scoring=confusion_matrix_scorer)\n",
    "            acc, tpr, fpr, f1 = [], [], [], []\n",
    "            for h in range(len(cv_results['test_tp'])):\n",
    "                tp = cv_results['test_tp'][h]\n",
    "                fp = cv_results['test_fp'][h]\n",
    "                tn = cv_results['test_tn'][h]\n",
    "                fn = cv_results['test_fn'][h]\n",
    "\n",
    "                acc += [(tp+tn)/(tp+tn+fp+fn)]\n",
    "                tpr += [tp/(tp+fn)]  # Pd\n",
    "                fpr += [fp/(fp+tn)]  # Pf\n",
    "\n",
    "                prec = tp/(tp+fp)\n",
    "                recall = tp/(tp+fn)\n",
    "                f1 += [2*prec*recall/(prec+recall)]\n",
    "\n",
    "            ACC += [np.mean(acc)]\n",
    "            TPR += [np.mean(tpr)]\n",
    "            FPR += [np.mean(fpr)]\n",
    "            F1 += [np.mean(f1)]\n",
    "            params += [(i,f,d)]\n",
    "            \n",
    "            if d==None:\n",
    "                d=10000\n",
    "                print(f'{ACC[-1]:8.3f} {i:11} {d:11.2f} {f:11.2f} {TPR[-1]:6.3f} {FPR[-1]:6.3f} {F1[-1]:6.3f}')\n",
    "            else:\n",
    "                print(f'{ACC[-1]:8.3f} {i:11} {d:11.2f} {f:11.2f} {TPR[-1]:6.3f} {FPR[-1]:6.3f} {F1[-1]:6.3f}')\n",
    "\n"
   ]
  },
  {
   "cell_type": "code",
   "execution_count": 12,
   "id": "c4afd926-2402-41ad-bc1c-6d0994580e2e",
   "metadata": {},
   "outputs": [
    {
     "name": "stdout",
     "output_type": "stream",
     "text": [
      "0.7052032651717729 0.0679208083499889 0.7980342467019657 ('entropy', 30, None)\n"
     ]
    },
    {
     "data": {
      "image/png": "[encoded data removed]",
      "text/plain": [
       "<Figure size 432x288 with 1 Axes>"
      ]
     },
     "metadata": {
      "needs_background": "light"
     },
     "output_type": "display_data"
    }
   ],
   "source": [
    "best_F1_Ind = F1.index(max(F1))\n",
    "\n",
    "print(TPR[best_F1_Ind], FPR[best_F1_Ind],F1[best_F1_Ind], params[best_F1_Ind])\n",
    "\n",
    "# Sorts the points to display nicely on ROC\n",
    "FPR_sort, TPR_sort = zip(*sorted(zip(FPR, TPR)))\n",
    "fpr = [0.]+list(FPR_sort)+[1.]; tpr = [0.]+list(TPR_sort)+[1.]\n",
    "\n",
    "index_of = TPR_sort.index(TPR[best_F1_Ind])\n",
    "\n",
    "colors = ['red']*len(FPR_sort)\n",
    "colors[index_of] = 'blue'\n",
    "\n",
    "# Plot\n",
    "fig, ax = plt.subplots(dpi=72)\n",
    "plt.plot(fpr, tpr, ':', label='ROC')\n",
    "plt.scatter(FPR_sort, TPR_sort, 50, color='red', marker='o', label='operating points')\n",
    "plt.plot([0, 1], [0, 1], linestyle='--', color=(0.6, 0.6, 0.6), label='coin flip')\n",
    "\n",
    "annot(1, FPR_sort[index_of], TPR_sort[index_of])\n",
    "\n",
    "# Labels\n",
    "plt.xlabel('False Positive Rate')\n",
    "plt.ylabel('True Positive Rate')\n",
    "plt.legend(loc='lower right')\n",
    "plt.grid()\n",
    "plt.show()"
   ]
  },
  {
   "cell_type": "code",
   "execution_count": 13,
   "id": "33fdc2ad-c728-4c11-bc6c-0541fa5119df",
   "metadata": {},
   "outputs": [
    {
     "name": "stdout",
     "output_type": "stream",
     "text": [
      "Test Acc    TPR    FPR     F1\n",
      "   0.815  0.706  0.065 0.800\n"
     ]
    }
   ],
   "source": [
    "from sklearn.metrics import accuracy_score\n",
    "\n",
    "final = DecisionTreeClassifier(criterion='entropy', max_features=30, random_state=1)\n",
    "final.fit(X_train, y_train)\n",
    "y_pred = final.predict(X_test)\n",
    "\n",
    "TRP, FPR, F1 = [], [], []\n",
    "tn, fp, fn, tp = confusion_matrix(y_test, y_pred).ravel()\n",
    "TPR += [tp/(tp+fn)]  # Pd\n",
    "FPR += [fp/(fp+tn)]  # Pf\n",
    "\n",
    "prec = tp/(tp+fp)\n",
    "recall = tp/(tp+fn)\n",
    "F1 += [2*prec*recall/(prec+recall)]\n",
    "\n",
    "print(f'{\"Test Acc\":>8s} {\"TPR\":>6s} {\"FPR\":>6s} {\"F1\":>6s}')\n",
    "print(f'{accuracy_score(y_test, y_pred):8.3f} {TPR[-1]:6.3f} {FPR[-1]:6.3f}{F1[-1]:6.3f}')"
   ]
  },
  {
   "cell_type": "markdown",
   "id": "3b6b71b4-0d6d-41ba-bb1f-eb94c8671d78",
   "metadata": {},
   "source": [
    "------------------------------------------------------------------------------------------------------------------------------------------------------------------------------"
   ]
  },
  {
   "cell_type": "markdown",
   "id": "969aee51-fae9-4989-91bc-6a2ac6c27453",
   "metadata": {},
   "source": [
    "**Multilayer Neural Network**"
   ]
  },
  {
   "cell_type": "code",
   "execution_count": 14,
   "id": "f711e074-b771-486a-b7ab-ccb3c7d35837",
   "metadata": {},
   "outputs": [
    {
     "name": "stdout",
     "output_type": "stream",
     "text": [
      "Test Acc learning rate    neurons layer_size   TPR    FPR     F1\n",
      "   0.814    0.050000        5.00        0.00 0.702  0.063  0.798\n",
      "   0.815    0.050000        5.00        5.00 0.702  0.062  0.798\n",
      "   0.814    0.050000        5.00       10.00 0.710  0.073  0.799\n",
      "   0.814    0.050000       20.00        0.00 0.716  0.079  0.801\n",
      "   0.813    0.050000       20.00        5.00 0.694  0.057  0.795\n",
      "   0.814    0.050000       20.00       10.00 0.702  0.065  0.797\n",
      "   0.811    0.200000        5.00        0.00 0.694  0.062  0.793\n",
      "   0.811    0.200000        5.00        5.00 0.692  0.059  0.793\n",
      "   0.811    0.200000        5.00       10.00 0.691  0.058  0.792\n",
      "   0.814    0.200000       20.00        0.00 0.700  0.062  0.797\n",
      "   0.805    0.200000       20.00        5.00 0.731  0.113  0.796\n",
      "   0.812    0.200000       20.00       10.00 0.699  0.065  0.795\n",
      "   0.802    0.400000        5.00        0.00 0.669  0.051  0.777\n",
      "   0.768    0.400000        5.00        5.00 0.750  0.212  0.776\n",
      "   0.780    0.400000        5.00       10.00 0.716  0.151  0.778\n",
      "   0.806    0.400000       20.00        0.00 0.703  0.082  0.791\n",
      "   0.776    0.400000       20.00        5.00 0.704  0.146  0.771\n",
      "   0.770    0.400000       20.00       10.00 0.734  0.191  0.775\n"
     ]
    }
   ],
   "source": [
    "from sklearn.metrics import confusion_matrix\n",
    "from sklearn.model_selection import train_test_split, cross_validate\n",
    "from sklearn.neural_network import MLPClassifier\n",
    "\n",
    "learning_rate = [0.05, 0.2, 0.4]\n",
    "layer_size = [(5,), (5,5), (5,10), (20,), (20,5), (20,10)]\n",
    "\n",
    "def confusion_matrix_scorer(clf, X, y):\n",
    "    y_pred = clf.predict(X)\n",
    "    cm = confusion_matrix(y, y_pred)\n",
    "    return {'tn':cm[0,0], 'fp': cm[0, 1],\n",
    "            'fn':cm[1,0], 'tp': cm[1, 1]}\n",
    "\n",
    "X_train, X_test, y_train, y_test = train_test_split(X_vec, y, test_size=0.3, random_state=14)\n",
    "\n",
    "print(f'{\"Test Acc\":>8s} {\"learning rate\":>11s}{\"neurons\":>11s}{\"layer_size\":>11s}{\"TPR\":>6s} {\"FPR\":>6s} {\"F1\":>6s}')\n",
    "FPR, TPR, F1, ACC= [], [], [], []\n",
    "params = []\n",
    "for l in learning_rate:\n",
    "    for neuron in layer_size:\n",
    "        rf = MLPClassifier(hidden_layer_sizes= neuron, learning_rate_init= l, random_state=1)\n",
    "        cv_results = cross_validate(rf, X_train, y_train, cv=10, scoring=confusion_matrix_scorer, n_jobs=4)\n",
    "\n",
    "        acc, tpr, fpr, f1 = [], [], [], []\n",
    "        for i in range(len(cv_results['test_tp'])):\n",
    "            tp = cv_results['test_tp'][i]\n",
    "            fp = cv_results['test_fp'][i]\n",
    "            tn = cv_results['test_tn'][i]\n",
    "            fn = cv_results['test_fn'][i]\n",
    "\n",
    "            acc += [(tp+tn)/(tp+tn+fp+fn)]\n",
    "            tpr += [tp/(tp+fn)]  # Pd\n",
    "            fpr += [fp/(fp+tn)]  # Pf\n",
    "            \n",
    "            prec = tp/(tp+fp)\n",
    "            recall = tp/(tp+fn)\n",
    "            f1 += [2*prec*recall/(prec+recall)]\n",
    "        \n",
    "        ACC += [np.mean(acc)]\n",
    "        TPR += [np.mean(tpr)]\n",
    "        FPR += [np.mean(fpr)]\n",
    "        F1 += [np.mean(f1)]\n",
    "    \n",
    "        if len(neuron)<2:\n",
    "            params += [(l,neuron[0],0)]\n",
    "            print(f'{ACC[-1]:8.3f} {l:11.6f} {neuron[0]:11.2f} {params[-1][-1]:11.2f}{TPR[-1]:6.3f} {FPR[-1]:6.3f} {F1[-1]:6.3f}')\n",
    "        else:\n",
    "            params += [(l,neuron[0],neuron[1])]\n",
    "            print(f'{ACC[-1]:8.3f} {l:11.6f} {neuron[0]:11.2f} {neuron[1]:11.2f}{TPR[-1]:6.3f} {FPR[-1]:6.3f} {F1[-1]:6.3f}')\n",
    "\n",
    "\n",
    "        "
   ]
  },
  {
   "cell_type": "code",
   "execution_count": 15,
   "id": "6975191b-cb12-4076-9c02-1f1a5ad9204d",
   "metadata": {},
   "outputs": [
    {
     "name": "stdout",
     "output_type": "stream",
     "text": [
      "0.7159193433478908 0.0788506329113924 0.8007833897569672 (0.05, 20, 0)\n"
     ]
    },
    {
     "data": {
      "image/png": "[encoded data removed]",
      "text/plain": [
       "<Figure size 432x288 with 1 Axes>"
      ]
     },
     "metadata": {
      "needs_background": "light"
     },
     "output_type": "display_data"
    }
   ],
   "source": [
    "best_F1_Ind = F1.index(max(F1))\n",
    "\n",
    "print(TPR[best_F1_Ind], FPR[best_F1_Ind],F1[best_F1_Ind], params[best_F1_Ind])\n",
    "\n",
    "# Sorts the points to display nicely on ROC\n",
    "FPR_sort, TPR_sort = zip(*sorted(zip(FPR, TPR)))\n",
    "fpr = [0.]+list(FPR_sort)+[1.]; tpr = [0.]+list(TPR_sort)+[1.]\n",
    "\n",
    "index_of = TPR_sort.index(TPR[best_F1_Ind])\n",
    "\n",
    "colors = ['red']*len(FPR_sort)\n",
    "colors[index_of] = 'blue'\n",
    "\n",
    "\n",
    "\n",
    "# Plot\n",
    "fig, ax = plt.subplots(dpi=72)\n",
    "plt.plot(fpr, tpr, ':', label='ROC')\n",
    "plt.scatter(FPR_sort, TPR_sort, 50, color=colors, marker='o', label='operating points')\n",
    "plt.plot([0, 1], [0, 1], linestyle='--', color=(0.6, 0.6, 0.6), label='coin flip')\n",
    "\n",
    "annot(1, FPR_sort[index_of], TPR_sort[index_of])\n",
    "\n",
    "# Labels\n",
    "plt.xlabel('False Positive Rate')\n",
    "plt.ylabel('True Positive Rate')\n",
    "plt.legend(loc='lower right')\n",
    "plt.grid()\n",
    "plt.show()"
   ]
  },
  {
   "cell_type": "code",
   "execution_count": 17,
   "id": "b5fbe2a7-4b5f-4f6c-a1dc-ee64f4597a40",
   "metadata": {},
   "outputs": [
    {
     "name": "stdout",
     "output_type": "stream",
     "text": [
      "Test Acc    TPR    FPR     F1\n",
      "   0.815  0.707  0.067 0.800\n"
     ]
    }
   ],
   "source": [
    "from sklearn.metrics import accuracy_score\n",
    "\n",
    "final = MLPClassifier(hidden_layer_sizes= (20,), learning_rate_init= 0.05, random_state=1)\n",
    "final.fit(X_train, y_train)\n",
    "y_pred = final.predict(X_test)\n",
    "\n",
    "TRP, FPR, F1 = [], [], []\n",
    "tn, fp, fn, tp = confusion_matrix(y_test, y_pred).ravel()\n",
    "TPR += [tp/(tp+fn)]  # Pd\n",
    "FPR += [fp/(fp+tn)]  # Pf\n",
    "\n",
    "prec = tp/(tp+fp)\n",
    "recall = tp/(tp+fn)\n",
    "F1 += [2*prec*recall/(prec+recall)]\n",
    "\n",
    "print(f'{\"Test Acc\":>8s} {\"TPR\":>6s} {\"FPR\":>6s} {\"F1\":>6s}')\n",
    "print(f'{accuracy_score(y_test, y_pred):8.3f} {TPR[-1]:6.3f} {FPR[-1]:6.3f}{F1[-1]:6.3f}')"
   ]
  },
  {
   "cell_type": "markdown",
   "id": "e0dfe8e5-d464-4721-b36a-de0f4270be60",
   "metadata": {},
   "source": [
    "**Summary**"
   ]
  },
  {
   "cell_type": "markdown",
   "id": "cb2d4f98-7ae9-4b4c-9908-42b6d1dcfcc1",
   "metadata": {},
   "source": [
    "So, in total let's compare the best hyperparameters that were selected based on F1 score.\n",
    "\n",
    "Random Forest: TPR:0.666 FPR:0.043 F1:0.781 Accuracy: 0.804\n",
    "(Depth:12, Estimators:100)\n",
    "\n",
    "0.804  0.666  0.043 0.781\n",
    "\n",
    "Decision Tree: TPR:0.706 FPR:0.065 F1:0.800 Accuracy: 0.815\n",
    "(Criterion:'entropy', Max_features:30, Cut-off Depth: None)\n",
    "\n",
    "MLP Neural Network: TPR:0.707 FPR:0.067 F1:0.800 Accuracy: 0.815\n",
    "(Learning Rate:0.05, neurons: 20, multi-layers:0)\n"
   ]
  },
  {
   "cell_type": "markdown",
   "id": "074a7825-6c7d-4a9c-9cf0-8fa18b405561",
   "metadata": {},
   "source": [
    "The Neural Network had the greatest success, with marginal returns in increased multilayers or neurons. It's hyperparameter setting achieved the most ideal F1 score, but also the highest TPR, despite a bit of FPR cost. What's noteable is that increased multilayers did not dramatically increase the F1 score and marginal effects on the accuracy."
   ]
  },
  {
   "cell_type": "markdown",
   "id": "e629844d-e41d-4ee3-a424-3b7d7272c65b",
   "metadata": {},
   "source": [
    "***What is the exhibited behavior in the Pd – Pf interaction of an ROC\n",
    "plot, what is the expected behavior?***"
   ]
  },
  {
   "cell_type": "markdown",
   "id": "44f297ff-c1c6-4503-a9b5-25aa3a2965d6",
   "metadata": {},
   "source": [
    "TPR and FPR have a direct relationship. As the algorithm attempts to improve TPR it does so at the cost of increased FPR. Classifiers in contrast to random chance, perform better, meaning they are able to achieve a higher TPR while minimizing FPR. The TPR has an optimal value where peak performance is achieved, but then performance mellows out; as we attempt to increase the rate of predicting all positive outcomes, we do so at the cost of increasing the rate of false positives.\n",
    "\n",
    "Hyper-parameteric tunning tries different variables to attempt to achieve a score that is favorable to the problem at hand. It moves along this ROC curve, and attempts to find the optimal value, the most theoretically optimal value is located at [0,1]. But this value is unachievable unless we train and test on the same dataset, which is a faulty ML design. Instead, different classifiers attempt to push for higher TPR and each have different efficacies. \n",
    "\n",
    "Usually problems come with an acceptable FPR threshold, we then aim for classifiers and hyperparameters that attempt to maximize the TPR while maintaining an acceptable FPR. If such thresholds are not available, one can utilize the F1 score. The F1 score relies on precision and recall, and it favors precision slightly over recall. Remember that recall is exactly the same as the TPR, precision is different than FPR. FPR is concerned with the negative class, of the negative class, it cares about the ratio of correctly labeled negative classes (meaning there are no False Positives (no misses)), even if it means having many erroneous False Negatives. Precision cares about the ***accuracy*** of the positive class (meaning there are no False Positives), so long as it accurately describes positive classes, then it doesn't matter if it misses many of them.\n",
    "\n",
    "Recall works opposite of Precision, as the dataset grows larger, to increase Recall (catch all positive cases), it would mean that we allow some False Positives; this lowers precision. How does this interaction compare against our problem, and which metric should we use?\n",
    "\n",
    "Remember that we assigned Fake news cases with a value of 1; sklearn classifiers use this value of 1 as the positive case. In the news, news from different sources is valued differently, government sources, CIA, FBI, IRS tend to have more information before informing the public. It's vital that this news is not marked as Fake, so it's really important that we are accurate in what we describe to be the positive. Imagine if we were to report that a natural disaster signal, or danger of an impending nuclear bomb, as fake. We have to be specific in what we mark as Fake (positive), while attempting to catch all the Fake cases. This means we have to prioritize precision.\n",
    "\n",
    "An excellent metric to use in this case is the F1 score, it combines information of Recall and Precision, while prioritizing Precision. This is my justification for utilizing F1 score, over other metrics."
   ]
  },
  {
   "cell_type": "markdown",
   "id": "310e8f3c-7072-4876-aedb-e24dbefa2ca3",
   "metadata": {},
   "source": [
    "***From the ROC plot, let's make a selection of the classifier and hyperparameter setting for this problem. Note that we are classifying fake news so your\n",
    "conclusion might be subjective but has to be supported by our findings.***"
   ]
  },
  {
   "cell_type": "markdown",
   "id": "d858d918-e50b-4d31-b1b3-ee097d93e788",
   "metadata": {},
   "source": [
    "As justified by my previous answer, the F1 score is the best metric to choose our classifier and hyperparameters, as it prioritizes precision while incorporating recall. Based on this metric, the MLP classifier had the best F1 score.\n",
    "\n",
    "It provided a F1 score of 0.800, an Accuracy of 0.815 which was also highest, a TPR score of 0.707, and an FPR score of 0.067. The hyperparameters that resulted in these outcomes were:\n",
    "\n",
    "A learning rate of 0.05\n",
    "Layers of size 0\n",
    "And 20 neurons per layer.\n",
    "\n",
    "Tuning of this classifier was the most computationally intensive, and it could be argued if the results justify the ~15min added computational time. Depending on the importance of this project/ the size of the ML scheme, including this classifier in our analysis could be justified, especially if maximizing TPR is a priority."
   ]
  },
  {
   "cell_type": "markdown",
   "id": "d0a29192-8314-4c27-b149-e9b8ef319fac",
   "metadata": {},
   "source": [
    "### ***Let's add a text column and use a model to predict our performance:***"
   ]
  },
  {
   "cell_type": "code",
   "execution_count": 18,
   "id": "a7d96e2c-3b52-4e66-ac02-cb80ad55bc51",
   "metadata": {},
   "outputs": [
    {
     "name": "stdout",
     "output_type": "stream",
     "text": [
      "(44898, 50)\n",
      "(44898, 50)\n",
      "(44898, 100)\n"
     ]
    }
   ],
   "source": [
    "from scipy.sparse import hstack\n",
    "import numpy as np\n",
    "\n",
    "X_vec1 = TfidfVectorizer(stop_words='english', max_features=50\n",
    ").fit_transform(df['title'])\n",
    "\n",
    "print(X_vec1.shape)\n",
    "\n",
    "X_vec2 = TfidfVectorizer(stop_words='english', max_features=50\n",
    ").fit_transform(df['text'])\n",
    "\n",
    "print(X_vec2.shape)\n",
    "\n",
    "X_vec_comp = hstack((X_vec1, X_vec2), format='csr')\n",
    "print(X_vec_comp.shape)"
   ]
  },
  {
   "cell_type": "code",
   "execution_count": 19,
   "id": "661c6967-7531-4398-969a-1494d03a4f3e",
   "metadata": {},
   "outputs": [
    {
     "name": "stdout",
     "output_type": "stream",
     "text": [
      "Test Acc       alpha   TPR    FPR     F1\n",
      "   0.913    0.200000 0.891  0.063  0.914\n",
      "   0.913    0.500000 0.891  0.063  0.914\n",
      "   0.913    1.000000 0.891  0.063  0.914\n",
      "   0.913    5.000000 0.891  0.063  0.914\n",
      "   0.913   10.000000 0.891  0.064  0.914\n",
      "   0.912   20.000000 0.891  0.064  0.914\n",
      "   0.912   50.000000 0.891  0.065  0.914\n",
      "   0.911  100.000000 0.889  0.065  0.913\n",
      "   0.908  500.000000 0.889  0.071  0.910\n",
      "   0.905 1000.000000 0.893  0.081  0.908\n",
      "   0.891 5000.000000 0.937  0.160  0.900\n",
      "   0.854 10000.000000 0.972  0.276  0.874\n"
     ]
    }
   ],
   "source": [
    "from sklearn.metrics import confusion_matrix\n",
    "from sklearn.model_selection import train_test_split, cross_validate\n",
    "from sklearn.naive_bayes import MultinomialNB\n",
    "\n",
    "alpha = [0.2,0.5, 1, 5, 10, 20, 50, 100, 500, 1000, 5000, 10000]\n",
    "\n",
    "def confusion_matrix_scorer(clf, X, y):\n",
    "    y_pred = clf.predict(X)\n",
    "    cm = confusion_matrix(y, y_pred)\n",
    "    return {'tn':cm[0,0], 'fp': cm[0, 1],\n",
    "            'fn':cm[1,0], 'tp': cm[1, 1]}\n",
    "\n",
    "X_train, X_test, y_train, y_test = train_test_split(X_vec_comp, y, test_size=0.3, random_state=14)\n",
    "\n",
    "print(f'{\"Test Acc\":>8s} {\"alpha\":>11s}{\"TPR\":>6s} {\"FPR\":>6s} {\"F1\":>6s}')\n",
    "FPR, TPR, F1, ACC= [], [], [], []\n",
    "params = []\n",
    "for a in alpha:\n",
    "    rf = MultinomialNB(alpha = a)\n",
    "    cv_results = cross_validate(rf, X_train, y_train, cv=10, scoring=confusion_matrix_scorer, n_jobs=4)\n",
    "\n",
    "    acc, tpr, fpr, f1 = [], [], [], []\n",
    "    for i in range(len(cv_results['test_tp'])):\n",
    "        tp = cv_results['test_tp'][i]\n",
    "        fp = cv_results['test_fp'][i]\n",
    "        tn = cv_results['test_tn'][i]\n",
    "        fn = cv_results['test_fn'][i]\n",
    "\n",
    "        acc += [(tp+tn)/(tp+tn+fp+fn)]\n",
    "        tpr += [tp/(tp+fn)]  # Pd\n",
    "        fpr += [fp/(fp+tn)]  # Pf\n",
    "\n",
    "        prec = tp/(tp+fp)\n",
    "        recall = tp/(tp+fn)\n",
    "        f1 += [2*prec*recall/(prec+recall)]\n",
    "\n",
    "    ACC += [np.mean(acc)]\n",
    "    TPR += [np.mean(tpr)]\n",
    "    FPR += [np.mean(fpr)]\n",
    "    F1 += [np.mean(f1)]\n",
    "    params += [a]\n",
    "\n",
    "    print(f'{ACC[-1]:8.3f} {a:11.6f}{TPR[-1]:6.3f} {FPR[-1]:6.3f} {F1[-1]:6.3f}')"
   ]
  },
  {
   "cell_type": "code",
   "execution_count": 20,
   "id": "d835035c-0d0a-41bc-a09b-df76615d6d3b",
   "metadata": {},
   "outputs": [
    {
     "name": "stdout",
     "output_type": "stream",
     "text": [
      "0.8907154925150291 0.06272107483899622 0.9144898816929807 0.5\n"
     ]
    },
    {
     "data": {
      "image/png": "[encoded data removed]",
      "text/plain": [
       "<Figure size 432x288 with 1 Axes>"
      ]
     },
     "metadata": {
      "needs_background": "light"
     },
     "output_type": "display_data"
    }
   ],
   "source": [
    "best_F1_Ind = F1.index(max(F1))\n",
    "\n",
    "print(TPR[best_F1_Ind], FPR[best_F1_Ind],F1[best_F1_Ind], params[best_F1_Ind])\n",
    "\n",
    "# Sorts the points to display nicely on ROC\n",
    "FPR_sort, TPR_sort = zip(*sorted(zip(FPR, TPR)))\n",
    "fpr = [0.]+list(FPR_sort)+[1.]; tpr = [0.]+list(TPR_sort)+[1.]\n",
    "\n",
    "index_of = TPR_sort.index(TPR[best_F1_Ind])\n",
    "\n",
    "colors = ['red']*len(FPR_sort)\n",
    "colors[index_of] = 'blue'\n",
    "\n",
    "\n",
    "\n",
    "# Plot\n",
    "fig, ax = plt.subplots(dpi=72)\n",
    "plt.plot(fpr, tpr, ':', label='ROC')\n",
    "plt.scatter(FPR_sort, TPR_sort, 50, color=colors, marker='o', label='operating points')\n",
    "plt.plot([0, 1], [0, 1], linestyle='--', color=(0.6, 0.6, 0.6), label='coin flip')\n",
    "\n",
    "annot(1, FPR_sort[index_of], TPR_sort[index_of])\n",
    "\n",
    "# Labels\n",
    "plt.xlabel('False Positive Rate')\n",
    "plt.ylabel('True Positive Rate')\n",
    "plt.legend(loc='lower right')\n",
    "plt.grid()\n",
    "plt.show()"
   ]
  },
  {
   "cell_type": "code",
   "execution_count": 21,
   "id": "cc1a1f6f-defd-4597-95b9-f5db94bf9919",
   "metadata": {},
   "outputs": [
    {
     "name": "stdout",
     "output_type": "stream",
     "text": [
      "Test Acc    TPR    FPR     F1\n",
      "   0.908  0.884  0.065 0.910\n"
     ]
    }
   ],
   "source": [
    "from sklearn.metrics import accuracy_score\n",
    "\n",
    "final = MultinomialNB(alpha = 0.5)\n",
    "final.fit(X_train, y_train)\n",
    "y_pred = final.predict(X_test)\n",
    "\n",
    "TRP, FPR, F1 = [], [], []\n",
    "tn, fp, fn, tp = confusion_matrix(y_test, y_pred).ravel()\n",
    "TPR += [tp/(tp+fn)]  # Pd\n",
    "FPR += [fp/(fp+tn)]  # Pf\n",
    "\n",
    "prec = tp/(tp+fp)\n",
    "recall = tp/(tp+fn)\n",
    "F1 += [2*prec*recall/(prec+recall)]\n",
    "\n",
    "print(f'{\"Test Acc\":>8s} {\"TPR\":>6s} {\"FPR\":>6s} {\"F1\":>6s}')\n",
    "print(f'{accuracy_score(y_test, y_pred):8.3f} {TPR[-1]:6.3f} {FPR[-1]:6.3f}{F1[-1]:6.3f}')"
   ]
  },
  {
   "cell_type": "markdown",
   "id": "0167d5bb-3407-47f1-ac1f-b0ff34378631",
   "metadata": {},
   "source": [
    "***Why did our performance increase in comparison to the model using only the title column?***"
   ]
  },
  {
   "cell_type": "markdown",
   "id": "40715774-992f-4f5b-b80d-5b3297de75a9",
   "metadata": {},
   "source": [
    "Our accuracy jumped from a meager 81.4% in the neural network classifier with only the title column in the dataset, to a respectable 90.8% using the Multinomial Naive Bayes classifier and considering the top 50 features of each of the title column and text column. Clearly, adding an extra degree of dimensionality from the titles, advanced our algorithms predictive prowess. Furthermore, our TPR advanced substantially from 0.704 to 0.884 with the same FPR. This indicates a model with a greater Recall in detecting the Fake stories, meaning we are able to substantiate more of the Fake stories. It makes sense that the text can help increase the substantiation of Fake news, note only does it introducing additional dimensionality to the data, but the text data is in itself adds context perhaps even sources which can help discern what is Fake news from Real news. The results indicate that the top 50 words in titles simply didn't have enough data to lead to a good correlation, adding the text helped with this. Despite this problem having a large number of dimensions initially with the titles, one would think it suffers from the curse of Dimensionality, however the nature of the problem is classifying semantics behind Fake news, so the number of features \"keywords\" that we will likely need, needs to increase appropriately to address the problem. This is a rare instance where increasing the \"vocabulary\", the dimensions helps the classifier, and certain classifiers tend to behave better than others."
   ]
  }
 ],
 "metadata": {
  "kernelspec": {
   "display_name": "Python 3 (ipykernel)",
   "language": "python",
   "name": "python3"
  },
  "language_info": {
   "codemirror_mode": {
    "name": "ipython",
    "version": 3
   },
   "file_extension": ".py",
   "mimetype": "text/x-python",
   "name": "python",
   "nbconvert_exporter": "python",
   "pygments_lexer": "ipython3",
   "version": "3.11.4"
  }
 },
 "nbformat": 4,
 "nbformat_minor": 5
}
