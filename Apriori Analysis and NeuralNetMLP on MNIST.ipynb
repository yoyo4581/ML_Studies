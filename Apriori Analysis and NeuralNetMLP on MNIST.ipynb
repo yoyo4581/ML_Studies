{
 "cells": [
  {
   "cell_type": "markdown",
   "id": "9342561d-583c-4ddf-9b4c-2cfee0a39343",
   "metadata": {
    "tags": []
   },
   "source": [
    "# Apriori Analysis of Alice in Wonderlands"
   ]
  },
  {
   "cell_type": "markdown",
   "id": "ee92376b-8883-491e-b15e-49269a196a20",
   "metadata": {},
   "source": [
    "**Cleaning the data by removing stop words, then translating words in sentence to numeric values**"
   ]
  },
  {
   "cell_type": "code",
   "execution_count": 3,
   "id": "57b88b43-d7d9-493a-9c0f-9e814439aa9e",
   "metadata": {},
   "outputs": [],
   "source": [
    "from nltk.corpus import gutenberg, stopwords\n",
    "import re\n",
    "\n",
    "Stop_words = stopwords.words('english')\n",
    "Sentences = gutenberg.sents('carroll-alice.txt')\n",
    "\n",
    "TermsSentences = []\n",
    "for terms in Sentences:\n",
    "    item_id = 0\n",
    "    terms = [w for w in terms if w not in Stop_words]\n",
    "    terms = [w for w in terms if re.search(r'^[a-zA-Z]{2}', w) is not None]\n",
    "    TermsSentences += [terms]"
   ]
  },
  {
   "cell_type": "code",
   "execution_count": 4,
   "id": "2ff2cf31-2d05-4f98-b54a-fa7bc4db04db",
   "metadata": {},
   "outputs": [],
   "source": [
    "import numpy as np\n",
    "Terms_ids = {}\n",
    "Term_names = {}\n",
    "\n",
    "sent_rev = []\n",
    "item_id = 0\n",
    "Terms_decoded = []\n",
    "for termSent in TermsSentences:\n",
    "    sent_rev = []\n",
    "    for item in termSent:\n",
    "        if item not in Terms_ids:\n",
    "            Terms_ids[item] = item_id\n",
    "            Term_names[item_id] = item\n",
    "            item_id += 1\n",
    "        sent_rev += [Terms_ids[item]] \n",
    "    Terms_decoded += [sent_rev]\n",
    "\n",
    "M, N = len(Terms_ids), len(TermsSentences)\n",
    "\n",
    "Terms = np.arange(0,M)"
   ]
  },
  {
   "cell_type": "code",
   "execution_count": 5,
   "id": "6650baab-5374-47cc-819a-d52c65f5e370",
   "metadata": {},
   "outputs": [
    {
     "name": "stdout",
     "output_type": "stream",
     "text": [
      "2793 1703\n"
     ]
    }
   ],
   "source": [
    "print(M, N)"
   ]
  },
  {
   "cell_type": "code",
   "execution_count": 6,
   "id": "ced0adaa-9edc-42d5-bde3-f6ba774e9e86",
   "metadata": {},
   "outputs": [
    {
     "name": "stdout",
     "output_type": "stream",
     "text": [
      "['Alice', 'Adventures', 'Wonderland', 'Lewis', 'Carroll', 'CHAPTER', 'Down']\n",
      "[[0, 1, 2, 3, 4], [5], [6, 7, 8], [0, 9, 10, 11, 12, 13, 14, 15, 16, 17, 18, 13, 19, 20, 21, 22, 18, 23, 0, 24, 20, 25], [26, 27, 28, 29, 30, 31, 32, 33, 34, 35, 36, 37, 38, 39, 40, 41, 42, 43, 44, 45, 46, 47, 48, 49, 7, 50, 51, 52, 53], [54, 15, 55, 56, 0, 57, 55, 58, 59, 60, 7, 61, 62, 63], [62, 63]]\n"
     ]
    }
   ],
   "source": [
    "# Sanity check\n",
    "print([Term_names[_] for _ in Terms[0:7]])\n",
    "print(Terms_decoded[:7])"
   ]
  },
  {
   "cell_type": "code",
   "execution_count": 7,
   "id": "28d437c5-4527-4300-9b70-0213d4c6c90e",
   "metadata": {},
   "outputs": [
    {
     "name": "stdout",
     "output_type": "stream",
     "text": [
      "[[1 0 0 0 0 0 0 0 0 0 0 0 0 0 0 0 0 0 0 0 0 0 0 0 0 0 0 0 0 1 0 0 0 0 0 0\n",
      "  0 0 0 0 0 0 0 0 0 0 0 0 1 0 0 0 0 0 0 0 0 1 0 1 0 0 0 0 0 0 0 0 0 0 0 0\n",
      "  0 0 0 0 0 0 0 0 0 0 0 0 0 0 0 0 0 0 1 0 0 0 0 0 0 0 0 0 0 0 0 1 0 0 0 1\n",
      "  1 0 1 1 1 1 1 1 1 1 1 0 0 0 0 0 0 0 0 0 0 0 0 0 0 0 0 0 0 0 0 0 0 0 0 0\n",
      "  0 0 0 0 0 0 0 0 0 0 0 0 0 0 0 0 0 0 0 0 0 0 0 0 0 0 0 0 0 0 0 0 0 0 0 0\n",
      "  0 0 0 0 0 0 0 0 0 0 0 0 0 0 0 0 0 0 0 0 0 0 0 0 0 0 0 0 0 0 0 0 0 0 0 0\n",
      "  0 0 0 0 0 0 0 0 0 0 0 0 0 0 0 0 0 0 0 0 0 0 0 0 0 0 0 0 0 0 0 0 0 0 0 0\n",
      "  0 0 0 0 0 0 0 0 0 0 0 0 0 0 0 0 0 0 0 0 0 0 0 0 0 0 0 0 0 0 0 0 0 0 0 0\n",
      "  0 0 0 0 0 0 0 0 0 0 0 0 0 0 0 0 0 0 0 0 0 0 0 0 0 0 0 0 0 0 0 0 0 0 0 0\n",
      "  0 0 0 0 0 0 0 0 0 0 0 0 0 0 0 0 0 0 0 0 0 0 0 0 0 0 0 0 0 0 0 0 0 0 0 0\n",
      "  0 0 0 0 0 0 0 0 0 0 0 0 0 0 0 0 0 0 0 0 0 0 0 0 0 0 0 0 0 0 0 0 0 0 0 0\n",
      "  0 0 0 0 0 0 0 0 0 0 0 0 0 0 0 0 0 0 0 0 0 0 0 0 0 0 0 0 0 0 0 0 0 0 0 0\n",
      "  0 0 0 0 0 0 0 0 0 0 0 0 0 0 0 0 0 0 0 0 0 0 0 0 0 0 0 0 0 0 0 0 0 0 0 0\n",
      "  0 0 0 0 0 0 0 0 0 0 0 0 0 0 0 0 0 0 0 0 0 0 0 0 0 0 0 0 0 0 0 0 0 0 0 0\n",
      "  0 0 0 0 0 0 0 0 0 0 0 0 0 0 0 0 0 0 0 0 0 0 0 0 0 0 0 0 0 0 0 0 0 0 0 0\n",
      "  0 0 0 0 0 0 0 0 0 0 0 0 0 0 0 0 0 0 0 0 0 0 0 0 0 0 0 0 0 0 0 0 0 0 0 0\n",
      "  0 0 0 0 0 0 0 0 0 0 0 0 0 0 0 0 0 0 0 0 0 0 0 0 0 0 0 0 0 0 0 0 0 0 0 0\n",
      "  0 0 0 0 0 0 0 0 0 0 0 0 0 0 0 0 0 0 0 0 0 0 0 0 0 0 0 0 0 0 0 0 0 0 0 0\n",
      "  0 0 0 0 0 0 0 0 0 0 0 0 0 0 0 0 0 0 0 0 0 0 0 0 0 0 0 0 0 0 0 0 0 0 0 0\n",
      "  0 0 0 0 0 0 0 0 0 0 0 0 0 0 0 0 0 0 0 0 0 0 0 0 0 0 0 0 0 0 0 0 0 0 0 0\n",
      "  0 0 0 0 0 0 0 0 0 0 0 0 0 0 0 0 0 0 0 0 0 0 0 0 0 0 0 0 0 0 0 0 0 0 0 0\n",
      "  0 0 0 0 0 0 0 0 0 0 0 0 0 0 0 0 0 0 0 0 0 0 0 0 0 0 0 0 0 0 0 0 0 0 0 0\n",
      "  0 0 0 0 0 0 0 0 0 0 0 0 0 0 0 0 0 0 0 0 0 0 0 0 0 0 0 0 0 0 0 0 0 0 0 0\n",
      "  0 0 0 0 0 0 0 0 0 0 0 0 0 0 0 0 0 0 0 0 0 0 0 0 0 0 0 0 0 0 0 0 0 0 0 0\n",
      "  0 0 0 0 0 0 0 0 0 0 0 0 0 0 0 0 0 0 0 0 0 0 0 0 0 0 0 0 0 0 0 0 0 0 0 0\n",
      "  0 0 0 0 0 0 0 0 0 0 0 0 0 0 0 0 0 0 0 0 0 0 0 0 0 0 0 0 0 0 0 0 0 0 0 0\n",
      "  0 0 0 0 0 0 0 0 0 0 0 0 0 0 0 0 0 0 0 0 0 0 0 0 0 0 0 0 0 0 0 0 0 0 0 0\n",
      "  0 0 0 0 0 0 0 0 0 0 0 0 0 0 0 0 0 0 0 0 0 0 0 0 0 0 0 0 0 0 0 0 0 0 0 0\n",
      "  0 0 0 0 0 0 0 0 0 0 0 0 0 0 0 0 0 0 0 0 0 0 0 0 0 0 0 0 0 0 0 0 0 0 0 0\n",
      "  0 0 0 0 0 0 0 0 0 0 0 0 0 0 0 0 0 0 0 0 0 0 0 0 0 0 0 0 0 0 0 0 0 0 0 0\n",
      "  0 0 0 0 0 0 0 0 0 0 0 0 0 0 0 0 0 0 0 0 0 0 0 0 0 0 0 0 0 0 0 0 0 0 0 0\n",
      "  0 0 0 0 0 0 0 0 0 0 0 0 0 0 0 0 0 0 0 0 0 0 0 0 0 0 0 0 0 0 0 0 0 0 0 0\n",
      "  0 0 0 0 0 0 0 0 0 0 0 0 0 0 0 0 0 0 0 0 0 0 0 0 0 0 0 0 0 0 0 0 0 0 0 0\n",
      "  0 0 0 0 0 0 0 0 0 0 0 0 0 0 0 0 0 0 0 0 0 0 0 0 0 0 0 0 0 0 0 0 0 0 0 0\n",
      "  0 0 0 0 0 0 0 0 0 0 0 0 0 0 0 0 0 0 0 0 0 0 0 0 0 0 0 0 0 0 0 0 0 0 0 0\n",
      "  0 0 0 0 0 0 0 0 0 0 0 0 0 0 0 0 0 0 0 0 0 0 0 0 0 0 0 0 0 0 0 0 0 0 0 0\n",
      "  0 0 0 0 0 0 0 0 0 0 0 0 0 0 0 0 0 0 0 0 0 0 0 0 0 0 0 0 0 0 0 0 0 0 0 0\n",
      "  0 0 0 0 0 0 0 0 0 0 0 0 0 0 0 0 0 0 0 0 0 0 0 0 0 0 0 0 0 0 0 0 0 0 0 0\n",
      "  0 0 0 0 0 0 0 0 0 0 0 0 0 0 0 0 0 0 0 0 0 0 0 0 0 0 0 0 0 0 0 0 0 0 0 0\n",
      "  0 0 0 0 0 0 0 0 0 0 0 0 0 0 0 0 0 0 0 0 0 0 0 0 0 0 0 0 0 0 0 0 0 0 0 0\n",
      "  0 0 0 0 0 0 0 0 0 0 0 0 0 0 0 0 0 0 0 0 0 0 0 0 0 0 0 0 0 0 0 0 0 0 0 0\n",
      "  0 0 0 0 0 0 0 0 0 0 0 0 0 0 0 0 0 0 0 0 0 0 0 0 0 0 0 0 0 0 0 0 0 0 0 0\n",
      "  0 0 0 0 0 0 0 0 0 0 0 0 0 0 0 0 0 0 0 0 0 0 0 0 0 0 0 0 0 0 0 0 0 0 0 0\n",
      "  0 0 0 0 0 0 0 0 0 0 0 0 0 0 0 0 0 0 0 0 0 0 0 0 0 0 0 0 0 0 0 0 0 0 0 0\n",
      "  0 0 0 0 0 0 0 0 0 0 0 0 0 0 0 0 0 0 0 0 0 0 0 0 0 0 0 0 0 0 0 0 0 0 0 0\n",
      "  0 0 0 0 0 0 0 0 0 0 0 0 0 0 0 0 0 0 0 0 0 0 0 0 0 0 0 0 0 0 0 0 0 0 0 0\n",
      "  0 0 0 0 0 0 0 0 0 0 0 0 0 0 0 0 0 0 0 0 0 0 0 0 0 0 0 0 0 0 0 0 0 0 0 0\n",
      "  0 0 0 0 0 0 0 0 0 0 0 0 0 0 0 0 0 0 0 0 0 0 0 0 0 0 0 0 0 0 0 0 0 0 0 0\n",
      "  0 0 0 0 0 0 0 0 0 0 0 0 0 0 0 0 0 0 0 0 0 0 0 0 0 0 0 0 0 0 0 0 0 0 0 0\n",
      "  0 0 0 0 0 0 0 0 0 0 0 0 0 0 0 0 0 0 0 0 0 0 0 0 0 0 0 0 0 0 0 0 0 0 0 0\n",
      "  0 0 0 0 0 0 0 0 0 0 0 0 0 0 0 0 0 0 0 0 0 0 0 0 0 0 0 0 0 0 0 0 0 0 0 0\n",
      "  0 0 0 0 0 0 0 0 0 0 0 0 0 0 0 0 0 0 0 0 0 0 0 0 0 0 0 0 0 0 0 0 0 0 0 0\n",
      "  0 0 0 0 0 0 0 0 0 0 0 0 0 0 0 0 0 0 0 0 0 0 0 0 0 0 0 0 0 0 0 0 0 0 0 0\n",
      "  0 0 0 0 0 0 0 0 0 0 0 0 0 0 0 0 0 0 0 0 0 0 0 0 0 0 0 0 0 0 0 0 0 0 0 0\n",
      "  0 0 0 0 0 0 0 0 0 0 0 0 0 0 0 0 0 0 0 0 0 0 0 0 0 0 0 0 0 0 0 0 0 0 0 0\n",
      "  0 0 0 0 0 0 0 0 0 0 0 0 0 0 0 0 0 0 0 0 0 0 0 0 0 0 0 0 0 0 0 0 0 0 0 0\n",
      "  0 0 0 0 0 0 0 0 0 0 0 0 0 0 0 0 0 0 0 0 0 0 0 0 0 0 0 0 0 0 0 0 0 0 0 0\n",
      "  0 0 0 0 0 0 0 0 0 0 0 0 0 0 0 0 0 0 0 0 0 0 0 0 0 0 0 0 0 0 0 0 0 0 0 0\n",
      "  0 0 0 0 0 0 0 0 0 0 0 0 0 0 0 0 0 0 0 0 0 0 0 0 0 0 0 0 0 0 0 0 0 0 0 0\n",
      "  0 0 0 0 0 0 0 0 0 0 0 0 0 0 0 0 0 0 0 0 0 0 0 0 0 0 0 0 0 0 0 0 0 0 0 0\n",
      "  0 0 0 0 0 0 0 0 0 0 0 0 0 0 0 0 0 0 0 0 0 0 0 0 0 0 0 0 0 0 0 0 0 0 0 0\n",
      "  0 0 0 0 0 0 0 0 0 0 0 0 0 0 0 0 0 0 0 0 0 0 0 0 0 0 0 0 0 0 0 0 0 0 0 0\n",
      "  0 0 0 0 0 0 0 0 0 0 0 0 0 0 0 0 0 0 0 0 0 0 0 0 0 0 0 0 0 0 0 0 0 0 0 0\n",
      "  0 0 0 0 0 0 0 0 0 0 0 0 0 0 0 0 0 0 0 0 0 0 0 0 0 0 0 0 0 0 0 0 0 0 0 0\n",
      "  0 0 0 0 0 0 0 0 0 0 0 0 0 0 0 0 0 0 0 0 0 0 0 0 0 0 0 0 0 0 0 0 0 0 0 0\n",
      "  0 0 0 0 0 0 0 0 0 0 0 0 0 0 0 0 0 0 0 0 0 0 0 0 0 0 0 0 0 0 0 0 0 0 0 0\n",
      "  0 0 0 0 0 0 0 0 0 0 0 0 0 0 0 0 0 0 0 0 0 0 0 0 0 0 0 0 0 0 0 0 0 0 0 0\n",
      "  0 0 0 0 0 0 0 0 0 0 0 0 0 0 0 0 0 0 0 0 0 0 0 0 0 0 0 0 0 0 0 0 0 0 0 0\n",
      "  0 0 0 0 0 0 0 0 0 0 0 0 0 0 0 0 0 0 0 0 0 0 0 0 0 0 0 0 0 0 0 0 0 0 0 0\n",
      "  0 0 0 0 0 0 0 0 0 0 0 0 0 0 0 0 0 0 0 0 0 0 0 0 0 0 0 0 0 0 0 0 0 0 0 0\n",
      "  0 0 0 0 0 0 0 0 0 0 0 0 0 0 0 0 0 0 0 0 0 0 0 0 0 0 0 0 0 0 0 0 0 0 0 0\n",
      "  0 0 0 0 0 0 0 0 0 0 0 0 0 0 0 0 0 0 0 0 0 0 0 0 0 0 0 0 0 0 0 0 0 0 0 0\n",
      "  0 0 0 0 0 0 0 0 0 0 0 0 0 0 0 0 0 0 0 0 0 0 0 0 0 0 0 0 0 0 0 0 0 0 0 0\n",
      "  0 0 0 0 0 0 0 0 0 0 0 0 0 0 0 0 0 0 0 0 0 0 0 0 0 0 0 0 0 0 0 0 0 0 0 0\n",
      "  0 0 0 0 0 0 0 0 0 0 0 0 0 0 0 0 0 0 0 0 0 0 0 0 0 0 0 0 0 0 0 0 0 0 0 0\n",
      "  0 0 0 0 0 0 0 0 0 0 0 0 0 0 0 0 0 0 0 0 0 0 0 0 0 0 0 0 0 0 0 0 0 0 0 0\n",
      "  0 0 0 0 0 0 0 0 0 0 0 0 0 0 0 0 0 0 0 0 0 0 0 0 0 0 0 0 0 0 0 0 0 0 0 0\n",
      "  0 0 0 0 0 0 0 0 0 0 0 0 0 0 0 0 0 0 0 0 0]\n",
      " [0 0 0 0 0 0 0 0 0 0 0 0 0 0 0 0 0 0 0 0 0 0 0 0 0 0 0 0 0 1 0 0 0 0 0 0\n",
      "  0 0 0 0 0 0 0 0 0 0 0 0 0 0 0 0 0 0 0 0 0 0 0 0 0 0 0 0 0 0 0 0 0 0 1 0\n",
      "  0 0 0 0 0 0 0 0 0 0 0 0 0 0 0 0 0 0 0 0 0 0 0 0 0 0 0 0 0 0 0 0 0 0 0 0\n",
      "  1 0 0 0 0 0 0 0 0 0 1 1 1 1 1 1 1 1 1 1 0 0 0 0 0 0 0 0 0 0 0 0 0 0 0 0\n",
      "  0 0 0 0 0 0 0 0 0 0 0 0 0 0 0 0 0 0 0 0 0 0 0 0 0 0 0 0 0 0 0 0 0 0 0 0\n",
      "  0 0 0 0 0 0 0 0 0 0 0 0 0 0 0 0 0 0 0 0 0 0 0 0 0 0 0 0 0 0 0 0 0 0 0 0\n",
      "  0 0 0 0 0 0 0 0 0 0 0 0 0 0 0 0 0 0 0 0 0 0 0 0 0 0 0 0 0 0 0 0 0 0 0 0\n",
      "  0 0 0 0 0 0 0 0 0 0 0 0 0 0 0 0 0 0 0 0 0 0 0 0 0 0 0 0 0 0 0 0 0 0 0 0\n",
      "  0 0 0 0 0 0 0 0 0 0 0 0 0 0 0 0 0 0 0 0 0 0 0 0 0 0 0 0 0 0 0 0 0 0 0 0\n",
      "  0 0 0 0 0 0 0 0 0 0 0 0 0 0 0 0 0 0 0 0 0 0 0 0 0 0 0 0 0 0 0 0 0 0 0 0\n",
      "  0 0 0 0 0 0 0 0 0 0 0 0 0 0 0 0 0 0 0 0 0 0 0 0 0 0 0 0 0 0 0 0 0 0 0 0\n",
      "  0 0 0 0 0 0 0 0 0 0 0 0 0 0 0 0 0 0 0 0 0 0 0 0 0 0 0 0 0 0 0 0 0 0 0 0\n",
      "  0 0 0 0 0 0 0 0 0 0 0 0 0 0 0 0 0 0 0 0 0 0 0 0 0 0 0 0 0 0 0 0 0 0 0 0\n",
      "  0 0 0 0 0 0 0 0 0 0 0 0 0 0 0 0 0 0 0 0 0 0 0 0 0 0 0 0 0 0 0 0 0 0 0 0\n",
      "  0 0 0 0 0 0 0 0 0 0 0 0 0 0 0 0 0 0 0 0 0 0 0 0 0 0 0 0 0 0 0 0 0 0 0 0\n",
      "  0 0 0 0 0 0 0 0 0 0 0 0 0 0 0 0 0 0 0 0 0 0 0 0 0 0 0 0 0 0 0 0 0 0 0 0\n",
      "  0 0 0 0 0 0 0 0 0 0 0 0 0 0 0 0 0 0 0 0 0 0 0 0 0 0 0 0 0 0 0 0 0 0 0 0\n",
      "  0 0 0 0 0 0 0 0 0 0 0 0 0 0 0 0 0 0 0 0 0 0 0 0 0 0 0 0 0 0 0 0 0 0 0 0\n",
      "  0 0 0 0 0 0 0 0 0 0 0 0 0 0 0 0 0 0 0 0 0 0 0 0 0 0 0 0 0 0 0 0 0 0 0 0\n",
      "  0 0 0 0 0 0 0 0 0 0 0 0 0 0 0 0 0 0 0 0 0 0 0 0 0 0 0 0 0 0 0 0 0 0 0 0\n",
      "  0 0 0 0 0 0 0 0 0 0 0 0 0 0 0 0 0 0 0 0 0 0 0 0 0 0 0 0 0 0 0 0 0 0 0 0\n",
      "  0 0 0 0 0 0 0 0 0 0 0 0 0 0 0 0 0 0 0 0 0 0 0 0 0 0 0 0 0 0 0 0 0 0 0 0\n",
      "  0 0 0 0 0 0 0 0 0 0 0 0 0 0 0 0 0 0 0 0 0 0 0 0 0 0 0 0 0 0 0 0 0 0 0 0\n",
      "  0 0 0 0 0 0 0 0 0 0 0 0 0 0 0 0 0 0 0 0 0 0 0 0 0 0 0 0 0 0 0 0 0 0 0 0\n",
      "  0 0 0 0 0 0 0 0 0 0 0 0 0 0 0 0 0 0 0 0 0 0 0 0 0 0 0 0 0 0 0 0 0 0 0 0\n",
      "  0 0 0 0 0 0 0 0 0 0 0 0 0 0 0 0 0 0 0 0 0 0 0 0 0 0 0 0 0 0 0 0 0 0 0 0\n",
      "  0 0 0 0 0 0 0 0 0 0 0 0 0 0 0 0 0 0 0 0 0 0 0 0 0 0 0 0 0 0 0 0 0 0 0 0\n",
      "  0 0 0 0 0 0 0 0 0 0 0 0 0 0 0 0 0 0 0 0 0 0 0 0 0 0 0 0 0 0 0 0 0 0 0 0\n",
      "  0 0 0 0 0 0 0 0 0 0 0 0 0 0 0 0 0 0 0 0 0 0 0 0 0 0 0 0 0 0 0 0 0 0 0 0\n",
      "  0 0 0 0 0 0 0 0 0 0 0 0 0 0 0 0 0 0 0 0 0 0 0 0 0 0 0 0 0 0 0 0 0 0 0 0\n",
      "  0 0 0 0 0 0 0 0 0 0 0 0 0 0 0 0 0 0 0 0 0 0 0 0 0 0 0 0 0 0 0 0 0 0 0 0\n",
      "  0 0 0 0 0 0 0 0 0 0 0 0 0 0 0 0 0 0 0 0 0 0 0 0 0 0 0 0 0 0 0 0 0 0 0 0\n",
      "  0 0 0 0 0 0 0 0 0 0 0 0 0 0 0 0 0 0 0 0 0 0 0 0 0 0 0 0 0 0 0 0 0 0 0 0\n",
      "  0 0 0 0 0 0 0 0 0 0 0 0 0 0 0 0 0 0 0 0 0 0 0 0 0 0 0 0 0 0 0 0 0 0 0 0\n",
      "  0 0 0 0 0 0 0 0 0 0 0 0 0 0 0 0 0 0 0 0 0 0 0 0 0 0 0 0 0 0 0 0 0 0 0 0\n",
      "  0 0 0 0 0 0 0 0 0 0 0 0 0 0 0 0 0 0 0 0 0 0 0 0 0 0 0 0 0 0 0 0 0 0 0 0\n",
      "  0 0 0 0 0 0 0 0 0 0 0 0 0 0 0 0 0 0 0 0 0 0 0 0 0 0 0 0 0 0 0 0 0 0 0 0\n",
      "  0 0 0 0 0 0 0 0 0 0 0 0 0 0 0 0 0 0 0 0 0 0 0 0 0 0 0 0 0 0 0 0 0 0 0 0\n",
      "  0 0 0 0 0 0 0 0 0 0 0 0 0 0 0 0 0 0 0 0 0 0 0 0 0 0 0 0 0 0 0 0 0 0 0 0\n",
      "  0 0 0 0 0 0 0 0 0 0 0 0 0 0 0 0 0 0 0 0 0 0 0 0 0 0 0 0 0 0 0 0 0 0 0 0\n",
      "  0 0 0 0 0 0 0 0 0 0 0 0 0 0 0 0 0 0 0 0 0 0 0 0 0 0 0 0 0 0 0 0 0 0 0 0\n",
      "  0 0 0 0 0 0 0 0 0 0 0 0 0 0 0 0 0 0 0 0 0 0 0 0 0 0 0 0 0 0 0 0 0 0 0 0\n",
      "  0 0 0 0 0 0 0 0 0 0 0 0 0 0 0 0 0 0 0 0 0 0 0 0 0 0 0 0 0 0 0 0 0 0 0 0\n",
      "  0 0 0 0 0 0 0 0 0 0 0 0 0 0 0 0 0 0 0 0 0 0 0 0 0 0 0 0 0 0 0 0 0 0 0 0\n",
      "  0 0 0 0 0 0 0 0 0 0 0 0 0 0 0 0 0 0 0 0 0 0 0 0 0 0 0 0 0 0 0 0 0 0 0 0\n",
      "  0 0 0 0 0 0 0 0 0 0 0 0 0 0 0 0 0 0 0 0 0 0 0 0 0 0 0 0 0 0 0 0 0 0 0 0\n",
      "  0 0 0 0 0 0 0 0 0 0 0 0 0 0 0 0 0 0 0 0 0 0 0 0 0 0 0 0 0 0 0 0 0 0 0 0\n",
      "  0 0 0 0 0 0 0 0 0 0 0 0 0 0 0 0 0 0 0 0 0 0 0 0 0 0 0 0 0 0 0 0 0 0 0 0\n",
      "  0 0 0 0 0 0 0 0 0 0 0 0 0 0 0 0 0 0 0 0 0 0 0 0 0 0 0 0 0 0 0 0 0 0 0 0\n",
      "  0 0 0 0 0 0 0 0 0 0 0 0 0 0 0 0 0 0 0 0 0 0 0 0 0 0 0 0 0 0 0 0 0 0 0 0\n",
      "  0 0 0 0 0 0 0 0 0 0 0 0 0 0 0 0 0 0 0 0 0 0 0 0 0 0 0 0 0 0 0 0 0 0 0 0\n",
      "  0 0 0 0 0 0 0 0 0 0 0 0 0 0 0 0 0 0 0 0 0 0 0 0 0 0 0 0 0 0 0 0 0 0 0 0\n",
      "  0 0 0 0 0 0 0 0 0 0 0 0 0 0 0 0 0 0 0 0 0 0 0 0 0 0 0 0 0 0 0 0 0 0 0 0\n",
      "  0 0 0 0 0 0 0 0 0 0 0 0 0 0 0 0 0 0 0 0 0 0 0 0 0 0 0 0 0 0 0 0 0 0 0 0\n",
      "  0 0 0 0 0 0 0 0 0 0 0 0 0 0 0 0 0 0 0 0 0 0 0 0 0 0 0 0 0 0 0 0 0 0 0 0\n",
      "  0 0 0 0 0 0 0 0 0 0 0 0 0 0 0 0 0 0 0 0 0 0 0 0 0 0 0 0 0 0 0 0 0 0 0 0\n",
      "  0 0 0 0 0 0 0 0 0 0 0 0 0 0 0 0 0 0 0 0 0 0 0 0 0 0 0 0 0 0 0 0 0 0 0 0\n",
      "  0 0 0 0 0 0 0 0 0 0 0 0 0 0 0 0 0 0 0 0 0 0 0 0 0 0 0 0 0 0 0 0 0 0 0 0\n",
      "  0 0 0 0 0 0 0 0 0 0 0 0 0 0 0 0 0 0 0 0 0 0 0 0 0 0 0 0 0 0 0 0 0 0 0 0\n",
      "  0 0 0 0 0 0 0 0 0 0 0 0 0 0 0 0 0 0 0 0 0 0 0 0 0 0 0 0 0 0 0 0 0 0 0 0\n",
      "  0 0 0 0 0 0 0 0 0 0 0 0 0 0 0 0 0 0 0 0 0 0 0 0 0 0 0 0 0 0 0 0 0 0 0 0\n",
      "  0 0 0 0 0 0 0 0 0 0 0 0 0 0 0 0 0 0 0 0 0 0 0 0 0 0 0 0 0 0 0 0 0 0 0 0\n",
      "  0 0 0 0 0 0 0 0 0 0 0 0 0 0 0 0 0 0 0 0 0 0 0 0 0 0 0 0 0 0 0 0 0 0 0 0\n",
      "  0 0 0 0 0 0 0 0 0 0 0 0 0 0 0 0 0 0 0 0 0 0 0 0 0 0 0 0 0 0 0 0 0 0 0 0\n",
      "  0 0 0 0 0 0 0 0 0 0 0 0 0 0 0 0 0 0 0 0 0 0 0 0 0 0 0 0 0 0 0 0 0 0 0 0\n",
      "  0 0 0 0 0 0 0 0 0 0 0 0 0 0 0 0 0 0 0 0 0 0 0 0 0 0 0 0 0 0 0 0 0 0 0 0\n",
      "  0 0 0 0 0 0 0 0 0 0 0 0 0 0 0 0 0 0 0 0 0 0 0 0 0 0 0 0 0 0 0 0 0 0 0 0\n",
      "  0 0 0 0 0 0 0 0 0 0 0 0 0 0 0 0 0 0 0 0 0 0 0 0 0 0 0 0 0 0 0 0 0 0 0 0\n",
      "  0 0 0 0 0 0 0 0 0 0 0 0 0 0 0 0 0 0 0 0 0 0 0 0 0 0 0 0 0 0 0 0 0 0 0 0\n",
      "  0 0 0 0 0 0 0 0 0 0 0 0 0 0 0 0 0 0 0 0 0 0 0 0 0 0 0 0 0 0 0 0 0 0 0 0\n",
      "  0 0 0 0 0 0 0 0 0 0 0 0 0 0 0 0 0 0 0 0 0 0 0 0 0 0 0 0 0 0 0 0 0 0 0 0\n",
      "  0 0 0 0 0 0 0 0 0 0 0 0 0 0 0 0 0 0 0 0 0 0 0 0 0 0 0 0 0 0 0 0 0 0 0 0\n",
      "  0 0 0 0 0 0 0 0 0 0 0 0 0 0 0 0 0 0 0 0 0 0 0 0 0 0 0 0 0 0 0 0 0 0 0 0\n",
      "  0 0 0 0 0 0 0 0 0 0 0 0 0 0 0 0 0 0 0 0 0 0 0 0 0 0 0 0 0 0 0 0 0 0 0 0\n",
      "  0 0 0 0 0 0 0 0 0 0 0 0 0 0 0 0 0 0 0 0 0 0 0 0 0 0 0 0 0 0 0 0 0 0 0 0\n",
      "  0 0 0 0 0 0 0 0 0 0 0 0 0 0 0 0 0 0 0 0 0 0 0 0 0 0 0 0 0 0 0 0 0 0 0 0\n",
      "  0 0 0 0 0 0 0 0 0 0 0 0 0 0 0 0 0 0 0 0 0 0 0 0 0 0 0 0 0 0 0 0 0 0 0 0\n",
      "  0 0 0 0 0 0 0 0 0 0 0 0 0 0 0 0 0 0 0 0 0]]\n"
     ]
    }
   ],
   "source": [
    "Word_Bool = np.full((N,M), False, dtype=bool)\n",
    "\n",
    "for i,t in enumerate(Terms_decoded):\n",
    "    for item in t:\n",
    "        Word_Bool[i][item] = True\n",
    "\n",
    "with np.printoptions(threshold=np.inf):\n",
    "    print(f'{Word_Bool[10:12].astype(int)}')"
   ]
  },
  {
   "cell_type": "code",
   "execution_count": 8,
   "id": "4c125ed2-3f75-4525-8772-5c26b6bd1741",
   "metadata": {},
   "outputs": [],
   "source": [
    "import csv\n",
    "\n",
    "Filename = 'input_for_weka.csv'\n",
    "\n",
    "with open(Filename, 'w') as fout:\n",
    "    writer = csv.writer(fout, delimiter=',', quoting=csv.QUOTE_ALL, quotechar=\"'\", lineterminator='\\n')\n",
    "    writer.writerow([Term_names[i] for i in range(M)])\n",
    "    for i in range(N):\n",
    "        writer.writerow(list(map(lambda x: '' if x == False else 'True',  Word_Bool[i])))"
   ]
  },
  {
   "cell_type": "markdown",
   "id": "f25015cd-d088-4157-bee6-fce40b8acb82",
   "metadata": {},
   "source": [
    "We will use Apriori analysis to find phrases, or interesting\n",
    "patterns in a novel.\n",
    "\n",
    "We will use the nltk library corpus gutenberg API and load the novel 'carroll-alice.txt' which is the\n",
    "Alice in Wonderland by L. Carroll. There are 1703 sentences in the novel which can be\n",
    "represented as 1703 transactions. Use any means to parse/extract words and save in CSV\n",
    "format to be read by Weka framework similar to the Apriori Analysis module.\n",
    "Hint: Removing stop words and symbols using regular expressions can be helpful:\n",
    "\n",
    "    from nltk.corpus import gutenberg, stopwords\n",
    "\n",
    "    Stop_words = stopwords.words('english')\n",
    "\n",
    "    Sentences = gutenberg.sents('carroll-alice.txt')\n",
    "\n",
    "    TermsSentences = []\n",
    "\n",
    "    for terms in Sentences:\n",
    "\n",
    "        terms = [w for w in terms if w not in Stop_words]\n",
    "    \n",
    "        terms = [w for w in terms if re.search(r'^[a-zA-Z]{2}', w) is not None]\n",
    "    \n",
    "If Weka picked, use FPGrowth and start with default parameters. Reduce\n",
    "lowerBoundMinSupport to reach to a sweet point for the support and avoid exploding the\n",
    "number of rules generated.\n",
    "Report interesting patterns.\n",
    "(Example: Some of the frequently occurring phrases are Mock Turtle, White Rabbit, etc.)"
   ]
  },
  {
   "cell_type": "markdown",
   "id": "b12598ec-c74d-4283-94af-778b74775427",
   "metadata": {},
   "source": [
    "------------------------------------------------------------------------------------------------------------------------------------------------------------------"
   ]
  },
  {
   "cell_type": "markdown",
   "id": "a415d3e7-084c-4553-91ee-f1c76dd8dead",
   "metadata": {},
   "source": [
    "So, after uploading the input_for_weka.csv, we ran a few experiments to find interesting phrases. Setting the rules number to -1, we adjusted the minsupport variable to decreasing values from the default of 0.1. We also changed between ranking the rules from Confidence (which quickly became redundant due to the presence of the word said), and Leverage which is normalizes with respect to the popularity of the item (more robust metric)"
   ]
  },
  {
   "cell_type": "markdown",
   "id": "5b0fcc62-ef46-4d53-9c4e-e3f8056cabb1",
   "metadata": {},
   "source": [
    "***Here are the results:***"
   ]
  },
  {
   "cell_type": "markdown",
   "id": "39e016e2-2493-45c0-b8d1-be9bec69f96d",
   "metadata": {},
   "source": [
    "=== Run information ===\n",
    "\n",
    "Scheme:       weka.associations.FPGrowth -P 2 -I -1 -N 10 -T 0 -C 0.9 -D 0.05 -U 1.0 -M 0.01\n",
    "Relation:     input_for_weka\n",
    "Instances:    1703\n",
    "Attributes:   2793\n",
    "              [list of attributes omitted]\n",
    "=== Associator model (full training set) ===\n",
    "\n",
    "FPGrowth found 7 rules (displaying top 7)\n",
    "\n",
    "1. [Mock=True]: 56 ==> [Turtle=True]: 56   <conf:(1)> lift:(29.36) lev:(0.03) conv:(54.09) \n",
    "2. [White=True]: 22 ==> [Rabbit=True]: 22   <conf:(1)> lift:(39.6) lev:(0.01) conv:(21.44) \n",
    "3. [Hare=True]: 30 ==> [March=True]: 30   <conf:(1)> lift:(54.94) lev:(0.02) conv:(29.45) \n",
    "4. [said=True, Turtle=True]: 32 ==> [Mock=True]: 32   <conf:(1)> lift:(30.41) lev:(0.02) conv:(30.95) \n",
    "5. [said=True, Mock=True]: 32 ==> [Turtle=True]: 32   <conf:(1)> lift:(29.36) lev:(0.02) conv:(30.91) \n",
    "6. [March=True]: 31 ==> [Hare=True]: 30   <conf:(0.97)> lift:(54.94) lev:(0.02) conv:(15.23) \n",
    "7. [Turtle=True]: 58 ==> [Mock=True]: 56   <conf:(0.97)> lift:(29.36) lev:(0.03) conv:(18.7) "
   ]
  },
  {
   "cell_type": "markdown",
   "id": "6248200d-aed7-4fd8-a2c8-4c992741a954",
   "metadata": {},
   "source": [
    "This is with min-support of 0.01. Ranked by confidence, we have a limited set of rules but the most common terms arise here:\n",
    "\n",
    "    Mock Turtle, Turtle Mock\n",
    "    White Rabbit\n",
    "    Hare March, March Hare\n",
    "    said Mock Turtle, said Turtle Mock\n",
    "\n",
    "These are mostly very common characters in the play."
   ]
  },
  {
   "cell_type": "markdown",
   "id": "9b2ee868-1f6e-472b-b8c6-b06c598580b2",
   "metadata": {},
   "source": [
    "=== Run information ===\n",
    "\n",
    "Scheme:       weka.associations.FPGrowth -P 2 -I -1 -N 50 -T 0 -C 0.9 -D 0.05 -U 1.0 -M 0.002\n",
    "Relation:     input_for_weka\n",
    "Instances:    1703\n",
    "Attributes:   2793\n",
    "              [list of attributes omitted]\n",
    "=== Associator model (full training set) ===\n",
    "\n",
    "FPGrowth found 221 rules (displaying top 50)\n",
    "\n",
    " 1. [interesting=True]: 5 ==> [said=True]: 5   <conf:(1)> lift:(3.79) lev:(0) conv:(3.68) \n",
    " 2. [case=True]: 5 ==> [said=True]: 5   <conf:(1)> lift:(3.79) lev:(0) conv:(3.68) \n",
    " 3. [sigh=True]: 4 ==> [said=True]: 4   <conf:(1)> lift:(3.79) lev:(0) conv:(2.95) \n",
    " 4. [indignantly=True]: 4 ==> [said=True]: 4   <conf:(1)> lift:(3.79) lev:(0) conv:(2.95) \n",
    " 5. [sir=True]: 6 ==> [Alice=True]: 6   <conf:(1)> lift:(4.4) lev:(0) conv:(4.64) \n",
    " 6. [curiosity=True]: 5 ==> [Alice=True]: 5   <conf:(1)> lift:(4.4) lev:(0) conv:(3.86) \n",
    " 7. [ventured=True]: 4 ==> [Alice=True]: 4   <conf:(1)> lift:(4.4) lev:(0) conv:(3.09) \n",
    " 8. [natural=True]: 4 ==> [Alice=True]: 4   <conf:(1)> lift:(4.4) lev:(0) conv:(3.09) \n",
    " 9. [golden=True]: 7 ==> [little=True]: 7   <conf:(1)> lift:(15.07) lev:(0) conv:(6.54) \n",
    "10. [tiny=True]: 4 ==> [little=True]: 4   <conf:(1)> lift:(15.07) lev:(0) conv:(3.73) \n",
    "11. [Mock=True]: 56 ==> [Turtle=True]: 56   <conf:(1)> lift:(29.36) lev:(0.03) conv:(54.09) \n",
    "12. [shrill=True]: 5 ==> [voice=True]: 5   <conf:(1)> lift:(36.23) lev:(0) conv:(4.86) \n",
    "13. [sobs=True]: 4 ==> [voice=True]: 4   <conf:(1)> lift:(36.23) lev:(0) conv:(3.89) \n",
    "14. [White=True]: 22 ==> [Rabbit=True]: 22   <conf:(1)> lift:(39.6) lev:(0.01) conv:(21.44) \n",
    "15. [Hare=True]: 30 ==> [March=True]: 30   <conf:(1)> lift:(54.94) lev:(0.02) conv:(29.45) \n",
    "16. [gardeners=True]: 7 ==> [three=True]: 7   <conf:(1)> lift:(63.07) lev:(0) conv:(6.89) \n",
    "17. [fellow=True]: 4 ==> [old=True]: 4   <conf:(1)> lift:(100.18) lev:(0) conv:(3.96) \n",
    "18. [bats=True]: 4 ==> [eat=True]: 4   <conf:(1)> lift:(106.44) lev:(0) conv:(3.96) \n",
    "19. [join=True]: 9 ==> [dance=True]: 9   <conf:(1)> lift:(131) lev:(0.01) conv:(8.93) \n",
    "20. [bats=True]: 4 ==> [cats=True]: 4   <conf:(1)> lift:(141.92) lev:(0) conv:(3.97) \n",
    "21. [kid=True]: 5 ==> [gloves=True]: 5   <conf:(1)> lift:(170.3) lev:(0) conv:(4.97) \n",
    "22. [animals=True]: 4 ==> [birds=True]: 4   <conf:(1)> lift:(189.22) lev:(0) conv:(3.98) \n",
    "23. [kid=True]: 5 ==> [white=True]: 5   <conf:(1)> lift:(212.88) lev:(0) conv:(4.98) \n",
    "24. [oop=True]: 7 ==> [Soo=True]: 7   <conf:(1)> lift:(243.29) lev:(0) conv:(6.97) \n",
    "25. [Soo=True]: 7 ==> [oop=True]: 7   <conf:(1)> lift:(243.29) lev:(0) conv:(6.97) \n",
    "26. [ootiful=True]: 4 ==> [oop=True]: 4   <conf:(1)> lift:(243.29) lev:(0) conv:(3.98) \n",
    "27. [Beau=True]: 4 ==> [oop=True]: 4   <conf:(1)> lift:(243.29) lev:(0) conv:(3.98) \n",
    "28. [ootiful=True]: 4 ==> [Soo=True]: 4   <conf:(1)> lift:(243.29) lev:(0) conv:(3.98) \n",
    "29. [Beau=True]: 4 ==> [Soo=True]: 4   <conf:(1)> lift:(243.29) lev:(0) conv:(3.98) \n",
    "30. [Quadrille=True]: 4 ==> [Lobster=True]: 4   <conf:(1)> lift:(340.6) lev:(0) conv:(3.99) \n",
    "31. [yer=True]: 4 ==> [honour=True]: 4   <conf:(1)> lift:(425.75) lev:(0) conv:(3.99) \n",
    "32. [honour=True]: 4 ==> [yer=True]: 4   <conf:(1)> lift:(425.75) lev:(0) conv:(3.99) \n",
    "33. [ootiful=True]: 4 ==> [Beau=True]: 4   <conf:(1)> lift:(425.75) lev:(0) conv:(3.99) \n",
    "34. [Beau=True]: 4 ==> [ootiful=True]: 4   <conf:(1)> lift:(425.75) lev:(0) conv:(3.99) \n",
    "35. [Mary=True]: 4 ==> [Ann=True]: 4   <conf:(1)> lift:(425.75) lev:(0) conv:(3.99) \n",
    "36. [Ann=True]: 4 ==> [Mary=True]: 4   <conf:(1)> lift:(425.75) lev:(0) conv:(3.99) \n",
    "37. [said=True, found=True]: 4 ==> [Alice=True]: 4   <conf:(1)> lift:(4.4) lev:(0) conv:(3.09) \n",
    "38. [said=True, sat=True]: 5 ==> [Alice=True]: 5   <conf:(1)> lift:(4.4) lev:(0) conv:(3.86) \n",
    "39. [said=True, size=True]: 4 ==> [Alice=True]: 4   <conf:(1)> lift:(4.4) lev:(0) conv:(3.09) \n",
    "40. [said=True, certainly=True]: 5 ==> [Alice=True]: 5   <conf:(1)> lift:(4.4) lev:(0) conv:(3.86) \n",
    "41. [said=True, afraid=True]: 6 ==> [Alice=True]: 6   <conf:(1)> lift:(4.4) lev:(0) conv:(4.64) \n",
    "42. [said=True, glad=True]: 4 ==> [Alice=True]: 4   <conf:(1)> lift:(4.4) lev:(0) conv:(3.09) \n",
    "43. [said=True, change=True]: 4 ==> [Alice=True]: 4   <conf:(1)> lift:(4.4) lev:(0) conv:(3.09) \n",
    "44. [said=True, feel=True]: 4 ==> [Alice=True]: 4   <conf:(1)> lift:(4.4) lev:(0) conv:(3.09) \n",
    "45. [said=True, sir=True]: 4 ==> [Alice=True]: 4   <conf:(1)> lift:(4.4) lev:(0) conv:(3.09) \n",
    "46. [King=True, must=True]: 6 ==> [said=True]: 6   <conf:(1)> lift:(3.79) lev:(0) conv:(4.42) \n",
    "47. [said=True, Turtle=True]: 32 ==> [Mock=True]: 32   <conf:(1)> lift:(30.41) lev:(0.02) conv:(30.95) \n",
    "48. [said=True, Mock=True]: 32 ==> [Turtle=True]: 32   <conf:(1)> lift:(29.36) lev:(0.02) conv:(30.91) \n",
    "49. [said=True, White=True]: 9 ==> [Rabbit=True]: 9   <conf:(1)> lift:(39.6) lev:(0.01) conv:(8.77) \n",
    "50. [said=True, Hare=True]: 15 ==> [March=True]: 15   <conf:(1)> lift:(54.94) lev:(0.01) conv:(14.73) \n",
    "\n",
    "\n",
    "\n",
    "Here, min-support is 0.002. Ranked by confidence."
   ]
  },
  {
   "cell_type": "markdown",
   "id": "0f8614fb-f807-4c2e-ad83-66424bc3d233",
   "metadata": {},
   "source": [
    "This result is sorted by confidence, and honestly, the top 50 of the 221 result all show high confidence, so the nature of the results we see here is questionable, however we do see some of the common words the author uses and we also see these new recurring terms:\n",
    "\n",
    "    Marry Ann\n",
    "    Quadrille Lobster\n",
    "    yer honour\n",
    "    Beau ootiful Soo oop\n",
    "    sir Alice\n",
    "    curiosity Alice\n",
    "    ventured Alice\n",
    "    natural Alice\n",
    "    golden Little\n",
    "    Tiny Little"
   ]
  },
  {
   "cell_type": "markdown",
   "id": "bbf48da3-e0ab-45bd-8a10-292b06001828",
   "metadata": {},
   "source": [
    "More interestingly, ranking the result by lift proved a bit more productive."
   ]
  },
  {
   "cell_type": "markdown",
   "id": "8bd17b67-3bb3-481e-8059-6a5ab974ae9a",
   "metadata": {},
   "source": [
    "=== Run information ===\n",
    "\n",
    "Scheme:       weka.associations.FPGrowth -P 2 -I -1 -N 50 -T 1 -C 0.9 -D 0.05 -U 1.0 -M 0.002\n",
    "Relation:     input_for_weka\n",
    "Instances:    1703\n",
    "Attributes:   2793\n",
    "              [list of attributes omitted]\n",
    "=== Associator model (full training set) ===\n",
    "\n",
    "FPGrowth found 4256 rules (displaying top 50)\n",
    "\n",
    " 1. [yer=True]: 4 ==> [honour=True]: 4   conf:(1) <lift:(425.75)> lev:(0) conv:(3.99) \n",
    " 2. [honour=True]: 4 ==> [yer=True]: 4   conf:(1) <lift:(425.75)> lev:(0) conv:(3.99) \n",
    " 3. [ootiful=True]: 4 ==> [Beau=True]: 4   conf:(1) <lift:(425.75)> lev:(0) conv:(3.99) \n",
    " 4. [Beau=True]: 4 ==> [ootiful=True]: 4   conf:(1) <lift:(425.75)> lev:(0) conv:(3.99) \n",
    " 5. [Mary=True]: 4 ==> [Ann=True]: 4   conf:(1) <lift:(425.75)> lev:(0) conv:(3.99) \n",
    " 6. [Ann=True]: 4 ==> [Mary=True]: 4   conf:(1) <lift:(425.75)> lev:(0) conv:(3.99) \n",
    " 7. [eat=True, cats=True]: 4 ==> [bats=True]: 4   conf:(1) <lift:(425.75)> lev:(0) conv:(3.99) \n",
    " 8. [bats=True]: 4 ==> [eat=True, cats=True]: 4   conf:(1) <lift:(425.75)> lev:(0) conv:(3.99) \n",
    " 9. [ootiful=True]: 4 ==> [oop=True, Beau=True]: 4   conf:(1) <lift:(425.75)> lev:(0) conv:(3.99) \n",
    "10. [oop=True, ootiful=True]: 4 ==> [Beau=True]: 4   conf:(1) <lift:(425.75)> lev:(0) conv:(3.99) \n",
    "11. [Beau=True]: 4 ==> [oop=True, ootiful=True]: 4   conf:(1) <lift:(425.75)> lev:(0) conv:(3.99) \n",
    "12. [oop=True, Beau=True]: 4 ==> [ootiful=True]: 4   conf:(1) <lift:(425.75)> lev:(0) conv:(3.99) \n",
    "13. [ootiful=True]: 4 ==> [Soo=True, Beau=True]: 4   conf:(1) <lift:(425.75)> lev:(0) conv:(3.99) \n",
    "14. [Soo=True, ootiful=True]: 4 ==> [Beau=True]: 4   conf:(1) <lift:(425.75)> lev:(0) conv:(3.99) \n",
    "15. [Beau=True]: 4 ==> [Soo=True, ootiful=True]: 4   conf:(1) <lift:(425.75)> lev:(0) conv:(3.99) \n",
    "16. [Soo=True, Beau=True]: 4 ==> [ootiful=True]: 4   conf:(1) <lift:(425.75)> lev:(0) conv:(3.99) \n",
    "17. [ootiful=True]: 4 ==> [oop=True, Soo=True, Beau=True]: 4   conf:(1) <lift:(425.75)> lev:(0) conv:(3.99) \n",
    "18. [oop=True, ootiful=True]: 4 ==> [Soo=True, Beau=True]: 4   conf:(1) <lift:(425.75)> lev:(0) conv:(3.99) \n",
    "19. [Soo=True, ootiful=True]: 4 ==> [oop=True, Beau=True]: 4   conf:(1) <lift:(425.75)> lev:(0) conv:(3.99) \n",
    "20. [oop=True, Soo=True, ootiful=True]: 4 ==> [Beau=True]: 4   conf:(1) <lift:(425.75)> lev:(0) conv:(3.99) \n",
    "21. [Beau=True]: 4 ==> [oop=True, Soo=True, ootiful=True]: 4   conf:(1) <lift:(425.75)> lev:(0) conv:(3.99) \n",
    "22. [oop=True, Beau=True]: 4 ==> [Soo=True, ootiful=True]: 4   conf:(1) <lift:(425.75)> lev:(0) conv:(3.99) \n",
    "23. [Soo=True, Beau=True]: 4 ==> [oop=True, ootiful=True]: 4   conf:(1) <lift:(425.75)> lev:(0) conv:(3.99) \n",
    "24. [oop=True, Soo=True, Beau=True]: 4 ==> [ootiful=True]: 4   conf:(1) <lift:(425.75)> lev:(0) conv:(3.99) \n",
    "25. [Lobster=True]: 5 ==> [Quadrille=True]: 4   conf:(0.8) <lift:(340.6)> lev:(0) conv:(2.49) \n",
    "26. [Quadrille=True]: 4 ==> [Lobster=True]: 4   conf:(1) <lift:(340.6)> lev:(0) conv:(3.99) \n",
    "27. [gloves=True, white=True]: 5 ==> [kid=True]: 5   conf:(1) <lift:(340.6)> lev:(0) conv:(4.99) \n",
    "28. [kid=True]: 5 ==> [gloves=True, white=True]: 5   conf:(1) <lift:(340.6)> lev:(0) conv:(4.99) \n",
    "29. [fan=True, white=True]: 4 ==> [kid=True]: 4   conf:(1) <lift:(340.6)> lev:(0) conv:(3.99) \n",
    "30. [kid=True]: 5 ==> [fan=True, white=True]: 4   conf:(0.8) <lift:(340.6)> lev:(0) conv:(2.49) \n",
    "31. [say=True, well=True]: 5 ==> [You=True, might=True]: 4   conf:(0.8) <lift:(340.6)> lev:(0) conv:(2.49) \n",
    "32. [You=True, might=True]: 4 ==> [say=True, well=True]: 4   conf:(1) <lift:(340.6)> lev:(0) conv:(3.99) \n",
    "33. [gloves=True, white=True]: 5 ==> [fan=True, kid=True]: 4   conf:(0.8) <lift:(340.6)> lev:(0) conv:(2.49) \n",
    "34. [fan=True, white=True]: 4 ==> [gloves=True, kid=True]: 4   conf:(1) <lift:(340.6)> lev:(0) conv:(3.99) \n",
    "35. [gloves=True, fan=True, white=True]: 4 ==> [kid=True]: 4   conf:(1) <lift:(340.6)> lev:(0) conv:(3.99) \n",
    "36. [kid=True]: 5 ==> [gloves=True, fan=True, white=True]: 4   conf:(0.8) <lift:(340.6)> lev:(0) conv:(2.49) \n",
    "37. [gloves=True, kid=True]: 5 ==> [fan=True, white=True]: 4   conf:(0.8) <lift:(340.6)> lev:(0) conv:(2.49) \n",
    "38. [fan=True, kid=True]: 4 ==> [gloves=True, white=True]: 4   conf:(1) <lift:(340.6)> lev:(0) conv:(3.99) \n",
    "39. [You=True, well=True]: 6 ==> [say=True, might=True]: 4   conf:(0.67) <lift:(283.83)> lev:(0) conv:(2) \n",
    "40. [say=True, might=True]: 4 ==> [You=True, well=True]: 4   conf:(1) <lift:(283.83)> lev:(0) conv:(3.99) \n",
    "41. [oop=True]: 7 ==> [Soo=True]: 7   conf:(1) <lift:(243.29)> lev:(0) conv:(6.97) \n",
    "42. [Soo=True]: 7 ==> [oop=True]: 7   conf:(1) <lift:(243.29)> lev:(0) conv:(6.97) \n",
    "43. [ootiful=True]: 4 ==> [oop=True]: 4   conf:(1) <lift:(243.29)> lev:(0) conv:(3.98) \n",
    "44. [Beau=True]: 4 ==> [oop=True]: 4   conf:(1) <lift:(243.29)> lev:(0) conv:(3.98) \n",
    "45. [ootiful=True]: 4 ==> [Soo=True]: 4   conf:(1) <lift:(243.29)> lev:(0) conv:(3.98) \n",
    "46. [Beau=True]: 4 ==> [Soo=True]: 4   conf:(1) <lift:(243.29)> lev:(0) conv:(3.98) \n",
    "47. [ootiful=True]: 4 ==> [oop=True, Soo=True]: 4   conf:(1) <lift:(243.29)> lev:(0) conv:(3.98) \n",
    "48. [oop=True, ootiful=True]: 4 ==> [Soo=True]: 4   conf:(1) <lift:(243.29)> lev:(0) conv:(3.98) \n",
    "49. [Soo=True, ootiful=True]: 4 ==> [oop=True]: 4   conf:(1) <lift:(243.29)> lev:(0) conv:(3.98) \n",
    "50. [Beau=True]: 4 ==> [oop=True, Soo=True]: 4   conf:(1) <lift:(243.29)> lev:(0) conv:(3.98) \n",
    "\n",
    "Here min support is 8E-4 ranked by lift"
   ]
  },
  {
   "cell_type": "markdown",
   "id": "ef86031d-f4f7-4021-882a-f06decffff5f",
   "metadata": {},
   "source": [
    "We see new phrases\n",
    "\n",
    "    eat bats\n",
    "    bats eat cats\n",
    "    gloves kid\n",
    "    You might say well"
   ]
  },
  {
   "cell_type": "markdown",
   "id": "d63c98aa-0874-45df-a657-da7da5f2731a",
   "metadata": {},
   "source": [
    "I ranked the results by conviction as well... Conviction ranks results by how strong these linked terms are to each other. ie. If conviction is greater than 1, then this metric shows that incorrect predictions occur less often than if these two actions were independent.\n",
    "\n",
    "=== Run information ===\n",
    "\n",
    "Scheme:       weka.associations.FPGrowth -P 2 -I -1 -N 50 -T 3 -C 0.9 -D 0.05 -U 1.0 -M 8.0E-4\n",
    "Relation:     input_for_weka\n",
    "Instances:    1703\n",
    "Attributes:   2793\n",
    "              [list of attributes omitted]\n",
    "=== Associator model (full training set) ===\n",
    "\n",
    "FPGrowth found 674089 rules (displaying top 50)\n",
    "\n",
    " 1. [Mock=True]: 56 ==> [Turtle=True]: 56   conf:(1) lift:(29.36) lev:(0.03) <conv:(54.09)> \n",
    " 2. [said=True, Turtle=True]: 32 ==> [Mock=True]: 32   conf:(1) lift:(30.41) lev:(0.02) <conv:(30.95)> \n",
    " 3. [said=True, Mock=True]: 32 ==> [Turtle=True]: 32   conf:(1) lift:(29.36) lev:(0.02) <conv:(30.91)> \n",
    " 4. [Hare=True]: 30 ==> [March=True]: 30   conf:(1) lift:(54.94) lev:(0.02) <conv:(29.45)> \n",
    " 5. [White=True]: 22 ==> [Rabbit=True]: 22   conf:(1) lift:(39.6) lev:(0.01) <conv:(21.44)> \n",
    " 6. [Turtle=True]: 58 ==> [Mock=True]: 56   conf:(0.97) lift:(29.36) lev:(0.03) <conv:(18.7)> \n",
    " 7. [March=True]: 31 ==> [Hare=True]: 30   conf:(0.97) lift:(54.94) lev:(0.02) <conv:(15.23)> \n",
    " 8. [said=True, Hare=True]: 15 ==> [March=True]: 15   conf:(1) lift:(54.94) lev:(0.01) <conv:(14.73)> \n",
    " 9. [join=True]: 9 ==> [dance=True]: 9   conf:(1) lift:(131) lev:(0.01) <conv:(8.93)> \n",
    "10. [said=True, White=True]: 9 ==> [Rabbit=True]: 9   conf:(1) lift:(39.6) lev:(0.01) <conv:(8.77)> \n",
    "11. [said=True, March=True]: 16 ==> [Hare=True]: 15   conf:(0.94) lift:(53.22) lev:(0.01) <conv:(7.86)> \n",
    "12. [Turtle=True, Gryphon=True]: 8 ==> [Mock=True]: 8   conf:(1) lift:(30.41) lev:(0) <conv:(7.74)> \n",
    "13. [Mock=True, Gryphon=True]: 8 ==> [Turtle=True]: 8   conf:(1) lift:(29.36) lev:(0) <conv:(7.73)> \n",
    "14. [oop=True]: 7 ==> [Soo=True]: 7   conf:(1) lift:(243.29) lev:(0) <conv:(6.97)> \n",
    "15. [Soo=True]: 7 ==> [oop=True]: 7   conf:(1) lift:(243.29) lev:(0) <conv:(6.97)> \n",
    "16. [gardeners=True]: 7 ==> [three=True]: 7   conf:(1) lift:(63.07) lev:(0) <conv:(6.89)> \n",
    "17. [golden=True]: 7 ==> [little=True]: 7   conf:(1) lift:(15.07) lev:(0) <conv:(6.54)> \n",
    "18. [table=True, glass=True]: 7 ==> [little=True]: 7   conf:(1) lift:(15.07) lev:(0) <conv:(6.54)> \n",
    "19. [Hatter=True, March=True]: 6 ==> [Hare=True]: 6   conf:(1) lift:(56.77) lev:(0) <conv:(5.89)> \n",
    "20. [Hatter=True, Hare=True]: 6 ==> [March=True]: 6   conf:(1) lift:(54.94) lev:(0) <conv:(5.89)> \n",
    "21. [Alice=True, White=True]: 6 ==> [Rabbit=True]: 6   conf:(1) lift:(39.6) lev:(0) <conv:(5.85)> \n",
    "22. [Alice=True, Turtle=True]: 6 ==> [Mock=True]: 6   conf:(1) lift:(30.41) lev:(0) <conv:(5.8)> \n",
    "23. [went=True, Turtle=True]: 6 ==> [Mock=True]: 6   conf:(1) lift:(30.41) lev:(0) <conv:(5.8)> \n",
    "24. [would=True, Turtle=True]: 6 ==> [Mock=True]: 6   conf:(1) lift:(30.41) lev:(0) <conv:(5.8)> \n",
    "25. [Turtle=True, course=True]: 6 ==> [Mock=True]: 6   conf:(1) lift:(30.41) lev:(0) <conv:(5.8)> \n",
    "26. [Alice=True, Mock=True]: 6 ==> [Turtle=True]: 6   conf:(1) lift:(29.36) lev:(0) <conv:(5.8)> \n",
    "27. [The=True, Mock=True]: 6 ==> [Turtle=True]: 6   conf:(1) lift:(29.36) lev:(0) <conv:(5.8)> \n",
    "28. [went=True, Mock=True]: 6 ==> [Turtle=True]: 6   conf:(1) lift:(29.36) lev:(0) <conv:(5.8)> \n",
    "29. [would=True, Mock=True]: 6 ==> [Turtle=True]: 6   conf:(1) lift:(29.36) lev:(0) <conv:(5.8)> \n",
    "30. [Mock=True, course=True]: 6 ==> [Turtle=True]: 6   conf:(1) lift:(29.36) lev:(0) <conv:(5.8)> \n",
    "31. [key=True, golden=True]: 6 ==> [little=True]: 6   conf:(1) lift:(15.07) lev:(0) <conv:(5.6)> \n",
    "32. [Of=True]: 11 ==> [course=True]: 10   conf:(0.91) lift:(64.51) lev:(0.01) <conv:(5.42)> \n",
    "33. [gloves=True, white=True]: 5 ==> [kid=True]: 5   conf:(1) lift:(340.6) lev:(0) <conv:(4.99)> \n",
    "34. [kid=True]: 5 ==> [gloves=True, white=True]: 5   conf:(1) lift:(340.6) lev:(0) <conv:(4.99)> \n",
    "35. [door=True, golden=True]: 5 ==> [little=True, key=True]: 5   conf:(1) lift:(243.29) lev:(0) <conv:(4.98)> \n",
    "36. [kid=True]: 5 ==> [white=True]: 5   conf:(1) lift:(212.88) lev:(0) <conv:(4.98)> \n",
    "37. [gloves=True, kid=True]: 5 ==> [white=True]: 5   conf:(1) lift:(212.88) lev:(0) <conv:(4.98)> \n",
    "38. [door=True, golden=True]: 5 ==> [key=True]: 5   conf:(1) lift:(189.22) lev:(0) <conv:(4.97)> \n",
    "39. [little=True, door=True, golden=True]: 5 ==> [key=True]: 5   conf:(1) lift:(189.22) lev:(0) <conv:(4.97)> \n",
    "40. [kid=True]: 5 ==> [gloves=True]: 5   conf:(1) lift:(170.3) lev:(0) <conv:(4.97)> \n",
    "41. [white=True, kid=True]: 5 ==> [gloves=True]: 5   conf:(1) lift:(170.3) lev:(0) <conv:(4.97)> \n",
    "42. [Alice=True, March=True]: 5 ==> [Hare=True]: 5   conf:(1) lift:(56.77) lev:(0) <conv:(4.91)> \n",
    "43. [Alice=True, Hare=True]: 5 ==> [March=True]: 5   conf:(1) lift:(54.94) lev:(0) <conv:(4.91)> \n",
    "44. [looking=True, minute=True]: 5 ==> [two=True]: 5   conf:(1) lift:(54.94) lev:(0) <conv:(4.91)> \n",
    "45. [The=True, White=True]: 5 ==> [Rabbit=True]: 5   conf:(1) lift:(39.6) lev:(0) <conv:(4.87)> \n",
    "46. [shrill=True]: 5 ==> [voice=True]: 5   conf:(1) lift:(36.23) lev:(0) <conv:(4.86)> \n",
    "47. [Queen=True, Turtle=True]: 5 ==> [Mock=True]: 5   conf:(1) lift:(30.41) lev:(0) <conv:(4.84)> \n",
    "48. [Turtle=True, voice=True]: 5 ==> [Mock=True]: 5   conf:(1) lift:(30.41) lev:(0) <conv:(4.84)> \n",
    "49. [said=True, Turtle=True, course=True]: 5 ==> [Mock=True]: 5   conf:(1) lift:(30.41) lev:(0) <conv:(4.84)> \n",
    "50. [Queen=True, Mock=True]: 5 ==> [Turtle=True]: 5   conf:(1) lift:(29.36) lev:(0) <conv:(4.83)> "
   ]
  },
  {
   "cell_type": "markdown",
   "id": "1b9bb484-60d1-40b1-a05c-ef1d87003a8b",
   "metadata": {},
   "source": [
    "    said Hare March\n",
    "    join Dance\n",
    "    said Turtle Mock\n",
    "    said Mock Turtle\n",
    "\n",
    "    Also characters around other characters: \n",
    "    Mock Turtle and Gryphon\n",
    "    Hatter and March Hare\n",
    "    three gardners\n",
    "\n",
    "    commonly used phrases like\n",
    "    shrill voice\n",
    "    and the Queen associated with the Mock turtle"
   ]
  },
  {
   "cell_type": "markdown",
   "id": "218b91fa-d63c-436b-9e8e-40f7bf16e281",
   "metadata": {},
   "source": [
    "Overall we learned a lot more by maximizing our rules, and filtering based on other metrics aside from Confidence. We used Lift which was already covered in class and conviction as metrics as well."
   ]
  },
  {
   "cell_type": "markdown",
   "id": "e8fc2d78-a2c7-4a92-8fe1-107f26897f22",
   "metadata": {},
   "source": [
    "-----------------------------------------"
   ]
  },
  {
   "cell_type": "markdown",
   "id": "277e20c1-aa67-478c-9eee-da77db0e41da",
   "metadata": {},
   "source": [
    "# Part 2:"
   ]
  },
  {
   "cell_type": "markdown",
   "id": "8634bcd5-c396-4caa-9879-99203ea13c46",
   "metadata": {},
   "source": [
    "NeuralNetMLP is a single hidden layer neural\n",
    "network implementation. Make the necessary modifications to upgrade it to a 2 hidden\n",
    "layer network. Run it on the MNIST dataset and report its performance"
   ]
  },
  {
   "cell_type": "code",
   "execution_count": 9,
   "id": "fab1b2a5-212b-4e83-bae1-c1574562bfb5",
   "metadata": {},
   "outputs": [
    {
     "name": "stdout",
     "output_type": "stream",
     "text": [
      "Rows= 60000, columns= 784\n",
      "Rows= 10000, columns= 784\n"
     ]
    }
   ],
   "source": [
    "def load_mnist(path, kind='train'):\n",
    "    from numpy import fromfile, uint8\n",
    "    import os\n",
    "    import struct\n",
    "    \n",
    "    labels_path = os.path.join(path, '%s-labels-idx1-ubyte' % kind)\n",
    "    images_path = os.path.join(path, '%s-images-idx3-ubyte' % kind)\n",
    "    with open(labels_path, 'rb') as lbpath:\n",
    "        magic, n = struct.unpack('>II', lbpath.read(8))\n",
    "        labels = fromfile(lbpath, dtype=uint8)\n",
    "        with open(images_path, 'rb') as imgpath:\n",
    "            magic, num, rows, cols = struct.unpack(\">IIII\",imgpath.read(16))\n",
    "            images = fromfile(imgpath, dtype=uint8).reshape(len(labels), 784)\n",
    "            images = ((images / 255.) - .5) * 2\n",
    "    return images, labels\n",
    "\n",
    "X_train_mnist, y_train_mnist = load_mnist('./EP_datasets/mnist/', kind='train')\n",
    "print(f'Rows= {X_train_mnist.shape[0]}, columns= {X_train_mnist.shape[1]}')\n",
    "\n",
    "X_test_mnist, y_test_mnist = load_mnist('./EP_datasets/mnist/', kind='t10k')\n",
    "print(f'Rows= {X_test_mnist.shape[0]}, columns= {X_test_mnist.shape[1]}')"
   ]
  },
  {
   "cell_type": "code",
   "execution_count": 10,
   "id": "9ae6b8c3-0af7-4c17-8e11-fc6f999ebb09",
   "metadata": {},
   "outputs": [
    {
     "data": {
      "image/png": "[encoded data removed]",
      "text/plain": [
       "<Figure size 432x288 with 10 Axes>"
      ]
     },
     "metadata": {},
     "output_type": "display_data"
    }
   ],
   "source": [
    "import matplotlib.pyplot as plt\n",
    "\n",
    "_, ax = plt.subplots(nrows=2, ncols=5, sharex='all', sharey='all', dpi=72)\n",
    "ax = ax.flatten()\n",
    "for img_i in range(10):\n",
    "    img = X_train_mnist[y_train_mnist == img_i][0].reshape(28, 28)\n",
    "    ax[img_i].imshow(img, cmap='Greys')\n",
    "    ax[0].set_xticks([])\n",
    "    ax[0].set_yticks([])\n",
    "    plt.tight_layout()\n",
    "plt.show()"
   ]
  },
  {
   "cell_type": "code",
   "execution_count": 19,
   "id": "ce627a69-17f4-4887-a13e-33153e098216",
   "metadata": {},
   "outputs": [],
   "source": [
    "from sklearn.metrics import confusion_matrix\n",
    "\n",
    "def get_acc(_y_test, _y_pred):\n",
    "    return (np.sum(_y_test == _y_pred)).astype(float) / _y_test.shape[0]"
   ]
  },
  {
   "cell_type": "markdown",
   "id": "b9747e12-34f8-478b-8ac9-b6a29bc8ffff",
   "metadata": {},
   "source": [
    "***First Let's see the performance of a single hidden layer MLP***"
   ]
  },
  {
   "cell_type": "code",
   "execution_count": 20,
   "id": "8286406a-602f-4887-ac26-dc11218a22fa",
   "metadata": {},
   "outputs": [],
   "source": [
    "class NeuralNetMLP(object):\n",
    "\n",
    "    def __init__(self, n_hidden=30, epochs=100, eta=0.001, minibatch_size=1, seed=None):\n",
    "        self.random = np.random.RandomState(seed)  # used to randomize weights\n",
    "        self.n_hidden = n_hidden  # size of the hidden layer\n",
    "        self.epochs = epochs  # number of iterations\n",
    "        self.eta = eta  # learning rate\n",
    "        self.minibatch_size = minibatch_size  # size of training batch - 1 would not work\n",
    "        self.w_out, self.w_h = None, None\n",
    "    \n",
    "    @staticmethod\n",
    "    def onehot(_y, _n_classes):  # one hot encode the input class y\n",
    "        onehot = np.zeros((_n_classes, _y.shape[0]))\n",
    "        for idx, val in enumerate(_y.astype(int)):\n",
    "            onehot[val, idx] = 1.0\n",
    "        return onehot.T\n",
    "    \n",
    "    @staticmethod\n",
    "    def sigmoid(_z):  # Eq 1\n",
    "        return 1.0 / (1.0 + np.exp(-np.clip(_z, -250, 250)))\n",
    "\n",
    "    def _forward(self, _X):  # Eq 2\n",
    "        z_h = np.dot(_X, self.w_h)\n",
    "        a_h = self.sigmoid(z_h)\n",
    "        z_out = np.dot(a_h, self.w_out)\n",
    "        a_out = self.sigmoid(z_out)\n",
    "        return z_h, a_h, z_out, a_out\n",
    "\n",
    "    @staticmethod\n",
    "    def compute_cost(y_enc, output):  # Eq 4\n",
    "        term1 = -y_enc * (np.log(output))\n",
    "        term2 = (1.0-y_enc) * np.log(1.0-output)\n",
    "        cost = np.sum(term1 - term2)\n",
    "        return cost\n",
    "\n",
    "    def predict(self, _X):\n",
    "        z_h, a_h, z_out, a_out = self._forward(_X)\n",
    "        ypred = np.argmax(z_out, axis=1)\n",
    "        return ypred\n",
    "\n",
    "    def fit(self, _X_train, _y_train, _X_valid, _y_valid):\n",
    "        import sys\n",
    "        n_output = np.unique(_y_train).shape[0]  # number of class labels\n",
    "        n_features = _X_train.shape[1]\n",
    "        self.w_out = self.random.normal(loc=0.0, scale=0.1, size=(self.n_hidden, n_output))\n",
    "        self.w_h = self.random.normal(loc=0.0, scale=0.1, size=(n_features, self.n_hidden))\n",
    "        self.eval_ = {'cost': [], 'train_acc':[], 'valid_acc':[]}\n",
    "        y_train_enc = self.onehot(_y_train, n_output)  # one-hot encode original y\n",
    "        for ei in range(self.epochs):  # Ideally must shuffle at every epoch\n",
    "            indices = np.arange(_X_train.shape[0])\n",
    "            for start_idx in range(0, indices.shape[0] - self.minibatch_size + 1, self.minibatch_size):\n",
    "                batch_idx = indices[start_idx:start_idx + self.minibatch_size]\n",
    "                \n",
    "                z_h, a_h, z_out, a_out = self._forward(_X_train[batch_idx])  # neural network model\n",
    "                \n",
    "                sigmoid_derivative_h = a_h * (1.0-a_h)  # Eq 3\n",
    "                delta_out = a_out - y_train_enc[batch_idx]  # Eq 5\n",
    "                delta_h = (np.dot(delta_out, self.w_out.T) * sigmoid_derivative_h)  # Eq 6\n",
    "                grad_w_out = np.dot(a_h.T, delta_out)  # Eq 7\n",
    "                grad_w_h = np.dot(_X_train[batch_idx].T, delta_h)  # Eq 8\n",
    "                self.w_out -= self.eta*grad_w_out  # Eq 9\n",
    "                self.w_h -= self.eta*grad_w_h  # Eq 9\n",
    "\n",
    "            # Evaluation after each epoch during training\n",
    "            z_h, a_h, z_out, a_out = self._forward(_X_train)\n",
    "            cost = self.compute_cost(y_enc=y_train_enc, output=a_out)\n",
    "            y_train_pred = self.predict(_X_train)  # monitoring training progress through reclassification\n",
    "            y_valid_pred = self.predict(_X_valid)  # monitoring training progress through validation\n",
    "            train_acc = ((np.sum(_y_train == y_train_pred)).astype(float) / _X_train.shape[0])\n",
    "            valid_acc = ((np.sum(_y_valid == y_valid_pred)).astype(float) / _X_valid.shape[0])\n",
    "            sys.stderr.write('\\r%d/%d | Cost: %.2f ' '| Train/Valid Acc.: %.2f%%/%.2f%% '%\n",
    "                (ei+1, self.epochs, cost, train_acc*100, valid_acc*100))\n",
    "            sys.stderr.flush()\n",
    "            \n",
    "            self.eval_['cost'].append(cost)\n",
    "            self.eval_['train_acc'].append(train_acc)\n",
    "            self.eval_['valid_acc'].append(valid_acc)\n",
    "        return self"
   ]
  },
  {
   "cell_type": "code",
   "execution_count": 21,
   "id": "24d33296-e231-45a6-8389-46c15f14f9fc",
   "metadata": {},
   "outputs": [
    {
     "name": "stderr",
     "output_type": "stream",
     "text": [
      "300/300 | Cost: 15436.03 | Train/Valid Acc.: 96.21%/95.50% "
     ]
    }
   ],
   "source": [
    "# Define and fit the neural network\n",
    "nn = NeuralNetMLP(n_hidden=20, epochs=300, eta=0.0005, minibatch_size=100, seed=1)\n",
    "\n",
    "nn.fit(X_train_mnist[:55000], y_train_mnist[:55000], X_train_mnist[55000:], y_train_mnist[55000:]) ;"
   ]
  },
  {
   "cell_type": "code",
   "execution_count": 22,
   "id": "2deb9f6b-b727-4df2-b5bd-fd137ded716d",
   "metadata": {},
   "outputs": [
    {
     "name": "stdout",
     "output_type": "stream",
     "text": [
      "Accuracy= 94.12%\n",
      "[[ 959    0    1    0    4    1    9    1    5    0]\n",
      " [   0 1100    3    2    1    0    5    1   23    0]\n",
      " [  14    0  961   13    4    0    9   11   20    0]\n",
      " [   2    3   13  955    0   13    1    7   10    6]\n",
      " [   0    2    2    1  937    1    5    6    4   24]\n",
      " [   8    5    2   39    6  775   13    9   27    8]\n",
      " [  13    4    4    0    6   14  903    1   13    0]\n",
      " [   3    6   13    7    3    0    0  980    4   12]\n",
      " [   3    4    6   12    9    6    5   11  915    3]\n",
      " [   4    5    0   17   24    4    1   21    6  927]]\n"
     ]
    }
   ],
   "source": [
    "y_pred = nn.predict(X_test_mnist)\n",
    "\n",
    "print(f'Accuracy= {get_acc(y_test_mnist, y_pred)*100:.2f}%')\n",
    "print(confusion_matrix(y_test_mnist, y_pred))"
   ]
  },
  {
   "cell_type": "markdown",
   "id": "62421a34-e310-4840-ab23-b86425ecdefb",
   "metadata": {},
   "source": [
    "***Now, we implement our 2-hidden layer MLP (deep neural network). To make note of here, I updated the feed forward method first, keeping track of what the inputs and outputs were. Also the weight matrix for w_h1 (second hidden layer), must be a different size from the first, since the first deals with the input data (n_features) as dimension, while the second will have it's dot product taken by two matrices with the same dimension as the self.n_hidden, thus the second weight matrix must be self.n_hidden x self.n_hidden***\n",
    "\n",
    "This is because the number of rows must equal to the number of neurons in the previous layer:\n",
    "(n_features of input layer for h1, n_hidden for h2, n_hidden for output)\n",
    "\n",
    "The number of columns must equal to the number of neurons in the current layer (n_hidden for h1 matching the number of neurons in h1, n_hidden for h2 matching number of neurons for h2, n_output for output matching the output)"
   ]
  },
  {
   "cell_type": "code",
   "execution_count": 23,
   "id": "49f92eed-b6b0-4aaa-9f40-8043410d95e7",
   "metadata": {},
   "outputs": [],
   "source": [
    "class NeuralNetMLP2(object):\n",
    "\n",
    "    def __init__(self, n_hidden=30, epochs=100, eta=0.001, minibatch_size=1, seed=None):\n",
    "        self.random = np.random.RandomState(seed)  # used to randomize weights\n",
    "        self.n_hidden = n_hidden  # size of the hidden layer\n",
    "        self.epochs = epochs  # number of iterations\n",
    "        self.eta = eta  # learning rate\n",
    "        self.minibatch_size = minibatch_size  # size of training batch - 1 would not work\n",
    "        self.w_out, self.w_h, self.w_h1 = None, None, None\n",
    "    \n",
    "    #@staticmethod\n",
    "    def onehot(self, _y, _n_classes):  # one hot encode the input class y\n",
    "        onehot = np.zeros((_n_classes, _y.shape[0]))\n",
    "        for idx, val in enumerate(_y.astype(int)):\n",
    "            onehot[val, idx] = 1.0\n",
    "        return onehot.T\n",
    "    \n",
    "    #@staticmethod\n",
    "    def sigmoid(self,_z):  # Eq 1\n",
    "        return 1.0 / (1.0 + np.exp(-np.clip(_z, -250, 250)))\n",
    "\n",
    "    def _forward(self, _X):  # Eq 2\n",
    "        #net input of hidden layer 1\n",
    "        z_h = np.dot(_X, self.w_h)\n",
    "        #activation of hidden layer 1\n",
    "        a_h = self.sigmoid(z_h)\n",
    "        \n",
    "        #net input of hidden layer 2\n",
    "        z_h1 = np.dot(a_h, self.w_h1)\n",
    "        a_h1 = self.sigmoid(z_h1)\n",
    "        \n",
    "        z_out = np.dot(a_h1, self.w_out)\n",
    "        a_out = self.sigmoid(z_out)\n",
    "        return z_h, a_h, z_h1, a_h1, z_out, a_out\n",
    "\n",
    "    @staticmethod\n",
    "    def compute_cost(y_enc, output):  # Eq 4\n",
    "        term1 = -y_enc * (np.log(output))\n",
    "        term2 = (1.0-y_enc) * np.log(1.0-output)\n",
    "        cost = np.sum(term1 - term2)\n",
    "        return cost\n",
    "\n",
    "    def predict(self, _X):\n",
    "        z_h, a_h, z_h1, a_h1, z_out, a_out = self._forward(_X)\n",
    "        ypred = np.argmax(z_out, axis=1)\n",
    "        return ypred\n",
    "\n",
    "    def fit(self, _X_train, _y_train, _X_valid, _y_valid):\n",
    "        import sys\n",
    "        n_output = np.unique(_y_train).shape[0]  # number of class labels\n",
    "        n_features = _X_train.shape[1]\n",
    "        self.w_out = self.random.normal(loc=0.0, scale=0.1, size=(self.n_hidden, n_output))\n",
    "        self.w_h = self.random.normal(loc=0.0, scale=0.1, size=(n_features, self.n_hidden))\n",
    "        self.w_h1 = self.random.normal(loc=0.0, scale=0.1, size=(self.n_hidden, self.n_hidden))\n",
    "        self.eval_ = {'cost': [], 'train_acc':[], 'valid_acc':[]}\n",
    "        y_train_enc = self.onehot(_y_train, n_output)  # one-hot encode original y\n",
    "        for ei in range(self.epochs):  # Ideally must shuffle at every epoch\n",
    "            indices = np.arange(_X_train.shape[0])\n",
    "            for start_idx in range(0, indices.shape[0] - self.minibatch_size + 1, self.minibatch_size):\n",
    "                batch_idx = indices[start_idx:start_idx + self.minibatch_size]\n",
    "                \n",
    "                z_h, a_h, z_h1, a_h1, z_out, a_out = self._forward(_X_train[batch_idx])  # neural network model\n",
    "                \n",
    "                #back propagation\n",
    "                delta_out = a_out - y_train_enc[batch_idx]  # Eq 5 error of the output layer\n",
    "                sigmoid_derivative_h1 = a_h1 * (1.0-a_h1)  # Eq 3 derivative of second layer\n",
    "                delta_h1 = (np.dot(delta_out, self.w_out.T) * sigmoid_derivative_h1)  # Eq 6 layer error matrix of the second hidden layer\n",
    "                sigmoid_derivative_h = a_h * (1.0-a_h)\n",
    "                delta_h = (np.dot(delta_h1, self.w_h1.T) * sigmoid_derivative_h)\n",
    "                \n",
    "                grad_w_out = np.dot(a_h1.T, delta_out)  # Eq 7\n",
    "                grad_w_h1 = np.dot(a_h.T, delta_h1)  # Eq 8\n",
    "                grad_w_h = np.dot(_X_train[batch_idx].T, delta_h)\n",
    "                \n",
    "                \n",
    "                self.w_out -= self.eta*grad_w_out  # Eq 9\n",
    "                self.w_h -= self.eta*grad_w_h  # Eq 9\n",
    "                self.w_h1 -= self.eta*grad_w_h1\n",
    "\n",
    "            # Evaluation after each epoch during training\n",
    "            z_h, a_h, z_h1, a_h1, z_out, a_out = self._forward(_X_train)\n",
    "            cost = self.compute_cost(y_enc=y_train_enc, output=a_out)\n",
    "            y_train_pred = self.predict(_X_train)  # monitoring training progress through reclassification\n",
    "            y_valid_pred = self.predict(_X_valid)  # monitoring training progress through validation\n",
    "            train_acc = ((np.sum(_y_train == y_train_pred)).astype(float) / _X_train.shape[0])\n",
    "            valid_acc = ((np.sum(_y_valid == y_valid_pred)).astype(float) / _X_valid.shape[0])\n",
    "            sys.stderr.write('\\r%d/%d | Cost: %.2f ' '| Train/Valid Acc.: %.2f%%/%.2f%% '%\n",
    "                (ei+1, self.epochs, cost, train_acc*100, valid_acc*100))\n",
    "            sys.stderr.flush()\n",
    "            \n",
    "            self.eval_['cost'].append(cost)\n",
    "            self.eval_['train_acc'].append(train_acc)\n",
    "            self.eval_['valid_acc'].append(valid_acc)\n",
    "        return self"
   ]
  },
  {
   "cell_type": "code",
   "execution_count": 24,
   "id": "59d478f9-5ec7-4a50-81da-4b200d80cf68",
   "metadata": {},
   "outputs": [
    {
     "name": "stderr",
     "output_type": "stream",
     "text": [
      "300/300 | Cost: 7849.39 | Train/Valid Acc.: 98.05%/95.74%  "
     ]
    }
   ],
   "source": [
    "# Define and fit the neural network\n",
    "nn2 = NeuralNetMLP2(n_hidden=20, epochs=300, eta=0.0005, minibatch_size=100, seed=1)\n",
    "\n",
    "nn2.fit(X_train_mnist[:55000], y_train_mnist[:55000], X_train_mnist[55000:], y_train_mnist[55000:]) ;"
   ]
  },
  {
   "cell_type": "code",
   "execution_count": 25,
   "id": "fae19f44-0b95-48af-8453-405258a5c165",
   "metadata": {},
   "outputs": [
    {
     "name": "stdout",
     "output_type": "stream",
     "text": [
      "Accuracy= 94.82%\n",
      "[[ 957    0    1    1    0    3    7    3    6    2]\n",
      " [   0 1106    7    1    0    1    3    3   14    0]\n",
      " [  10    2  971   11    5    0    3    9   21    0]\n",
      " [   0    1   18  954    0   13    0   11   10    3]\n",
      " [   2    0    4    2  936    0    7    5    1   25]\n",
      " [   8    1    1   29    3  820   11    3   11    5]\n",
      " [   9    3    6    0   10   10  918    0    2    0]\n",
      " [   1    5   11   14   11    0    0  976    2    8]\n",
      " [   5    2    6   16    6    7    5    7  913    7]\n",
      " [   5    4    1   14   36    1    1   10    6  931]]\n"
     ]
    }
   ],
   "source": [
    "y_pred2 = nn2.predict(X_test_mnist)\n",
    "\n",
    "print(f'Accuracy= {get_acc(y_test_mnist, y_pred2)*100:.2f}%')\n",
    "print(confusion_matrix(y_test_mnist, y_pred2))"
   ]
  },
  {
   "cell_type": "code",
   "execution_count": 29,
   "id": "6bb5ecac-3601-471a-bb82-60d13b705af9",
   "metadata": {
    "tags": []
   },
   "outputs": [
    {
     "data": {
      "image/png": "[encoded data removed]",
      "text/plain": [
       "<Figure size 432x288 with 1 Axes>"
      ]
     },
     "metadata": {
      "needs_background": "light"
     },
     "output_type": "display_data"
    }
   ],
   "source": [
    "import matplotlib.pyplot as plt\n",
    "plt.plot(range(nn2.epochs), nn2.eval_['cost'])\n",
    "plt.plot(range(nn.epochs), nn.eval_['cost'])\n",
    "plt.ylabel('Cost')\n",
    "plt.xlabel('Epochs')\n",
    "plt.legend(['nn2', 'nn'])\n",
    "plt.show()"
   ]
  },
  {
   "cell_type": "code",
   "execution_count": 34,
   "id": "383b6699-c2a6-46fa-8002-291d29ac3147",
   "metadata": {
    "tags": []
   },
   "outputs": [
    {
     "data": {
      "image/png": "[encoded data removed]",
      "text/plain": [
       "<Figure size 432x288 with 1 Axes>"
      ]
     },
     "metadata": {
      "needs_background": "light"
     },
     "output_type": "display_data"
    }
   ],
   "source": [
    "plt.plot(range(nn2.epochs), nn2.eval_['train_acc'], label='nn2 training', color='blue')\n",
    "plt.plot(range(nn2.epochs), nn2.eval_['valid_acc'], label='nn2 validation', linestyle='--', color='blue')\n",
    "plt.plot(range(nn.epochs), nn.eval_['train_acc'], label='nn training', color='orange')\n",
    "plt.plot(range(nn.epochs), nn.eval_['valid_acc'], label='nn validation', linestyle='--', color='orange')\n",
    "plt.ylabel('Accuracy')\n",
    "plt.xlabel('Epochs')\n",
    "plt.legend(loc='lower right')\n",
    "plt.show()\n"
   ]
  },
  {
   "cell_type": "markdown",
   "id": "a4c4037f-46d7-4ab2-9ec2-746869326718",
   "metadata": {},
   "source": [
    "A higher accuracy is achieved with the new 2 hidden layer MLP (deep neural network) in contrast to a 1 hidden layer MLP. \n",
    "\n",
    "The cost of the deep neural network after training is completed is also significantly lower.\n",
    "\n",
    "The deep neural network does however, require more training to achieve optimal performance in contrast to a 1 hidden layer MLP.\n",
    "\n",
    "We can improve on our current system by addressing bias in each layer, however this would require a different form of implementation."
   ]
  },
  {
   "cell_type": "code",
   "execution_count": null,
   "id": "fa4fe472-fa39-43c9-9b13-ed903de4e590",
   "metadata": {},
   "outputs": [],
   "source": []
  }
 ],
 "metadata": {
  "kernelspec": {
   "display_name": "Python 3 (ipykernel)",
   "language": "python",
   "name": "python3"
  },
  "language_info": {
   "codemirror_mode": {
    "name": "ipython",
    "version": 3
   },
   "file_extension": ".py",
   "mimetype": "text/x-python",
   "name": "python",
   "nbconvert_exporter": "python",
   "pygments_lexer": "ipython3",
   "version": "3.11.4"
  }
 },
 "nbformat": 4,
 "nbformat_minor": 5
}
